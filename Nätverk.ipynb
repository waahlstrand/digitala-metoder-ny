{
 "cells": [
  {
   "cell_type": "markdown",
   "metadata": {},
   "source": [
    "# Nätverk\n",
    "I detta avsnitt ska vi behandla vad som vanligen kallas *nätverk* (eng. *network*), samt senare mer specifikt sociala nätverk. Vi skall också översiktligt titta på vilka typer av kvalitativa och kvantitativa analyser som kan genomföras på nätverk.\n",
    "\n",
    "## Vad är ett nätverk?\n",
    "\n",
    "Vi kan börja med en form av tentativ definition av nätverk. Nätverk är en typ av specialfall av vad som inom matematiken vanligtvis kallas för en *graf*. Den formella definitionen av en graf är en uppsättning noder $V$ och kanter $E$. Vi kan således skriva \n",
    "$$ G = (V, E). $$\n",
    "där beteckningarna $V, E$ kommer från engelskans *vertex* respective *edge*.\n",
    "\n",
    "Nätverk utgör därför ofta en *modell* för att beskriva relationer hos data. Det är viktigt att inse att verkliga fenomen och dess data inte nödvändigtvis kommer från ett nätverk, utan att vi använder nätverksstrukturer för att beskriva dem. Det är därför skillnad på exempelvis vänskapsrelationer inom sociala medier (som Facebook, Twitter), vilka är explicit konstruerade som nätverk, samt verkliga vänskapsrelationer, som kan approximeras till sociala nätverk. \n"
   ]
  },
  {
   "cell_type": "markdown",
   "metadata": {},
   "source": [
    "## Grundläggande exempel\n",
    "Vi börjar med ett exempel för att illustrera med en grundläggande, fördefinierad nätverksgraf. Vi kan välja att visualisera grafens egenskaper $V$ och $E$ som cirklar respektive linjer som sammankopplar cirklarna. Vi hade kunnat välja en långt mer esoterisk visualisering av grafen, men detta är helt klart den vanligaste."
   ]
  },
  {
   "cell_type": "code",
   "execution_count": 1,
   "metadata": {},
   "outputs": [
    {
     "data": {
      "text/html": [
       "\n",
       "    <div class=\"bk-root\">\n",
       "        <a href=\"https://bokeh.org\" target=\"_blank\" class=\"bk-logo bk-logo-small bk-logo-notebook\"></a>\n",
       "        <span id=\"1002\">Loading BokehJS ...</span>\n",
       "    </div>"
      ]
     },
     "metadata": {},
     "output_type": "display_data"
    },
    {
     "data": {
      "application/javascript": [
       "\n",
       "(function(root) {\n",
       "  function now() {\n",
       "    return new Date();\n",
       "  }\n",
       "\n",
       "  var force = true;\n",
       "\n",
       "  if (typeof root._bokeh_onload_callbacks === \"undefined\" || force === true) {\n",
       "    root._bokeh_onload_callbacks = [];\n",
       "    root._bokeh_is_loading = undefined;\n",
       "  }\n",
       "\n",
       "  var JS_MIME_TYPE = 'application/javascript';\n",
       "  var HTML_MIME_TYPE = 'text/html';\n",
       "  var EXEC_MIME_TYPE = 'application/vnd.bokehjs_exec.v0+json';\n",
       "  var CLASS_NAME = 'output_bokeh rendered_html';\n",
       "\n",
       "  /**\n",
       "   * Render data to the DOM node\n",
       "   */\n",
       "  function render(props, node) {\n",
       "    var script = document.createElement(\"script\");\n",
       "    node.appendChild(script);\n",
       "  }\n",
       "\n",
       "  /**\n",
       "   * Handle when an output is cleared or removed\n",
       "   */\n",
       "  function handleClearOutput(event, handle) {\n",
       "    var cell = handle.cell;\n",
       "\n",
       "    var id = cell.output_area._bokeh_element_id;\n",
       "    var server_id = cell.output_area._bokeh_server_id;\n",
       "    // Clean up Bokeh references\n",
       "    if (id != null && id in Bokeh.index) {\n",
       "      Bokeh.index[id].model.document.clear();\n",
       "      delete Bokeh.index[id];\n",
       "    }\n",
       "\n",
       "    if (server_id !== undefined) {\n",
       "      // Clean up Bokeh references\n",
       "      var cmd = \"from bokeh.io.state import curstate; print(curstate().uuid_to_server['\" + server_id + \"'].get_sessions()[0].document.roots[0]._id)\";\n",
       "      cell.notebook.kernel.execute(cmd, {\n",
       "        iopub: {\n",
       "          output: function(msg) {\n",
       "            var id = msg.content.text.trim();\n",
       "            if (id in Bokeh.index) {\n",
       "              Bokeh.index[id].model.document.clear();\n",
       "              delete Bokeh.index[id];\n",
       "            }\n",
       "          }\n",
       "        }\n",
       "      });\n",
       "      // Destroy server and session\n",
       "      var cmd = \"import bokeh.io.notebook as ion; ion.destroy_server('\" + server_id + \"')\";\n",
       "      cell.notebook.kernel.execute(cmd);\n",
       "    }\n",
       "  }\n",
       "\n",
       "  /**\n",
       "   * Handle when a new output is added\n",
       "   */\n",
       "  function handleAddOutput(event, handle) {\n",
       "    var output_area = handle.output_area;\n",
       "    var output = handle.output;\n",
       "\n",
       "    // limit handleAddOutput to display_data with EXEC_MIME_TYPE content only\n",
       "    if ((output.output_type != \"display_data\") || (!Object.prototype.hasOwnProperty.call(output.data, EXEC_MIME_TYPE))) {\n",
       "      return\n",
       "    }\n",
       "\n",
       "    var toinsert = output_area.element.find(\".\" + CLASS_NAME.split(' ')[0]);\n",
       "\n",
       "    if (output.metadata[EXEC_MIME_TYPE][\"id\"] !== undefined) {\n",
       "      toinsert[toinsert.length - 1].firstChild.textContent = output.data[JS_MIME_TYPE];\n",
       "      // store reference to embed id on output_area\n",
       "      output_area._bokeh_element_id = output.metadata[EXEC_MIME_TYPE][\"id\"];\n",
       "    }\n",
       "    if (output.metadata[EXEC_MIME_TYPE][\"server_id\"] !== undefined) {\n",
       "      var bk_div = document.createElement(\"div\");\n",
       "      bk_div.innerHTML = output.data[HTML_MIME_TYPE];\n",
       "      var script_attrs = bk_div.children[0].attributes;\n",
       "      for (var i = 0; i < script_attrs.length; i++) {\n",
       "        toinsert[toinsert.length - 1].firstChild.setAttribute(script_attrs[i].name, script_attrs[i].value);\n",
       "        toinsert[toinsert.length - 1].firstChild.textContent = bk_div.children[0].textContent\n",
       "      }\n",
       "      // store reference to server id on output_area\n",
       "      output_area._bokeh_server_id = output.metadata[EXEC_MIME_TYPE][\"server_id\"];\n",
       "    }\n",
       "  }\n",
       "\n",
       "  function register_renderer(events, OutputArea) {\n",
       "\n",
       "    function append_mime(data, metadata, element) {\n",
       "      // create a DOM node to render to\n",
       "      var toinsert = this.create_output_subarea(\n",
       "        metadata,\n",
       "        CLASS_NAME,\n",
       "        EXEC_MIME_TYPE\n",
       "      );\n",
       "      this.keyboard_manager.register_events(toinsert);\n",
       "      // Render to node\n",
       "      var props = {data: data, metadata: metadata[EXEC_MIME_TYPE]};\n",
       "      render(props, toinsert[toinsert.length - 1]);\n",
       "      element.append(toinsert);\n",
       "      return toinsert\n",
       "    }\n",
       "\n",
       "    /* Handle when an output is cleared or removed */\n",
       "    events.on('clear_output.CodeCell', handleClearOutput);\n",
       "    events.on('delete.Cell', handleClearOutput);\n",
       "\n",
       "    /* Handle when a new output is added */\n",
       "    events.on('output_added.OutputArea', handleAddOutput);\n",
       "\n",
       "    /**\n",
       "     * Register the mime type and append_mime function with output_area\n",
       "     */\n",
       "    OutputArea.prototype.register_mime_type(EXEC_MIME_TYPE, append_mime, {\n",
       "      /* Is output safe? */\n",
       "      safe: true,\n",
       "      /* Index of renderer in `output_area.display_order` */\n",
       "      index: 0\n",
       "    });\n",
       "  }\n",
       "\n",
       "  // register the mime type if in Jupyter Notebook environment and previously unregistered\n",
       "  if (root.Jupyter !== undefined) {\n",
       "    var events = require('base/js/events');\n",
       "    var OutputArea = require('notebook/js/outputarea').OutputArea;\n",
       "\n",
       "    if (OutputArea.prototype.mime_types().indexOf(EXEC_MIME_TYPE) == -1) {\n",
       "      register_renderer(events, OutputArea);\n",
       "    }\n",
       "  }\n",
       "\n",
       "  \n",
       "  if (typeof (root._bokeh_timeout) === \"undefined\" || force === true) {\n",
       "    root._bokeh_timeout = Date.now() + 5000;\n",
       "    root._bokeh_failed_load = false;\n",
       "  }\n",
       "\n",
       "  var NB_LOAD_WARNING = {'data': {'text/html':\n",
       "     \"<div style='background-color: #fdd'>\\n\"+\n",
       "     \"<p>\\n\"+\n",
       "     \"BokehJS does not appear to have successfully loaded. If loading BokehJS from CDN, this \\n\"+\n",
       "     \"may be due to a slow or bad network connection. Possible fixes:\\n\"+\n",
       "     \"</p>\\n\"+\n",
       "     \"<ul>\\n\"+\n",
       "     \"<li>re-rerun `output_notebook()` to attempt to load from CDN again, or</li>\\n\"+\n",
       "     \"<li>use INLINE resources instead, as so:</li>\\n\"+\n",
       "     \"</ul>\\n\"+\n",
       "     \"<code>\\n\"+\n",
       "     \"from bokeh.resources import INLINE\\n\"+\n",
       "     \"output_notebook(resources=INLINE)\\n\"+\n",
       "     \"</code>\\n\"+\n",
       "     \"</div>\"}};\n",
       "\n",
       "  function display_loaded() {\n",
       "    var el = document.getElementById(\"1002\");\n",
       "    if (el != null) {\n",
       "      el.textContent = \"BokehJS is loading...\";\n",
       "    }\n",
       "    if (root.Bokeh !== undefined) {\n",
       "      if (el != null) {\n",
       "        el.textContent = \"BokehJS \" + root.Bokeh.version + \" successfully loaded.\";\n",
       "      }\n",
       "    } else if (Date.now() < root._bokeh_timeout) {\n",
       "      setTimeout(display_loaded, 100)\n",
       "    }\n",
       "  }\n",
       "\n",
       "\n",
       "  function run_callbacks() {\n",
       "    try {\n",
       "      root._bokeh_onload_callbacks.forEach(function(callback) {\n",
       "        if (callback != null)\n",
       "          callback();\n",
       "      });\n",
       "    } finally {\n",
       "      delete root._bokeh_onload_callbacks\n",
       "    }\n",
       "    console.debug(\"Bokeh: all callbacks have finished\");\n",
       "  }\n",
       "\n",
       "  function load_libs(css_urls, js_urls, callback) {\n",
       "    if (css_urls == null) css_urls = [];\n",
       "    if (js_urls == null) js_urls = [];\n",
       "\n",
       "    root._bokeh_onload_callbacks.push(callback);\n",
       "    if (root._bokeh_is_loading > 0) {\n",
       "      console.debug(\"Bokeh: BokehJS is being loaded, scheduling callback at\", now());\n",
       "      return null;\n",
       "    }\n",
       "    if (js_urls == null || js_urls.length === 0) {\n",
       "      run_callbacks();\n",
       "      return null;\n",
       "    }\n",
       "    console.debug(\"Bokeh: BokehJS not loaded, scheduling load and callback at\", now());\n",
       "    root._bokeh_is_loading = css_urls.length + js_urls.length;\n",
       "\n",
       "    function on_load() {\n",
       "      root._bokeh_is_loading--;\n",
       "      if (root._bokeh_is_loading === 0) {\n",
       "        console.debug(\"Bokeh: all BokehJS libraries/stylesheets loaded\");\n",
       "        run_callbacks()\n",
       "      }\n",
       "    }\n",
       "\n",
       "    function on_error(url) {\n",
       "      console.error(\"failed to load \" + url);\n",
       "    }\n",
       "\n",
       "    for (let i = 0; i < css_urls.length; i++) {\n",
       "      const url = css_urls[i];\n",
       "      const element = document.createElement(\"link\");\n",
       "      element.onload = on_load;\n",
       "      element.onerror = on_error.bind(null, url);\n",
       "      element.rel = \"stylesheet\";\n",
       "      element.type = \"text/css\";\n",
       "      element.href = url;\n",
       "      console.debug(\"Bokeh: injecting link tag for BokehJS stylesheet: \", url);\n",
       "      document.body.appendChild(element);\n",
       "    }\n",
       "\n",
       "    const hashes = {\"https://cdn.bokeh.org/bokeh/release/bokeh-2.3.1.min.js\": \"YF85VygJKMVnHE+lLv2AM93Vbstr0yo2TbIu5v8se5Rq3UQAUmcuh4aaJwNlpKwa\", \"https://cdn.bokeh.org/bokeh/release/bokeh-widgets-2.3.1.min.js\": \"KKuas3gevv3PvrlkyCMzffFeaMq5we/a2QsP5AUoS3mJ0jmaCL7jirFJN3GoE/lM\", \"https://cdn.bokeh.org/bokeh/release/bokeh-tables-2.3.1.min.js\": \"MK/uFc3YT18pkvvXRl66tTHjP0/dxoSH2e/eiNMFIguKlun2+WVqaPTWmUy/zvh4\"};\n",
       "\n",
       "    for (let i = 0; i < js_urls.length; i++) {\n",
       "      const url = js_urls[i];\n",
       "      const element = document.createElement('script');\n",
       "      element.onload = on_load;\n",
       "      element.onerror = on_error.bind(null, url);\n",
       "      element.async = false;\n",
       "      element.src = url;\n",
       "      if (url in hashes) {\n",
       "        element.crossOrigin = \"anonymous\";\n",
       "        element.integrity = \"sha384-\" + hashes[url];\n",
       "      }\n",
       "      console.debug(\"Bokeh: injecting script tag for BokehJS library: \", url);\n",
       "      document.head.appendChild(element);\n",
       "    }\n",
       "  };\n",
       "\n",
       "  function inject_raw_css(css) {\n",
       "    const element = document.createElement(\"style\");\n",
       "    element.appendChild(document.createTextNode(css));\n",
       "    document.body.appendChild(element);\n",
       "  }\n",
       "\n",
       "  \n",
       "  var js_urls = [\"https://cdn.bokeh.org/bokeh/release/bokeh-2.3.1.min.js\", \"https://cdn.bokeh.org/bokeh/release/bokeh-widgets-2.3.1.min.js\", \"https://cdn.bokeh.org/bokeh/release/bokeh-tables-2.3.1.min.js\"];\n",
       "  var css_urls = [];\n",
       "  \n",
       "\n",
       "  var inline_js = [\n",
       "    function(Bokeh) {\n",
       "      Bokeh.set_log_level(\"info\");\n",
       "    },\n",
       "    function(Bokeh) {\n",
       "    \n",
       "    \n",
       "    }\n",
       "  ];\n",
       "\n",
       "  function run_inline_js() {\n",
       "    \n",
       "    if (root.Bokeh !== undefined || force === true) {\n",
       "      \n",
       "    for (var i = 0; i < inline_js.length; i++) {\n",
       "      inline_js[i].call(root, root.Bokeh);\n",
       "    }\n",
       "    if (force === true) {\n",
       "        display_loaded();\n",
       "      }} else if (Date.now() < root._bokeh_timeout) {\n",
       "      setTimeout(run_inline_js, 100);\n",
       "    } else if (!root._bokeh_failed_load) {\n",
       "      console.log(\"Bokeh: BokehJS failed to load within specified timeout.\");\n",
       "      root._bokeh_failed_load = true;\n",
       "    } else if (force !== true) {\n",
       "      var cell = $(document.getElementById(\"1002\")).parents('.cell').data().cell;\n",
       "      cell.output_area.append_execute_result(NB_LOAD_WARNING)\n",
       "    }\n",
       "\n",
       "  }\n",
       "\n",
       "  if (root._bokeh_is_loading === 0) {\n",
       "    console.debug(\"Bokeh: BokehJS loaded, going straight to plotting\");\n",
       "    run_inline_js();\n",
       "  } else {\n",
       "    load_libs(css_urls, js_urls, function() {\n",
       "      console.debug(\"Bokeh: BokehJS plotting callback run at\", now());\n",
       "      run_inline_js();\n",
       "    });\n",
       "  }\n",
       "}(window));"
      ],
      "application/vnd.bokehjs_load.v0+json": "\n(function(root) {\n  function now() {\n    return new Date();\n  }\n\n  var force = true;\n\n  if (typeof root._bokeh_onload_callbacks === \"undefined\" || force === true) {\n    root._bokeh_onload_callbacks = [];\n    root._bokeh_is_loading = undefined;\n  }\n\n  \n\n  \n  if (typeof (root._bokeh_timeout) === \"undefined\" || force === true) {\n    root._bokeh_timeout = Date.now() + 5000;\n    root._bokeh_failed_load = false;\n  }\n\n  var NB_LOAD_WARNING = {'data': {'text/html':\n     \"<div style='background-color: #fdd'>\\n\"+\n     \"<p>\\n\"+\n     \"BokehJS does not appear to have successfully loaded. If loading BokehJS from CDN, this \\n\"+\n     \"may be due to a slow or bad network connection. Possible fixes:\\n\"+\n     \"</p>\\n\"+\n     \"<ul>\\n\"+\n     \"<li>re-rerun `output_notebook()` to attempt to load from CDN again, or</li>\\n\"+\n     \"<li>use INLINE resources instead, as so:</li>\\n\"+\n     \"</ul>\\n\"+\n     \"<code>\\n\"+\n     \"from bokeh.resources import INLINE\\n\"+\n     \"output_notebook(resources=INLINE)\\n\"+\n     \"</code>\\n\"+\n     \"</div>\"}};\n\n  function display_loaded() {\n    var el = document.getElementById(\"1002\");\n    if (el != null) {\n      el.textContent = \"BokehJS is loading...\";\n    }\n    if (root.Bokeh !== undefined) {\n      if (el != null) {\n        el.textContent = \"BokehJS \" + root.Bokeh.version + \" successfully loaded.\";\n      }\n    } else if (Date.now() < root._bokeh_timeout) {\n      setTimeout(display_loaded, 100)\n    }\n  }\n\n\n  function run_callbacks() {\n    try {\n      root._bokeh_onload_callbacks.forEach(function(callback) {\n        if (callback != null)\n          callback();\n      });\n    } finally {\n      delete root._bokeh_onload_callbacks\n    }\n    console.debug(\"Bokeh: all callbacks have finished\");\n  }\n\n  function load_libs(css_urls, js_urls, callback) {\n    if (css_urls == null) css_urls = [];\n    if (js_urls == null) js_urls = [];\n\n    root._bokeh_onload_callbacks.push(callback);\n    if (root._bokeh_is_loading > 0) {\n      console.debug(\"Bokeh: BokehJS is being loaded, scheduling callback at\", now());\n      return null;\n    }\n    if (js_urls == null || js_urls.length === 0) {\n      run_callbacks();\n      return null;\n    }\n    console.debug(\"Bokeh: BokehJS not loaded, scheduling load and callback at\", now());\n    root._bokeh_is_loading = css_urls.length + js_urls.length;\n\n    function on_load() {\n      root._bokeh_is_loading--;\n      if (root._bokeh_is_loading === 0) {\n        console.debug(\"Bokeh: all BokehJS libraries/stylesheets loaded\");\n        run_callbacks()\n      }\n    }\n\n    function on_error(url) {\n      console.error(\"failed to load \" + url);\n    }\n\n    for (let i = 0; i < css_urls.length; i++) {\n      const url = css_urls[i];\n      const element = document.createElement(\"link\");\n      element.onload = on_load;\n      element.onerror = on_error.bind(null, url);\n      element.rel = \"stylesheet\";\n      element.type = \"text/css\";\n      element.href = url;\n      console.debug(\"Bokeh: injecting link tag for BokehJS stylesheet: \", url);\n      document.body.appendChild(element);\n    }\n\n    const hashes = {\"https://cdn.bokeh.org/bokeh/release/bokeh-2.3.1.min.js\": \"YF85VygJKMVnHE+lLv2AM93Vbstr0yo2TbIu5v8se5Rq3UQAUmcuh4aaJwNlpKwa\", \"https://cdn.bokeh.org/bokeh/release/bokeh-widgets-2.3.1.min.js\": \"KKuas3gevv3PvrlkyCMzffFeaMq5we/a2QsP5AUoS3mJ0jmaCL7jirFJN3GoE/lM\", \"https://cdn.bokeh.org/bokeh/release/bokeh-tables-2.3.1.min.js\": \"MK/uFc3YT18pkvvXRl66tTHjP0/dxoSH2e/eiNMFIguKlun2+WVqaPTWmUy/zvh4\"};\n\n    for (let i = 0; i < js_urls.length; i++) {\n      const url = js_urls[i];\n      const element = document.createElement('script');\n      element.onload = on_load;\n      element.onerror = on_error.bind(null, url);\n      element.async = false;\n      element.src = url;\n      if (url in hashes) {\n        element.crossOrigin = \"anonymous\";\n        element.integrity = \"sha384-\" + hashes[url];\n      }\n      console.debug(\"Bokeh: injecting script tag for BokehJS library: \", url);\n      document.head.appendChild(element);\n    }\n  };\n\n  function inject_raw_css(css) {\n    const element = document.createElement(\"style\");\n    element.appendChild(document.createTextNode(css));\n    document.body.appendChild(element);\n  }\n\n  \n  var js_urls = [\"https://cdn.bokeh.org/bokeh/release/bokeh-2.3.1.min.js\", \"https://cdn.bokeh.org/bokeh/release/bokeh-widgets-2.3.1.min.js\", \"https://cdn.bokeh.org/bokeh/release/bokeh-tables-2.3.1.min.js\"];\n  var css_urls = [];\n  \n\n  var inline_js = [\n    function(Bokeh) {\n      Bokeh.set_log_level(\"info\");\n    },\n    function(Bokeh) {\n    \n    \n    }\n  ];\n\n  function run_inline_js() {\n    \n    if (root.Bokeh !== undefined || force === true) {\n      \n    for (var i = 0; i < inline_js.length; i++) {\n      inline_js[i].call(root, root.Bokeh);\n    }\n    if (force === true) {\n        display_loaded();\n      }} else if (Date.now() < root._bokeh_timeout) {\n      setTimeout(run_inline_js, 100);\n    } else if (!root._bokeh_failed_load) {\n      console.log(\"Bokeh: BokehJS failed to load within specified timeout.\");\n      root._bokeh_failed_load = true;\n    } else if (force !== true) {\n      var cell = $(document.getElementById(\"1002\")).parents('.cell').data().cell;\n      cell.output_area.append_execute_result(NB_LOAD_WARNING)\n    }\n\n  }\n\n  if (root._bokeh_is_loading === 0) {\n    console.debug(\"Bokeh: BokehJS loaded, going straight to plotting\");\n    run_inline_js();\n  } else {\n    load_libs(css_urls, js_urls, function() {\n      console.debug(\"Bokeh: BokehJS plotting callback run at\", now());\n      run_inline_js();\n    });\n  }\n}(window));"
     },
     "metadata": {},
     "output_type": "display_data"
    }
   ],
   "source": [
    "from course.network import SAMPLE_NETWORK, Network, pairwise_intersection\n",
    "from course.data import SAMPLE_OBSERVATIONS, CITIES, FLIGHTS, FAMILY, FAMILY_E, BRIDGES_V, BRIDGES_E\n",
    "from course.data import color_from_betweenness_centrality, color_from_degree_centrality, color_from_closeness_centrality\n",
    "import networkx as nx\n",
    "import matplotlib.pyplot as plt\n",
    "from bokeh.layouts import gridplot\n",
    "from bokeh.io import show"
   ]
  },
  {
   "cell_type": "code",
   "execution_count": 2,
   "metadata": {},
   "outputs": [
    {
     "data": {
      "text/html": [
       "\n",
       "\n",
       "\n",
       "\n",
       "\n",
       "\n",
       "  <div class=\"bk-root\" id=\"fbf34063-8b0f-4c32-876d-bf4a03477122\" data-root-id=\"1015\"></div>\n"
      ]
     },
     "metadata": {},
     "output_type": "display_data"
    },
    {
     "data": {
      "application/javascript": [
       "(function(root) {\n",
       "  function embed_document(root) {\n",
       "    \n",
       "  var docs_json = {\"debbbea6-cde7-41e4-ba67-bad01f6517e1\":{\"defs\":[],\"roots\":{\"references\":[{\"attributes\":{\"height\":400,\"renderers\":[{\"id\":\"1003\"}],\"title\":{\"id\":\"1018\"},\"toolbar\":{\"id\":\"1024\"},\"width\":400,\"x_range\":{\"id\":\"1013\"},\"x_scale\":{\"id\":\"1066\"},\"y_range\":{\"id\":\"1014\"},\"y_scale\":{\"id\":\"1065\"}},\"id\":\"1015\",\"type\":\"Plot\"},{\"attributes\":{},\"id\":\"1066\",\"type\":\"LinearScale\"},{\"attributes\":{},\"id\":\"1075\",\"type\":\"UnionRenderers\"},{\"attributes\":{},\"id\":\"1076\",\"type\":\"Selection\"},{\"attributes\":{\"end\":1.1,\"start\":-0.1},\"id\":\"1014\",\"type\":\"Range1d\"},{\"attributes\":{\"end\":1.1,\"start\":-0.1},\"id\":\"1013\",\"type\":\"Range1d\"},{\"attributes\":{\"data_source\":{\"id\":\"1005\"},\"glyph\":{\"id\":\"1029\"},\"hover_glyph\":{\"id\":\"1039\"},\"muted_glyph\":null,\"selection_glyph\":{\"id\":\"1034\"},\"view\":{\"id\":\"1007\"}},\"id\":\"1006\",\"type\":\"GlyphRenderer\"},{\"attributes\":{\"active_multi\":null,\"tools\":[{\"id\":\"1019\"},{\"id\":\"1020\"},{\"id\":\"1021\"},{\"id\":\"1022\"},{\"id\":\"1023\"}]},\"id\":\"1024\",\"type\":\"Toolbar\"},{\"attributes\":{\"fill_alpha\":{\"value\":0.5},\"fill_color\":{\"value\":\"#2b83ba\"},\"size\":{\"value\":15}},\"id\":\"1029\",\"type\":\"Circle\"},{\"attributes\":{},\"id\":\"1023\",\"type\":\"ZoomOutTool\"},{\"attributes\":{\"data\":{\"id\":[1,2,3,4,5,6,7],\"index\":[1,2,3,4,5,6,7]},\"selected\":{\"id\":\"1076\"},\"selection_policy\":{\"id\":\"1075\"}},\"id\":\"1005\",\"type\":\"ColumnDataSource\"},{\"attributes\":{\"callback\":null},\"id\":\"1021\",\"type\":\"TapTool\"},{\"attributes\":{\"edge_renderer\":{\"id\":\"1010\"},\"inspection_policy\":{\"id\":\"1061\"},\"layout_provider\":{\"id\":\"1012\"},\"node_renderer\":{\"id\":\"1006\"},\"selection_policy\":{\"id\":\"1059\"}},\"id\":\"1003\",\"type\":\"GraphRenderer\"},{\"attributes\":{\"data\":{\"end\":[2,3,4,3,4,4,6],\"start\":[1,1,1,2,2,3,5]},\"selected\":{\"id\":\"1078\"},\"selection_policy\":{\"id\":\"1077\"}},\"id\":\"1009\",\"type\":\"ColumnDataSource\"},{\"attributes\":{\"source\":{\"id\":\"1005\"}},\"id\":\"1007\",\"type\":\"CDSView\"},{\"attributes\":{\"fill_color\":{\"value\":\"#abdda4\"},\"size\":{\"value\":15}},\"id\":\"1039\",\"type\":\"Circle\"},{\"attributes\":{\"data_source\":{\"id\":\"1009\"},\"glyph\":{\"id\":\"1044\"},\"hover_glyph\":{\"id\":\"1054\"},\"muted_glyph\":null,\"selection_glyph\":{\"id\":\"1049\"},\"view\":{\"id\":\"1011\"}},\"id\":\"1010\",\"type\":\"GlyphRenderer\"},{\"attributes\":{\"line_color\":{\"value\":\"#fdae61\"},\"line_width\":{\"value\":2}},\"id\":\"1049\",\"type\":\"MultiLine\"},{\"attributes\":{\"graph_layout\":{\"1\":[0.7980328798294067,0.09310589730739594],\"2\":[0.09723129123449326,0.6629816293716431],\"3\":[0.22926130890846252,0.02741001360118389],\"4\":[0.4593678116798401,0.7776945233345032],\"5\":[0.813149631023407,0.17766466736793518],\"6\":[0.2628507614135742,0.21585451066493988],\"7\":[0.5013673901557922,0.05010027438402176]}},\"id\":\"1012\",\"type\":\"StaticLayoutProvider\"},{\"attributes\":{\"line_alpha\":{\"value\":0.5},\"line_color\":{\"value\":\"#CCCCCC\"},\"line_width\":{\"value\":2}},\"id\":\"1044\",\"type\":\"MultiLine\"},{\"attributes\":{\"text\":\"Interactive graph\"},\"id\":\"1018\",\"type\":\"Title\"},{\"attributes\":{\"source\":{\"id\":\"1009\"}},\"id\":\"1011\",\"type\":\"CDSView\"},{\"attributes\":{\"line_color\":{\"value\":\"#abdda4\"},\"line_width\":{\"value\":2}},\"id\":\"1054\",\"type\":\"MultiLine\"},{\"attributes\":{},\"id\":\"1077\",\"type\":\"UnionRenderers\"},{\"attributes\":{},\"id\":\"1078\",\"type\":\"Selection\"},{\"attributes\":{},\"id\":\"1059\",\"type\":\"NodesAndLinkedEdges\"},{\"attributes\":{},\"id\":\"1019\",\"type\":\"PanTool\"},{\"attributes\":{},\"id\":\"1061\",\"type\":\"NodesOnly\"},{\"attributes\":{},\"id\":\"1022\",\"type\":\"ZoomInTool\"},{\"attributes\":{\"callback\":null,\"tooltips\":[[\"id\",\"@id\"]]},\"id\":\"1020\",\"type\":\"HoverTool\"},{\"attributes\":{},\"id\":\"1065\",\"type\":\"LinearScale\"},{\"attributes\":{\"fill_color\":{\"value\":\"#fdae61\"},\"size\":{\"value\":15}},\"id\":\"1034\",\"type\":\"Circle\"}],\"root_ids\":[\"1015\"]},\"title\":\"Bokeh Application\",\"version\":\"2.3.1\"}};\n",
       "  var render_items = [{\"docid\":\"debbbea6-cde7-41e4-ba67-bad01f6517e1\",\"root_ids\":[\"1015\"],\"roots\":{\"1015\":\"fbf34063-8b0f-4c32-876d-bf4a03477122\"}}];\n",
       "  root.Bokeh.embed.embed_items_notebook(docs_json, render_items);\n",
       "\n",
       "  }\n",
       "  if (root.Bokeh !== undefined) {\n",
       "    embed_document(root);\n",
       "  } else {\n",
       "    var attempts = 0;\n",
       "    var timer = setInterval(function(root) {\n",
       "      if (root.Bokeh !== undefined) {\n",
       "        clearInterval(timer);\n",
       "        embed_document(root);\n",
       "      } else {\n",
       "        attempts++;\n",
       "        if (attempts > 100) {\n",
       "          clearInterval(timer);\n",
       "          console.log(\"Bokeh: ERROR: Unable to run BokehJS code because BokehJS library is missing\");\n",
       "        }\n",
       "      }\n",
       "    }, 10, root)\n",
       "  }\n",
       "})(window);"
      ],
      "application/vnd.bokehjs_exec.v0+json": ""
     },
     "metadata": {
      "application/vnd.bokehjs_exec.v0+json": {
       "id": "1015"
      }
     },
     "output_type": "display_data"
    }
   ],
   "source": [
    "G = SAMPLE_NETWORK\n",
    "show(G.plot())"
   ]
  },
  {
   "cell_type": "markdown",
   "metadata": {},
   "source": [
    "I detta fall symboliserar noderna och kanter ingenting. Det är endast en struktur, liksom en kvadrat, rektangel eller polygon i geometri.\n",
    "\n",
    "Vår graf är enkel och består av 7 noder och 6 kanter. En av noderna saknar helt kanter till övriga noder. Vi kan också se att nätverket består av totalt 3 *undergrafer* (eng. *subgraphs*), inklusive den graf bestående av endast en nod.\n",
    "\n",
    "Om man kör om cellen för att visualisera grafen märks dock något anmärkningsvärt - positioneringen, placeringen av nätverkets noder är slumpmässig! Detta är oerhört viktigt för förståelsen av nätverk: **Positionen för noderna i en graf är betydelselös**, och tillhör inte definitionen! Det är helt enkelt samma graf oberoende vilken $(x,y)$-position noderna har. Genom att köra om cellen ändras inte nätverkets struktur, bara var noderna ligger på skärmen.\n",
    "\n"
   ]
  },
  {
   "cell_type": "markdown",
   "metadata": {},
   "source": [
    "## Design av grafer\n",
    "Vi kan nu dristas designa våra egna grafer. Vi ska använda oss av ett standardformat för nätverk, som lätt går att översätta i andra tänkbara format.\n",
    "\n",
    "I Python kan vi lista noder på följande vis:\n"
   ]
  },
  {
   "cell_type": "code",
   "execution_count": 3,
   "metadata": {},
   "outputs": [],
   "source": [
    "V = [\n",
    "    {'id': 1}, # Första noden\n",
    "    {'id': 2}, # Andra noden\n",
    "    {'id': 3}, # o.s.v...\n",
    "    {'id': 4}\n",
    "]"
   ]
  },
  {
   "cell_type": "markdown",
   "metadata": {},
   "source": [
    "Där varje nod har ett unikt attribut ``id`` för att skilja dem åt. Det är oerhört viktigt att nodernas id är unikt för att grafen ska vara väldefinierad.\n",
    "\n",
    "Om vi vill lägga till kanter mellan noder, ger vi skapar vi på samma sätt en lista. Varje kant har ett attribut ``from`` och ett attribut ``to`` som refererar till ``id`` hos de noder kanten förbinder. Vi skapar en graf där en nod (``id=1``) har förbindelser till alla övriga noder."
   ]
  },
  {
   "cell_type": "code",
   "execution_count": 4,
   "metadata": {},
   "outputs": [],
   "source": [
    "E = [\n",
    "    {'from': 1, 'to': 2}, # Eller {'to': 2, 'from': 1}, ordningen spelar ingen roll.\n",
    "    {'from': 1, 'to': 3},\n",
    "    {'from': 1, 'to': 4}\n",
    "]"
   ]
  },
  {
   "cell_type": "code",
   "execution_count": 5,
   "metadata": {},
   "outputs": [
    {
     "data": {
      "text/html": [
       "\n",
       "\n",
       "\n",
       "\n",
       "\n",
       "\n",
       "  <div class=\"bk-root\" id=\"36bb8d64-18ee-47ca-86a8-2c3ea48f7af1\" data-root-id=\"1191\"></div>\n"
      ]
     },
     "metadata": {},
     "output_type": "display_data"
    },
    {
     "data": {
      "application/javascript": [
       "(function(root) {\n",
       "  function embed_document(root) {\n",
       "    \n",
       "  var docs_json = {\"bb338627-ea9f-4bfe-bcf7-5ca59a65a29a\":{\"defs\":[],\"roots\":{\"references\":[{\"attributes\":{\"height\":400,\"renderers\":[{\"id\":\"1179\"}],\"title\":{\"id\":\"1194\"},\"toolbar\":{\"id\":\"1200\"},\"width\":400,\"x_range\":{\"id\":\"1189\"},\"x_scale\":{\"id\":\"1258\"},\"y_range\":{\"id\":\"1190\"},\"y_scale\":{\"id\":\"1257\"}},\"id\":\"1191\",\"type\":\"Plot\"},{\"attributes\":{\"callback\":null,\"tooltips\":[[\"id\",\"@id\"]]},\"id\":\"1196\",\"type\":\"HoverTool\"},{\"attributes\":{},\"id\":\"1268\",\"type\":\"Selection\"},{\"attributes\":{},\"id\":\"1237\",\"type\":\"NodesOnly\"},{\"attributes\":{\"source\":{\"id\":\"1185\"}},\"id\":\"1187\",\"type\":\"CDSView\"},{\"attributes\":{\"edge_renderer\":{\"id\":\"1186\"},\"inspection_policy\":{\"id\":\"1237\"},\"layout_provider\":{\"id\":\"1188\"},\"node_renderer\":{\"id\":\"1182\"},\"selection_policy\":{\"id\":\"1235\"}},\"id\":\"1179\",\"type\":\"GraphRenderer\"},{\"attributes\":{\"data_source\":{\"id\":\"1185\"},\"glyph\":{\"id\":\"1220\"},\"hover_glyph\":{\"id\":\"1230\"},\"muted_glyph\":null,\"selection_glyph\":{\"id\":\"1225\"},\"view\":{\"id\":\"1187\"}},\"id\":\"1186\",\"type\":\"GlyphRenderer\"},{\"attributes\":{\"fill_color\":{\"value\":\"#fdae61\"},\"size\":{\"value\":15}},\"id\":\"1210\",\"type\":\"Circle\"},{\"attributes\":{\"end\":1.1,\"start\":-0.1},\"id\":\"1190\",\"type\":\"Range1d\"},{\"attributes\":{\"graph_layout\":{\"1\":[0.8357089757919312,0.9981976747512817],\"2\":[0.1394576132297516,0.6290795207023621],\"3\":[0.6130937933921814,0.4153101146221161],\"4\":[0.10823391377925873,0.45557940006256104]}},\"id\":\"1188\",\"type\":\"StaticLayoutProvider\"},{\"attributes\":{},\"id\":\"1257\",\"type\":\"LinearScale\"},{\"attributes\":{},\"id\":\"1269\",\"type\":\"UnionRenderers\"},{\"attributes\":{},\"id\":\"1270\",\"type\":\"Selection\"},{\"attributes\":{},\"id\":\"1258\",\"type\":\"LinearScale\"},{\"attributes\":{\"line_color\":{\"value\":\"#abdda4\"},\"line_width\":{\"value\":2}},\"id\":\"1230\",\"type\":\"MultiLine\"},{\"attributes\":{\"data_source\":{\"id\":\"1181\"},\"glyph\":{\"id\":\"1205\"},\"hover_glyph\":{\"id\":\"1215\"},\"muted_glyph\":null,\"selection_glyph\":{\"id\":\"1210\"},\"view\":{\"id\":\"1183\"}},\"id\":\"1182\",\"type\":\"GlyphRenderer\"},{\"attributes\":{\"end\":1.1,\"start\":-0.1},\"id\":\"1189\",\"type\":\"Range1d\"},{\"attributes\":{\"fill_color\":{\"value\":\"#abdda4\"},\"size\":{\"value\":15}},\"id\":\"1215\",\"type\":\"Circle\"},{\"attributes\":{},\"id\":\"1199\",\"type\":\"ZoomOutTool\"},{\"attributes\":{\"line_alpha\":{\"value\":0.5},\"line_color\":{\"value\":\"#CCCCCC\"},\"line_width\":{\"value\":2}},\"id\":\"1220\",\"type\":\"MultiLine\"},{\"attributes\":{\"text\":\"Interactive graph\"},\"id\":\"1194\",\"type\":\"Title\"},{\"attributes\":{},\"id\":\"1198\",\"type\":\"ZoomInTool\"},{\"attributes\":{\"line_color\":{\"value\":\"#fdae61\"},\"line_width\":{\"value\":2}},\"id\":\"1225\",\"type\":\"MultiLine\"},{\"attributes\":{\"fill_alpha\":{\"value\":0.5},\"fill_color\":{\"value\":\"#2b83ba\"},\"size\":{\"value\":15}},\"id\":\"1205\",\"type\":\"Circle\"},{\"attributes\":{\"active_multi\":null,\"tools\":[{\"id\":\"1195\"},{\"id\":\"1196\"},{\"id\":\"1197\"},{\"id\":\"1198\"},{\"id\":\"1199\"}]},\"id\":\"1200\",\"type\":\"Toolbar\"},{\"attributes\":{},\"id\":\"1195\",\"type\":\"PanTool\"},{\"attributes\":{\"source\":{\"id\":\"1181\"}},\"id\":\"1183\",\"type\":\"CDSView\"},{\"attributes\":{\"callback\":null},\"id\":\"1197\",\"type\":\"TapTool\"},{\"attributes\":{\"data\":{\"id\":[1,2,3,4],\"index\":[1,2,3,4]},\"selected\":{\"id\":\"1268\"},\"selection_policy\":{\"id\":\"1267\"}},\"id\":\"1181\",\"type\":\"ColumnDataSource\"},{\"attributes\":{},\"id\":\"1267\",\"type\":\"UnionRenderers\"},{\"attributes\":{},\"id\":\"1235\",\"type\":\"NodesAndLinkedEdges\"},{\"attributes\":{\"data\":{\"end\":[2,3,4],\"start\":[1,1,1]},\"selected\":{\"id\":\"1270\"},\"selection_policy\":{\"id\":\"1269\"}},\"id\":\"1185\",\"type\":\"ColumnDataSource\"}],\"root_ids\":[\"1191\"]},\"title\":\"Bokeh Application\",\"version\":\"2.3.1\"}};\n",
       "  var render_items = [{\"docid\":\"bb338627-ea9f-4bfe-bcf7-5ca59a65a29a\",\"root_ids\":[\"1191\"],\"roots\":{\"1191\":\"36bb8d64-18ee-47ca-86a8-2c3ea48f7af1\"}}];\n",
       "  root.Bokeh.embed.embed_items_notebook(docs_json, render_items);\n",
       "\n",
       "  }\n",
       "  if (root.Bokeh !== undefined) {\n",
       "    embed_document(root);\n",
       "  } else {\n",
       "    var attempts = 0;\n",
       "    var timer = setInterval(function(root) {\n",
       "      if (root.Bokeh !== undefined) {\n",
       "        clearInterval(timer);\n",
       "        embed_document(root);\n",
       "      } else {\n",
       "        attempts++;\n",
       "        if (attempts > 100) {\n",
       "          clearInterval(timer);\n",
       "          console.log(\"Bokeh: ERROR: Unable to run BokehJS code because BokehJS library is missing\");\n",
       "        }\n",
       "      }\n",
       "    }, 10, root)\n",
       "  }\n",
       "})(window);"
      ],
      "application/vnd.bokehjs_exec.v0+json": ""
     },
     "metadata": {
      "application/vnd.bokehjs_exec.v0+json": {
       "id": "1191"
      }
     },
     "output_type": "display_data"
    }
   ],
   "source": [
    "G = Network(V, E) # Definierat som i introduktionen\n",
    "show(G.plot())"
   ]
  },
  {
   "cell_type": "markdown",
   "metadata": {},
   "source": [
    "## Layouts: Nodernas placering\n",
    "Som tidigare förklarat så är nodernas placering inte nödvändig för nätverkets definition: Det har fortfarande samma egenskaper. \n",
    "\n",
    "Ovan tilldelas noderna en slumpmässig position varje gång de visualiseras. Som visualisering blir dock nätverken bristande när de blir oigenkänneliga för människor om de ser olika ut varje iteration. Det vore exempelvis rimligt att noder som delar många kanter borde ligga nära intill varandra.\n",
    "\n",
    "Vi börjar med att själva skapa en så kallad *layout*, att manuellt tilldela noderna attribut ``x`` och ``y``, den horisontella respektive vertikala positionen i planet."
   ]
  },
  {
   "cell_type": "code",
   "execution_count": 6,
   "metadata": {},
   "outputs": [],
   "source": [
    "V = [\n",
    "    {'id': 1, 'x': 0, 'y': 0}, # Första noden\n",
    "    {'id': 2, 'x': 0, 'y': 1}, # Andra noden\n",
    "    {'id': 3, 'x': 1, 'y': 0}, # o.s.v...\n",
    "    {'id': 4, 'x': 1, 'y': 1}\n",
    "]\n",
    "\n",
    "E = [\n",
    "    {'from': 1, 'to': 2}, # Eller {'to': 2, 'from': 1}, ordningen spelar ingen roll.\n",
    "    {'from': 1, 'to': 3},\n",
    "    {'from': 1, 'to': 4}\n",
    "]"
   ]
  },
  {
   "cell_type": "code",
   "execution_count": 7,
   "metadata": {},
   "outputs": [
    {
     "data": {
      "text/html": [
       "\n",
       "\n",
       "\n",
       "\n",
       "\n",
       "\n",
       "  <div class=\"bk-root\" id=\"c6e0409b-6090-4c72-a375-0e240ab10244\" data-root-id=\"1387\"></div>\n"
      ]
     },
     "metadata": {},
     "output_type": "display_data"
    },
    {
     "data": {
      "application/javascript": [
       "(function(root) {\n",
       "  function embed_document(root) {\n",
       "    \n",
       "  var docs_json = {\"f6ad7e7c-cb63-433f-9453-cc6f6a3b93f2\":{\"defs\":[],\"roots\":{\"references\":[{\"attributes\":{\"height\":400,\"renderers\":[{\"id\":\"1371\"}],\"title\":{\"id\":\"1390\"},\"toolbar\":{\"id\":\"1396\"},\"width\":400,\"x_range\":{\"id\":\"1385\"},\"x_scale\":{\"id\":\"1470\"},\"y_range\":{\"id\":\"1386\"},\"y_scale\":{\"id\":\"1469\"}},\"id\":\"1387\",\"type\":\"Plot\"},{\"attributes\":{\"data_source\":{\"id\":\"1373\"},\"glyph\":{\"id\":\"1401\"},\"hover_glyph\":{\"id\":\"1411\"},\"muted_glyph\":null,\"selection_glyph\":{\"id\":\"1406\"},\"view\":{\"id\":\"1375\"}},\"id\":\"1374\",\"type\":\"GlyphRenderer\"},{\"attributes\":{\"data\":{\"id\":[1,2,3,4],\"index\":[1,2,3,4],\"x\":[0,0,1,1],\"y\":[0,1,0,1]},\"selected\":{\"id\":\"1480\"},\"selection_policy\":{\"id\":\"1479\"}},\"id\":\"1373\",\"type\":\"ColumnDataSource\"},{\"attributes\":{\"line_alpha\":{\"value\":0.5},\"line_color\":{\"value\":\"#CCCCCC\"},\"line_width\":{\"value\":2}},\"id\":\"1416\",\"type\":\"MultiLine\"},{\"attributes\":{},\"id\":\"1470\",\"type\":\"LinearScale\"},{\"attributes\":{\"line_color\":{\"value\":\"#fdae61\"},\"line_width\":{\"value\":2}},\"id\":\"1421\",\"type\":\"MultiLine\"},{\"attributes\":{\"edge_renderer\":{\"id\":\"1378\"},\"inspection_policy\":{\"id\":\"1433\"},\"layout_provider\":{\"id\":\"1384\"},\"node_renderer\":{\"id\":\"1374\"},\"selection_policy\":{\"id\":\"1431\"}},\"id\":\"1371\",\"type\":\"GraphRenderer\"},{\"attributes\":{},\"id\":\"1469\",\"type\":\"LinearScale\"},{\"attributes\":{},\"id\":\"1433\",\"type\":\"NodesOnly\"},{\"attributes\":{\"data\":{\"end\":[2,3,4],\"start\":[1,1,1]},\"selected\":{\"id\":\"1482\"},\"selection_policy\":{\"id\":\"1481\"}},\"id\":\"1377\",\"type\":\"ColumnDataSource\"},{\"attributes\":{\"source\":{\"id\":\"1373\"}},\"id\":\"1375\",\"type\":\"CDSView\"},{\"attributes\":{\"callback\":null,\"tooltips\":[[\"id\",\"@id\"],[\"x\",\"@x\"],[\"y\",\"@y\"]]},\"id\":\"1392\",\"type\":\"HoverTool\"},{\"attributes\":{},\"id\":\"1479\",\"type\":\"UnionRenderers\"},{\"attributes\":{},\"id\":\"1480\",\"type\":\"Selection\"},{\"attributes\":{},\"id\":\"1431\",\"type\":\"NodesAndLinkedEdges\"},{\"attributes\":{\"source\":{\"id\":\"1377\"}},\"id\":\"1379\",\"type\":\"CDSView\"},{\"attributes\":{\"data_source\":{\"id\":\"1377\"},\"glyph\":{\"id\":\"1416\"},\"hover_glyph\":{\"id\":\"1426\"},\"muted_glyph\":null,\"selection_glyph\":{\"id\":\"1421\"},\"view\":{\"id\":\"1379\"}},\"id\":\"1378\",\"type\":\"GlyphRenderer\"},{\"attributes\":{},\"id\":\"1395\",\"type\":\"ZoomOutTool\"},{\"attributes\":{\"fill_color\":{\"value\":\"#abdda4\"},\"size\":{\"value\":15}},\"id\":\"1411\",\"type\":\"Circle\"},{\"attributes\":{\"graph_layout\":{\"1\":[0,0],\"2\":[0,1],\"3\":[1,0],\"4\":[1,1]}},\"id\":\"1384\",\"type\":\"StaticLayoutProvider\"},{\"attributes\":{\"end\":1.1,\"start\":-0.1},\"id\":\"1385\",\"type\":\"Range1d\"},{\"attributes\":{\"text\":\"Interactive graph\"},\"id\":\"1390\",\"type\":\"Title\"},{\"attributes\":{\"end\":1.1,\"start\":-0.1},\"id\":\"1386\",\"type\":\"Range1d\"},{\"attributes\":{},\"id\":\"1394\",\"type\":\"ZoomInTool\"},{\"attributes\":{\"fill_alpha\":{\"value\":0.5},\"fill_color\":{\"value\":\"#2b83ba\"},\"size\":{\"value\":15}},\"id\":\"1401\",\"type\":\"Circle\"},{\"attributes\":{},\"id\":\"1391\",\"type\":\"PanTool\"},{\"attributes\":{},\"id\":\"1481\",\"type\":\"UnionRenderers\"},{\"attributes\":{\"active_multi\":null,\"tools\":[{\"id\":\"1391\"},{\"id\":\"1392\"},{\"id\":\"1393\"},{\"id\":\"1394\"},{\"id\":\"1395\"}]},\"id\":\"1396\",\"type\":\"Toolbar\"},{\"attributes\":{},\"id\":\"1482\",\"type\":\"Selection\"},{\"attributes\":{\"callback\":null},\"id\":\"1393\",\"type\":\"TapTool\"},{\"attributes\":{\"line_color\":{\"value\":\"#abdda4\"},\"line_width\":{\"value\":2}},\"id\":\"1426\",\"type\":\"MultiLine\"},{\"attributes\":{\"fill_color\":{\"value\":\"#fdae61\"},\"size\":{\"value\":15}},\"id\":\"1406\",\"type\":\"Circle\"}],\"root_ids\":[\"1387\"]},\"title\":\"Bokeh Application\",\"version\":\"2.3.1\"}};\n",
       "  var render_items = [{\"docid\":\"f6ad7e7c-cb63-433f-9453-cc6f6a3b93f2\",\"root_ids\":[\"1387\"],\"roots\":{\"1387\":\"c6e0409b-6090-4c72-a375-0e240ab10244\"}}];\n",
       "  root.Bokeh.embed.embed_items_notebook(docs_json, render_items);\n",
       "\n",
       "  }\n",
       "  if (root.Bokeh !== undefined) {\n",
       "    embed_document(root);\n",
       "  } else {\n",
       "    var attempts = 0;\n",
       "    var timer = setInterval(function(root) {\n",
       "      if (root.Bokeh !== undefined) {\n",
       "        clearInterval(timer);\n",
       "        embed_document(root);\n",
       "      } else {\n",
       "        attempts++;\n",
       "        if (attempts > 100) {\n",
       "          clearInterval(timer);\n",
       "          console.log(\"Bokeh: ERROR: Unable to run BokehJS code because BokehJS library is missing\");\n",
       "        }\n",
       "      }\n",
       "    }, 10, root)\n",
       "  }\n",
       "})(window);"
      ],
      "application/vnd.bokehjs_exec.v0+json": ""
     },
     "metadata": {
      "application/vnd.bokehjs_exec.v0+json": {
       "id": "1387"
      }
     },
     "output_type": "display_data"
    }
   ],
   "source": [
    "G = Network(V, E) # Definierat som i introduktionen\n",
    "show(G.plot())"
   ]
  },
  {
   "cell_type": "markdown",
   "metadata": {},
   "source": [
    "För större grafer blir detta givetvis omständligt, såvida vi inte har någon algoritm för att beräkna lämpliga positioner för alla noderna. Lyckligtvis finns det förbestämda konfigurationer samt algoritmer för att visualisera nätverk. Vi tar ett par exempel nedan."
   ]
  },
  {
   "cell_type": "markdown",
   "metadata": {},
   "source": [
    "En cirkulär layout används ofta när man har väldigt få noder och/eller väldigt få kanter. I en sådan konfiguration placeras helt enkelt alla noder längs omkretsen hos en cirkel. Själva vinkelorienteringen är slumpmässig, och ordningen på noderna följer den i den inmatade nodlistan."
   ]
  },
  {
   "cell_type": "code",
   "execution_count": 8,
   "metadata": {},
   "outputs": [
    {
     "data": {
      "text/html": [
       "\n",
       "\n",
       "\n",
       "\n",
       "\n",
       "\n",
       "  <div class=\"bk-root\" id=\"adc845de-c339-4071-a072-c8a1719711f6\" data-root-id=\"1595\"></div>\n"
      ]
     },
     "metadata": {},
     "output_type": "display_data"
    },
    {
     "data": {
      "application/javascript": [
       "(function(root) {\n",
       "  function embed_document(root) {\n",
       "    \n",
       "  var docs_json = {\"46616512-f5ef-482d-9617-18f83fec751d\":{\"defs\":[],\"roots\":{\"references\":[{\"attributes\":{\"height\":400,\"renderers\":[{\"id\":\"1583\"}],\"title\":{\"id\":\"1598\"},\"toolbar\":{\"id\":\"1604\"},\"width\":400,\"x_range\":{\"id\":\"1593\"},\"x_scale\":{\"id\":\"1694\"},\"y_range\":{\"id\":\"1594\"},\"y_scale\":{\"id\":\"1693\"}},\"id\":\"1595\",\"type\":\"Plot\"},{\"attributes\":{\"edge_renderer\":{\"id\":\"1590\"},\"inspection_policy\":{\"id\":\"1641\"},\"layout_provider\":{\"id\":\"1592\"},\"node_renderer\":{\"id\":\"1586\"},\"selection_policy\":{\"id\":\"1639\"}},\"id\":\"1583\",\"type\":\"GraphRenderer\"},{\"attributes\":{\"fill_alpha\":{\"value\":0.5},\"fill_color\":{\"value\":\"#2b83ba\"},\"size\":{\"value\":15}},\"id\":\"1609\",\"type\":\"Circle\"},{\"attributes\":{},\"id\":\"1602\",\"type\":\"ZoomInTool\"},{\"attributes\":{\"graph_layout\":{\"1\":[1.0,0.5000000042574745],\"2\":[0.8117449049695933,0.8909157424001781],\"3\":[0.38873954709122704,0.9874639387653916],\"4\":[0.04951560754382245,0.7169419048703771],\"5\":[0.04951560754382245,0.28305813344689323],\"6\":[0.38873951728890566,0.012536069749557344],\"7\":[0.8117448155626292,0.10908420651012812]}},\"id\":\"1592\",\"type\":\"StaticLayoutProvider\"},{\"attributes\":{\"active_multi\":null,\"tools\":[{\"id\":\"1599\"},{\"id\":\"1600\"},{\"id\":\"1601\"},{\"id\":\"1602\"},{\"id\":\"1603\"}]},\"id\":\"1604\",\"type\":\"Toolbar\"},{\"attributes\":{},\"id\":\"1694\",\"type\":\"LinearScale\"},{\"attributes\":{},\"id\":\"1603\",\"type\":\"ZoomOutTool\"},{\"attributes\":{\"data\":{\"id\":[1,2,3,4,5,6,7],\"index\":[1,2,3,4,5,6,7]},\"selected\":{\"id\":\"1704\"},\"selection_policy\":{\"id\":\"1703\"}},\"id\":\"1585\",\"type\":\"ColumnDataSource\"},{\"attributes\":{},\"id\":\"1639\",\"type\":\"NodesAndLinkedEdges\"},{\"attributes\":{\"data_source\":{\"id\":\"1589\"},\"glyph\":{\"id\":\"1624\"},\"hover_glyph\":{\"id\":\"1634\"},\"muted_glyph\":null,\"selection_glyph\":{\"id\":\"1629\"},\"view\":{\"id\":\"1591\"}},\"id\":\"1590\",\"type\":\"GlyphRenderer\"},{\"attributes\":{\"callback\":null,\"tooltips\":[[\"id\",\"@id\"]]},\"id\":\"1600\",\"type\":\"HoverTool\"},{\"attributes\":{\"text\":\"Interactive graph\"},\"id\":\"1598\",\"type\":\"Title\"},{\"attributes\":{},\"id\":\"1705\",\"type\":\"UnionRenderers\"},{\"attributes\":{\"fill_color\":{\"value\":\"#abdda4\"},\"size\":{\"value\":15}},\"id\":\"1619\",\"type\":\"Circle\"},{\"attributes\":{},\"id\":\"1706\",\"type\":\"Selection\"},{\"attributes\":{\"fill_color\":{\"value\":\"#fdae61\"},\"size\":{\"value\":15}},\"id\":\"1614\",\"type\":\"Circle\"},{\"attributes\":{\"line_alpha\":{\"value\":0.5},\"line_color\":{\"value\":\"#CCCCCC\"},\"line_width\":{\"value\":2}},\"id\":\"1624\",\"type\":\"MultiLine\"},{\"attributes\":{\"end\":1.1,\"start\":-0.1},\"id\":\"1594\",\"type\":\"Range1d\"},{\"attributes\":{\"line_color\":{\"value\":\"#fdae61\"},\"line_width\":{\"value\":2}},\"id\":\"1629\",\"type\":\"MultiLine\"},{\"attributes\":{},\"id\":\"1641\",\"type\":\"NodesOnly\"},{\"attributes\":{\"source\":{\"id\":\"1589\"}},\"id\":\"1591\",\"type\":\"CDSView\"},{\"attributes\":{},\"id\":\"1599\",\"type\":\"PanTool\"},{\"attributes\":{\"line_color\":{\"value\":\"#abdda4\"},\"line_width\":{\"value\":2}},\"id\":\"1634\",\"type\":\"MultiLine\"},{\"attributes\":{\"end\":1.1,\"start\":-0.1},\"id\":\"1593\",\"type\":\"Range1d\"},{\"attributes\":{},\"id\":\"1693\",\"type\":\"LinearScale\"},{\"attributes\":{\"data_source\":{\"id\":\"1585\"},\"glyph\":{\"id\":\"1609\"},\"hover_glyph\":{\"id\":\"1619\"},\"muted_glyph\":null,\"selection_glyph\":{\"id\":\"1614\"},\"view\":{\"id\":\"1587\"}},\"id\":\"1586\",\"type\":\"GlyphRenderer\"},{\"attributes\":{\"callback\":null},\"id\":\"1601\",\"type\":\"TapTool\"},{\"attributes\":{\"source\":{\"id\":\"1585\"}},\"id\":\"1587\",\"type\":\"CDSView\"},{\"attributes\":{\"data\":{\"end\":[2,3,4,3,4,4,6],\"start\":[1,1,1,2,2,3,5]},\"selected\":{\"id\":\"1706\"},\"selection_policy\":{\"id\":\"1705\"}},\"id\":\"1589\",\"type\":\"ColumnDataSource\"},{\"attributes\":{},\"id\":\"1703\",\"type\":\"UnionRenderers\"},{\"attributes\":{},\"id\":\"1704\",\"type\":\"Selection\"}],\"root_ids\":[\"1595\"]},\"title\":\"Bokeh Application\",\"version\":\"2.3.1\"}};\n",
       "  var render_items = [{\"docid\":\"46616512-f5ef-482d-9617-18f83fec751d\",\"root_ids\":[\"1595\"],\"roots\":{\"1595\":\"adc845de-c339-4071-a072-c8a1719711f6\"}}];\n",
       "  root.Bokeh.embed.embed_items_notebook(docs_json, render_items);\n",
       "\n",
       "  }\n",
       "  if (root.Bokeh !== undefined) {\n",
       "    embed_document(root);\n",
       "  } else {\n",
       "    var attempts = 0;\n",
       "    var timer = setInterval(function(root) {\n",
       "      if (root.Bokeh !== undefined) {\n",
       "        clearInterval(timer);\n",
       "        embed_document(root);\n",
       "      } else {\n",
       "        attempts++;\n",
       "        if (attempts > 100) {\n",
       "          clearInterval(timer);\n",
       "          console.log(\"Bokeh: ERROR: Unable to run BokehJS code because BokehJS library is missing\");\n",
       "        }\n",
       "      }\n",
       "    }, 10, root)\n",
       "  }\n",
       "})(window);"
      ],
      "application/vnd.bokehjs_exec.v0+json": ""
     },
     "metadata": {
      "application/vnd.bokehjs_exec.v0+json": {
       "id": "1595"
      }
     },
     "output_type": "display_data"
    }
   ],
   "source": [
    "from networkx import random_layout, circular_layout, spring_layout\n",
    "\n",
    "show(\n",
    "    SAMPLE_NETWORK.plot(circular_layout, \n",
    "                    scale=0.5, \n",
    "                    center=(0.5,0.5))\n",
    ")\n"
   ]
  },
  {
   "cell_type": "markdown",
   "metadata": {},
   "source": [
    "Jag nämnde tidigare att layouten, eller positioneringen hos noderna är nödvändig för nätverkens definition eller funktion. Alla eventuella algoritmer som tillämpas på graferna fungerar lika bra oavsett hur de placeras i en figur. Däremot kan det vara till stor hjälp att välja en lämplig visualiseringen för att göra en analytisk besiktning av nätverket. En olämplig visualisering kan till och med vara skadlig.\n",
    "\n",
    "I fallet nedan har vi en Petersen-graf, vilken när den arrangeras korrekt i ett plan ger intrycket av koncentriska nivåer i nätverket. Om fel visualiseringsmetod används blir denna aspekt osynlig."
   ]
  },
  {
   "cell_type": "code",
   "execution_count": 9,
   "metadata": {},
   "outputs": [
    {
     "data": {
      "text/html": [
       "\n",
       "\n",
       "\n",
       "\n",
       "\n",
       "\n",
       "  <div class=\"bk-root\" id=\"3d691f0c-f174-4c13-abde-24d0ee714508\" data-root-id=\"1964\"></div>\n"
      ]
     },
     "metadata": {},
     "output_type": "display_data"
    },
    {
     "data": {
      "application/javascript": [
       "(function(root) {\n",
       "  function embed_document(root) {\n",
       "    \n",
       "  var docs_json = {\"a813abeb-413e-484d-9ca9-6e7a1efc6b20\":{\"defs\":[],\"roots\":{\"references\":[{\"attributes\":{\"children\":[{\"id\":\"1963\"},{\"id\":\"1961\"}]},\"id\":\"1964\",\"type\":\"Column\"},{\"attributes\":{\"fill_color\":{\"value\":\"#abdda4\"},\"size\":{\"value\":15}},\"id\":\"1843\",\"type\":\"Circle\"},{\"attributes\":{},\"id\":\"1923\",\"type\":\"NodesAndLinkedEdges\"},{\"attributes\":{\"line_alpha\":{\"value\":0.5},\"line_color\":{\"value\":\"#CCCCCC\"},\"line_width\":{\"value\":2}},\"id\":\"1848\",\"type\":\"MultiLine\"},{\"attributes\":{\"toolbar\":{\"id\":\"1962\"},\"toolbar_location\":\"above\"},\"id\":\"1963\",\"type\":\"ToolbarBox\"},{\"attributes\":{\"end\":1.1,\"start\":-0.1},\"id\":\"1817\",\"type\":\"Range1d\"},{\"attributes\":{},\"id\":\"1958\",\"type\":\"UnionRenderers\"},{\"attributes\":{\"end\":1.1,\"start\":-0.1},\"id\":\"1877\",\"type\":\"Range1d\"},{\"attributes\":{\"data_source\":{\"id\":\"1873\"},\"glyph\":{\"id\":\"1908\"},\"hover_glyph\":{\"id\":\"1918\"},\"muted_glyph\":null,\"selection_glyph\":{\"id\":\"1913\"},\"view\":{\"id\":\"1875\"}},\"id\":\"1874\",\"type\":\"GlyphRenderer\"},{\"attributes\":{\"data\":{\"id\":[0,1,2,3,4,5,6,7,8,9],\"index\":[0,1,2,3,4,5,6,7,8,9]},\"selected\":{\"id\":\"1940\"},\"selection_policy\":{\"id\":\"1939\"}},\"id\":\"1869\",\"type\":\"ColumnDataSource\"},{\"attributes\":{},\"id\":\"1959\",\"type\":\"Selection\"},{\"attributes\":{\"line_color\":{\"value\":\"#fdae61\"},\"line_width\":{\"value\":2}},\"id\":\"1913\",\"type\":\"MultiLine\"},{\"attributes\":{\"line_color\":{\"value\":\"#fdae61\"},\"line_width\":{\"value\":2}},\"id\":\"1853\",\"type\":\"MultiLine\"},{\"attributes\":{\"end\":1.1,\"start\":-0.1},\"id\":\"1818\",\"type\":\"Range1d\"},{\"attributes\":{\"line_color\":{\"value\":\"#abdda4\"},\"line_width\":{\"value\":2}},\"id\":\"1858\",\"type\":\"MultiLine\"},{\"attributes\":{},\"id\":\"1956\",\"type\":\"UnionRenderers\"},{\"attributes\":{\"edge_renderer\":{\"id\":\"1874\"},\"inspection_policy\":{\"id\":\"1925\"},\"layout_provider\":{\"id\":\"1876\"},\"node_renderer\":{\"id\":\"1870\"},\"selection_policy\":{\"id\":\"1923\"}},\"id\":\"1867\",\"type\":\"GraphRenderer\"},{\"attributes\":{},\"id\":\"1925\",\"type\":\"NodesOnly\"},{\"attributes\":{},\"id\":\"1863\",\"type\":\"NodesAndLinkedEdges\"},{\"attributes\":{\"data\":{\"end\":[1,4,5,2,6,3,7,4,8,9,7,8,8,9,9],\"start\":[0,0,0,1,1,2,2,3,3,4,5,5,6,6,7]},\"selected\":{\"id\":\"1942\"},\"selection_policy\":{\"id\":\"1941\"}},\"id\":\"1873\",\"type\":\"ColumnDataSource\"},{\"attributes\":{\"data\":{\"id\":[0,1,2,3,4,5,6,7,8,9],\"index\":[0,1,2,3,4,5,6,7,8,9]},\"selected\":{\"id\":\"1957\"},\"selection_policy\":{\"id\":\"1956\"}},\"id\":\"1809\",\"type\":\"ColumnDataSource\"},{\"attributes\":{},\"id\":\"1865\",\"type\":\"NodesOnly\"},{\"attributes\":{\"data_source\":{\"id\":\"1869\"},\"glyph\":{\"id\":\"1893\"},\"hover_glyph\":{\"id\":\"1903\"},\"muted_glyph\":null,\"selection_glyph\":{\"id\":\"1898\"},\"view\":{\"id\":\"1871\"}},\"id\":\"1870\",\"type\":\"GlyphRenderer\"},{\"attributes\":{},\"id\":\"1939\",\"type\":\"UnionRenderers\"},{\"attributes\":{\"children\":[[{\"id\":\"1879\"},0,0],[{\"id\":\"1819\"},0,1]]},\"id\":\"1961\",\"type\":\"GridBox\"},{\"attributes\":{},\"id\":\"1940\",\"type\":\"Selection\"},{\"attributes\":{\"edge_renderer\":{\"id\":\"1814\"},\"inspection_policy\":{\"id\":\"1865\"},\"layout_provider\":{\"id\":\"1816\"},\"node_renderer\":{\"id\":\"1810\"},\"selection_policy\":{\"id\":\"1863\"}},\"id\":\"1807\",\"type\":\"GraphRenderer\"},{\"attributes\":{\"source\":{\"id\":\"1869\"}},\"id\":\"1871\",\"type\":\"CDSView\"},{\"attributes\":{\"fill_color\":{\"value\":\"#fdae61\"},\"size\":{\"value\":15}},\"id\":\"1898\",\"type\":\"Circle\"},{\"attributes\":{\"data_source\":{\"id\":\"1809\"},\"glyph\":{\"id\":\"1833\"},\"hover_glyph\":{\"id\":\"1843\"},\"muted_glyph\":null,\"selection_glyph\":{\"id\":\"1838\"},\"view\":{\"id\":\"1811\"}},\"id\":\"1810\",\"type\":\"GlyphRenderer\"},{\"attributes\":{},\"id\":\"1930\",\"type\":\"LinearScale\"},{\"attributes\":{\"line_alpha\":{\"value\":0.5},\"line_color\":{\"value\":\"#CCCCCC\"},\"line_width\":{\"value\":2}},\"id\":\"1908\",\"type\":\"MultiLine\"},{\"attributes\":{\"data\":{\"end\":[1,4,5,2,6,3,7,4,8,9,7,8,8,9,9],\"start\":[0,0,0,1,1,2,2,3,3,4,5,5,6,6,7]},\"selected\":{\"id\":\"1959\"},\"selection_policy\":{\"id\":\"1958\"}},\"id\":\"1813\",\"type\":\"ColumnDataSource\"},{\"attributes\":{\"source\":{\"id\":\"1809\"}},\"id\":\"1811\",\"type\":\"CDSView\"},{\"attributes\":{\"graph_layout\":{\"0\":[1.0,0.5000000073513711],\"1\":[0.9045085018604486,0.7938926275936531],\"2\":[0.6545084884494037,0.9755282745231815],\"3\":[0.3454914877087385,0.9755282447208592],\"4\":[0.09549150410001578,0.7938926275936531],\"5\":[5.960464510845753e-09,0.499999963639983],\"6\":[0.095491533902338,0.20610735730676683],\"7\":[0.34549144300525525,0.02447176998188283],\"8\":[0.6545085629552092,0.02447176998188283],\"9\":[0.9045084720581265,0.20610735730676683]}},\"id\":\"1876\",\"type\":\"StaticLayoutProvider\"},{\"attributes\":{\"source\":{\"id\":\"1873\"}},\"id\":\"1875\",\"type\":\"CDSView\"},{\"attributes\":{\"graph_layout\":{\"0\":[1.0,0.5000000059604646],\"1\":[0.6545084714889526,0.9755282700061798],\"2\":[0.09549149870872498,0.7938926219940186],\"3\":[0.09549152851104736,0.20610734820365906],\"4\":[0.6545085459947586,0.024471759796142578],\"5\":[0.75,0.5000000029802323],\"6\":[0.5772542357444763,0.7377641350030899],\"7\":[0.2977457493543625,0.6469463109970093],\"8\":[0.2977457642555237,0.35305367410182953],\"9\":[0.5772542729973793,0.2622358798980713]}},\"id\":\"1816\",\"type\":\"StaticLayoutProvider\"},{\"attributes\":{\"end\":1.1,\"start\":-0.1},\"id\":\"1878\",\"type\":\"Range1d\"},{\"attributes\":{},\"id\":\"1957\",\"type\":\"Selection\"},{\"attributes\":{\"data_source\":{\"id\":\"1813\"},\"glyph\":{\"id\":\"1848\"},\"hover_glyph\":{\"id\":\"1858\"},\"muted_glyph\":null,\"selection_glyph\":{\"id\":\"1853\"},\"view\":{\"id\":\"1815\"}},\"id\":\"1814\",\"type\":\"GlyphRenderer\"},{\"attributes\":{\"callback\":null,\"tooltips\":[[\"id\",\"@id\"]]},\"id\":\"1884\",\"type\":\"HoverTool\"},{\"attributes\":{},\"id\":\"1826\",\"type\":\"ZoomInTool\"},{\"attributes\":{\"height\":300,\"renderers\":[{\"id\":\"1867\"}],\"title\":{\"id\":\"1882\"},\"toolbar\":{\"id\":\"1888\"},\"toolbar_location\":null,\"width\":300,\"x_range\":{\"id\":\"1877\"},\"x_scale\":{\"id\":\"1930\"},\"y_range\":{\"id\":\"1878\"},\"y_scale\":{\"id\":\"1929\"}},\"id\":\"1879\",\"type\":\"Plot\"},{\"attributes\":{},\"id\":\"1946\",\"type\":\"LinearScale\"},{\"attributes\":{\"source\":{\"id\":\"1813\"}},\"id\":\"1815\",\"type\":\"CDSView\"},{\"attributes\":{\"callback\":null},\"id\":\"1885\",\"type\":\"TapTool\"},{\"attributes\":{},\"id\":\"1823\",\"type\":\"PanTool\"},{\"attributes\":{\"callback\":null},\"id\":\"1825\",\"type\":\"TapTool\"},{\"attributes\":{\"text\":\"Som enkel cirkel\"},\"id\":\"1882\",\"type\":\"Title\"},{\"attributes\":{},\"id\":\"1947\",\"type\":\"LinearScale\"},{\"attributes\":{},\"id\":\"1883\",\"type\":\"PanTool\"},{\"attributes\":{},\"id\":\"1886\",\"type\":\"ZoomInTool\"},{\"attributes\":{\"text\":\"Med explicita koncentriska cirklar\"},\"id\":\"1822\",\"type\":\"Title\"},{\"attributes\":{\"active_multi\":null,\"tools\":[{\"id\":\"1883\"},{\"id\":\"1884\"},{\"id\":\"1885\"},{\"id\":\"1886\"},{\"id\":\"1887\"}]},\"id\":\"1888\",\"type\":\"Toolbar\"},{\"attributes\":{\"height\":300,\"renderers\":[{\"id\":\"1807\"}],\"title\":{\"id\":\"1822\"},\"toolbar\":{\"id\":\"1828\"},\"toolbar_location\":null,\"width\":300,\"x_range\":{\"id\":\"1817\"},\"x_scale\":{\"id\":\"1947\"},\"y_range\":{\"id\":\"1818\"},\"y_scale\":{\"id\":\"1946\"}},\"id\":\"1819\",\"type\":\"Plot\"},{\"attributes\":{\"fill_alpha\":{\"value\":0.5},\"fill_color\":{\"value\":\"#2b83ba\"},\"size\":{\"value\":15}},\"id\":\"1893\",\"type\":\"Circle\"},{\"attributes\":{},\"id\":\"1941\",\"type\":\"UnionRenderers\"},{\"attributes\":{\"callback\":null,\"tooltips\":[[\"id\",\"@id\"]]},\"id\":\"1824\",\"type\":\"HoverTool\"},{\"attributes\":{},\"id\":\"1887\",\"type\":\"ZoomOutTool\"},{\"attributes\":{\"line_color\":{\"value\":\"#abdda4\"},\"line_width\":{\"value\":2}},\"id\":\"1918\",\"type\":\"MultiLine\"},{\"attributes\":{\"active_multi\":null,\"tools\":[{\"id\":\"1823\"},{\"id\":\"1824\"},{\"id\":\"1825\"},{\"id\":\"1826\"},{\"id\":\"1827\"}]},\"id\":\"1828\",\"type\":\"Toolbar\"},{\"attributes\":{\"toolbars\":[{\"id\":\"1888\"},{\"id\":\"1828\"}],\"tools\":[{\"id\":\"1883\"},{\"id\":\"1884\"},{\"id\":\"1885\"},{\"id\":\"1886\"},{\"id\":\"1887\"},{\"id\":\"1823\"},{\"id\":\"1824\"},{\"id\":\"1825\"},{\"id\":\"1826\"},{\"id\":\"1827\"}]},\"id\":\"1962\",\"type\":\"ProxyToolbar\"},{\"attributes\":{\"fill_color\":{\"value\":\"#abdda4\"},\"size\":{\"value\":15}},\"id\":\"1903\",\"type\":\"Circle\"},{\"attributes\":{\"fill_alpha\":{\"value\":0.5},\"fill_color\":{\"value\":\"#2b83ba\"},\"size\":{\"value\":15}},\"id\":\"1833\",\"type\":\"Circle\"},{\"attributes\":{},\"id\":\"1942\",\"type\":\"Selection\"},{\"attributes\":{},\"id\":\"1827\",\"type\":\"ZoomOutTool\"},{\"attributes\":{},\"id\":\"1929\",\"type\":\"LinearScale\"},{\"attributes\":{\"fill_color\":{\"value\":\"#fdae61\"},\"size\":{\"value\":15}},\"id\":\"1838\",\"type\":\"Circle\"}],\"root_ids\":[\"1964\"]},\"title\":\"Bokeh Application\",\"version\":\"2.3.1\"}};\n",
       "  var render_items = [{\"docid\":\"a813abeb-413e-484d-9ca9-6e7a1efc6b20\",\"root_ids\":[\"1964\"],\"roots\":{\"1964\":\"3d691f0c-f174-4c13-abde-24d0ee714508\"}}];\n",
       "  root.Bokeh.embed.embed_items_notebook(docs_json, render_items);\n",
       "\n",
       "  }\n",
       "  if (root.Bokeh !== undefined) {\n",
       "    embed_document(root);\n",
       "  } else {\n",
       "    var attempts = 0;\n",
       "    var timer = setInterval(function(root) {\n",
       "      if (root.Bokeh !== undefined) {\n",
       "        clearInterval(timer);\n",
       "        embed_document(root);\n",
       "      } else {\n",
       "        attempts++;\n",
       "        if (attempts > 100) {\n",
       "          clearInterval(timer);\n",
       "          console.log(\"Bokeh: ERROR: Unable to run BokehJS code because BokehJS library is missing\");\n",
       "        }\n",
       "      }\n",
       "    }, 10, root)\n",
       "  }\n",
       "})(window);"
      ],
      "application/vnd.bokehjs_exec.v0+json": ""
     },
     "metadata": {
      "application/vnd.bokehjs_exec.v0+json": {
       "id": "1964"
      }
     },
     "output_type": "display_data"
    }
   ],
   "source": [
    "G = Network.from_networkx(nx.petersen_graph())\n",
    "\n",
    "as_concentric = G.plot(\n",
    "       nx.shell_layout,\n",
    "       title='Med explicita koncentriska cirklar',\n",
    "       nlist=[range(5,10), range(5)],\n",
    "       scale=0.5, \n",
    "       center=(0.5, 0.5))\n",
    "\n",
    "as_circle = G.plot(\n",
    "       nx.circular_layout, \n",
    "       title='Som enkel cirkel',\n",
    "       scale=0.5, \n",
    "       center=(0.5, 0.5))\n",
    "\n",
    "show(gridplot([[as_circle, as_concentric]], plot_width=300, plot_height=300)\n",
    "    \n",
    ")"
   ]
  },
  {
   "cell_type": "markdown",
   "metadata": {},
   "source": [
    "De båda tidigare exemplen är vad man lämpligen kallar \"konfigurationer\", de kräver inga särskilda beräkningar eller algoritmer för att framställa.\n",
    "\n",
    "Vanligen presenteras dock nätverk med hjälp av fysikalgoritmer som beräknar en optimal placering, vanligen i syfte att placera noder med många gemensamma kanter nära varandra, för att bilda så kallade \"kluster\". Sådana algoritmer är vanliga när ens nätverk består av fler noder än man kan inspektera manuellt. \n",
    "\n",
    "Algoritmiskt är nästan alla dessa metoder varianter av *the spring layout*, som modellerar noder som förbundna av mekaniska fjädrar. De simulerar därefter interaktionen mellan fjädrarna för att hitta ett jämviktsläge. Dessa algoritmer brukar ha en parameter för simuleringstiden, som vanligtvis sätts så att det inte tar för lång tid.\n",
    "\n",
    "Fysiksimuleringar är dock beräkningsmässigt krävande, och vissa algoritmer kan ta oerhört lång tid för att presentera en layout till figurerna, i synnerhet om man har över tusen noder och kanter.\n",
    "\n",
    "Nedan ser ni ett standardexempel hämtat från karaktärerna i Les Miserables."
   ]
  },
  {
   "cell_type": "code",
   "execution_count": 10,
   "metadata": {},
   "outputs": [
    {
     "data": {
      "text/html": [
       "\n",
       "\n",
       "\n",
       "\n",
       "\n",
       "\n",
       "  <div class=\"bk-root\" id=\"4986cb30-c972-40ab-b624-187c005b4c68\" data-root-id=\"2273\"></div>\n"
      ]
     },
     "metadata": {},
     "output_type": "display_data"
    },
    {
     "data": {
      "application/javascript": [
       "(function(root) {\n",
       "  function embed_document(root) {\n",
       "    \n",
       "  var docs_json = {\"76c942a1-7586-4ea2-b539-914db73f06e7\":{\"defs\":[],\"roots\":{\"references\":[{\"attributes\":{\"height\":400,\"renderers\":[{\"id\":\"2261\"}],\"title\":{\"id\":\"2276\"},\"toolbar\":{\"id\":\"2282\"},\"width\":400,\"x_range\":{\"id\":\"2271\"},\"x_scale\":{\"id\":\"2420\"},\"y_range\":{\"id\":\"2272\"},\"y_scale\":{\"id\":\"2419\"}},\"id\":\"2273\",\"type\":\"Plot\"},{\"attributes\":{},\"id\":\"2419\",\"type\":\"LinearScale\"},{\"attributes\":{},\"id\":\"2431\",\"type\":\"UnionRenderers\"},{\"attributes\":{},\"id\":\"2317\",\"type\":\"NodesAndLinkedEdges\"},{\"attributes\":{},\"id\":\"2420\",\"type\":\"LinearScale\"},{\"attributes\":{\"line_color\":{\"value\":\"#fdae61\"},\"line_width\":{\"value\":2}},\"id\":\"2307\",\"type\":\"MultiLine\"},{\"attributes\":{},\"id\":\"2319\",\"type\":\"NodesOnly\"},{\"attributes\":{\"data_source\":{\"id\":\"2267\"},\"glyph\":{\"id\":\"2302\"},\"hover_glyph\":{\"id\":\"2312\"},\"muted_glyph\":null,\"selection_glyph\":{\"id\":\"2307\"},\"view\":{\"id\":\"2269\"}},\"id\":\"2268\",\"type\":\"GlyphRenderer\"},{\"attributes\":{\"callback\":null,\"tooltips\":[[\"id\",\"@id\"]]},\"id\":\"2278\",\"type\":\"HoverTool\"},{\"attributes\":{\"end\":1.1,\"start\":-0.1},\"id\":\"2272\",\"type\":\"Range1d\"},{\"attributes\":{\"source\":{\"id\":\"2263\"}},\"id\":\"2265\",\"type\":\"CDSView\"},{\"attributes\":{\"text\":\"Interactive graph\"},\"id\":\"2276\",\"type\":\"Title\"},{\"attributes\":{\"graph_layout\":{\"Anzelma\":[0.2498181868449902,0.2993332943879147],\"Babet\":[0.5444837697633584,0.44613790655021895],\"Bahorel\":[0.5548592129183628,0.18936926190293968],\"Bamatabois\":[0.44295169761298464,0.6815526559446666],\"BaronessT\":[0.29397176103195855,0.20424696629425587],\"Blacheville\":[0.18329092944253234,0.6380635631812112],\"Bossuet\":[0.5770048681624906,0.33532158871534146],\"Boulatruelle\":[0.19971791034272152,0.35532505946335546],\"Brevet\":[0.49979956039625084,0.76073189945511],\"Brujon\":[0.4697106781241731,0.28083258538117073],\"Champmathieu\":[0.581196110450599,0.7480573421083622],\"Champtercier\":[0.8534733692515099,0.8110040822510978],\"Chenildieu\":[0.5239636679587429,0.6923097770350474],\"Child1\":[0.7860092034245342,0.2760225493713908],\"Child2\":[0.8067099398593418,0.3382147067457465],\"Claquesous\":[0.4774248340592147,0.44575282580415426],\"Cochepaille\":[0.578530582448629,0.6428578022023055],\"Combeferre\":[0.47615130888100726,0.19249970226201113],\"Cosette\":[0.3777725139022463,0.5277576010207395],\"Count\":[0.7386360347617433,0.8994463592347859],\"CountessDeLo\":[0.9176227142799367,0.682994308781343],\"Courfeyrac\":[0.5150134737415257,0.23159635080501556],\"Cravatte\":[0.7997082422688021,0.8624642275812779],\"Dahlia\":[0.1177823966402538,0.6071081133658827],\"Enjolras\":[0.5439017063989772,0.34801618000756585],\"Eponine\":[0.3831862465075838,0.29699970149264454],\"Fameuil\":[0.16890922019680082,0.7116295468226999],\"Fantine\":[0.31760570500440816,0.6136129102241145],\"Fauchelevent\":[0.45257140126061207,0.7498794582047428],\"Favourite\":[0.1310702323754459,0.6656899114168218],\"Feuilly\":[0.5081766218149514,0.16396824467890758],\"Gavroche\":[0.6062932470398409,0.3449798412484225],\"Geborand\":[0.8935005233897306,0.748817070968314],\"Gervais\":[0.7217803917793535,0.559512934658411],\"Gillenormand\":[0.3659947740473636,0.4277359916115601],\"Grantaire\":[0.6604961362242774,0.18888724622358793],\"Gribier\":[0.42808701016587225,0.9561239994487178],\"Gueulemer\":[0.5167673487835295,0.4105176986736346],\"Isabeau\":[0.7351126736327838,0.5133153442538475],\"Javert\":[0.47139347139800974,0.5250943763182667],\"Joly\":[0.5805565879477783,0.23100474831826373],\"Jondrette\":[0.8982909067497422,0.0945745804249179],\"Judge\":[0.6088507439708724,0.6991770310993832],\"Labarre\":[0.6848554733110792,0.5154685955173359],\"Listolier\":[0.2145526711506749,0.7220635606602963],\"LtGillenormand\":[0.2669367288196576,0.33475833992360493],\"Mabeuf\":[0.4264373100040457,0.19584784838200858],\"Magnon\":[0.15917592610268672,0.429758734414522],\"Marguerite\":[0.39313465228734734,0.7193580820926455],\"Marius\":[0.4347582522425478,0.3653567004215973],\"MlleBaptistine\":[0.7156648324511177,0.6142074089007283],\"MlleGillenormand\":[0.32173662993225727,0.469582911504409],\"MlleVaubois\":[0.09387353597454584,0.46946971970944196],\"MmeBurgon\":[0.7714354902398749,0.2199256134054119],\"MmeDeR\":[0.7092081401821345,0.4734559915452772],\"MmeHucheloup\":[0.7012032373156603,0.24194215252456153],\"MmeMagloire\":[0.6547436483498965,0.6782058332421009],\"MmePontmercy\":[0.13582488215053745,0.3178159988929994],\"MmeThenardier\":[0.36407215708277174,0.4907216889303236],\"Montparnasse\":[0.5929719685080452,0.4283598555384953],\"MotherInnocent\":[0.5442766386713076,0.7535080475550677],\"MotherPlutarch\":[0.403452848128229,0.0],\"Myriel\":[0.7231225640118338,0.7048695583139735],\"Napoleon\":[0.9278486345083584,0.6173206943532425],\"OldMan\":[0.6739900855141292,0.9231898945279806],\"Perpetue\":[0.26114024921875867,0.8309999359030681],\"Pontmercy\":[0.290401001069591,0.2545441499837414],\"Prouvaire\":[0.6245861148808926,0.14936789514554888],\"Scaufflaire\":[0.6658419006145032,0.6131138135529056],\"Simplice\":[0.3753142192088072,0.6850462555518427],\"Thenardier\":[0.41426965618261086,0.4295915187502531],\"Tholomyes\":[0.23002062666803003,0.5114133250404825],\"Toussaint\":[0.46930083232598474,0.6344340857084078],\"Valjean\":[0.5275458334791585,0.5530879377294862],\"Woman1\":[0.6320428542468937,0.5605567114223127],\"Woman2\":[0.4049570742479953,0.6320100072171054],\"Zephine\":[0.13315541566219236,0.5621097876986525]}},\"id\":\"2270\",\"type\":\"StaticLayoutProvider\"},{\"attributes\":{\"callback\":null},\"id\":\"2279\",\"type\":\"TapTool\"},{\"attributes\":{},\"id\":\"2429\",\"type\":\"UnionRenderers\"},{\"attributes\":{},\"id\":\"2430\",\"type\":\"Selection\"},{\"attributes\":{},\"id\":\"2277\",\"type\":\"PanTool\"},{\"attributes\":{},\"id\":\"2280\",\"type\":\"ZoomInTool\"},{\"attributes\":{\"active_multi\":null,\"tools\":[{\"id\":\"2277\"},{\"id\":\"2278\"},{\"id\":\"2279\"},{\"id\":\"2280\"},{\"id\":\"2281\"}]},\"id\":\"2282\",\"type\":\"Toolbar\"},{\"attributes\":{\"fill_alpha\":{\"value\":0.5},\"fill_color\":{\"value\":\"#2b83ba\"},\"size\":{\"value\":15}},\"id\":\"2287\",\"type\":\"Circle\"},{\"attributes\":{},\"id\":\"2281\",\"type\":\"ZoomOutTool\"},{\"attributes\":{},\"id\":\"2432\",\"type\":\"Selection\"},{\"attributes\":{\"line_color\":{\"value\":\"#abdda4\"},\"line_width\":{\"value\":2}},\"id\":\"2312\",\"type\":\"MultiLine\"},{\"attributes\":{\"data_source\":{\"id\":\"2263\"},\"glyph\":{\"id\":\"2287\"},\"hover_glyph\":{\"id\":\"2297\"},\"muted_glyph\":null,\"selection_glyph\":{\"id\":\"2292\"},\"view\":{\"id\":\"2265\"}},\"id\":\"2264\",\"type\":\"GlyphRenderer\"},{\"attributes\":{\"data\":{\"id\":[\"Napoleon\",\"Myriel\",\"MlleBaptistine\",\"MmeMagloire\",\"CountessDeLo\",\"Geborand\",\"Champtercier\",\"Cravatte\",\"Count\",\"OldMan\",\"Valjean\",\"Labarre\",\"Marguerite\",\"MmeDeR\",\"Isabeau\",\"Gervais\",\"Listolier\",\"Tholomyes\",\"Fameuil\",\"Blacheville\",\"Favourite\",\"Dahlia\",\"Zephine\",\"Fantine\",\"MmeThenardier\",\"Thenardier\",\"Cosette\",\"Javert\",\"Fauchelevent\",\"Bamatabois\",\"Perpetue\",\"Simplice\",\"Scaufflaire\",\"Woman1\",\"Judge\",\"Champmathieu\",\"Brevet\",\"Chenildieu\",\"Cochepaille\",\"Pontmercy\",\"Boulatruelle\",\"Eponine\",\"Anzelma\",\"Woman2\",\"MotherInnocent\",\"Gribier\",\"MmeBurgon\",\"Jondrette\",\"Gavroche\",\"Gillenormand\",\"Magnon\",\"MlleGillenormand\",\"MmePontmercy\",\"MlleVaubois\",\"LtGillenormand\",\"Marius\",\"BaronessT\",\"Mabeuf\",\"Enjolras\",\"Combeferre\",\"Prouvaire\",\"Feuilly\",\"Courfeyrac\",\"Bahorel\",\"Bossuet\",\"Joly\",\"Grantaire\",\"MotherPlutarch\",\"Gueulemer\",\"Babet\",\"Claquesous\",\"Montparnasse\",\"Toussaint\",\"Child1\",\"Child2\",\"Brujon\",\"MmeHucheloup\"],\"index\":[\"Napoleon\",\"Myriel\",\"MlleBaptistine\",\"MmeMagloire\",\"CountessDeLo\",\"Geborand\",\"Champtercier\",\"Cravatte\",\"Count\",\"OldMan\",\"Valjean\",\"Labarre\",\"Marguerite\",\"MmeDeR\",\"Isabeau\",\"Gervais\",\"Listolier\",\"Tholomyes\",\"Fameuil\",\"Blacheville\",\"Favourite\",\"Dahlia\",\"Zephine\",\"Fantine\",\"MmeThenardier\",\"Thenardier\",\"Cosette\",\"Javert\",\"Fauchelevent\",\"Bamatabois\",\"Perpetue\",\"Simplice\",\"Scaufflaire\",\"Woman1\",\"Judge\",\"Champmathieu\",\"Brevet\",\"Chenildieu\",\"Cochepaille\",\"Pontmercy\",\"Boulatruelle\",\"Eponine\",\"Anzelma\",\"Woman2\",\"MotherInnocent\",\"Gribier\",\"MmeBurgon\",\"Jondrette\",\"Gavroche\",\"Gillenormand\",\"Magnon\",\"MlleGillenormand\",\"MmePontmercy\",\"MlleVaubois\",\"LtGillenormand\",\"Marius\",\"BaronessT\",\"Mabeuf\",\"Enjolras\",\"Combeferre\",\"Prouvaire\",\"Feuilly\",\"Courfeyrac\",\"Bahorel\",\"Bossuet\",\"Joly\",\"Grantaire\",\"MotherPlutarch\",\"Gueulemer\",\"Babet\",\"Claquesous\",\"Montparnasse\",\"Toussaint\",\"Child1\",\"Child2\",\"Brujon\",\"MmeHucheloup\"]},\"selected\":{\"id\":\"2430\"},\"selection_policy\":{\"id\":\"2429\"}},\"id\":\"2263\",\"type\":\"ColumnDataSource\"},{\"attributes\":{\"fill_color\":{\"value\":\"#abdda4\"},\"size\":{\"value\":15}},\"id\":\"2297\",\"type\":\"Circle\"},{\"attributes\":{\"source\":{\"id\":\"2267\"}},\"id\":\"2269\",\"type\":\"CDSView\"},{\"attributes\":{\"edge_renderer\":{\"id\":\"2268\"},\"inspection_policy\":{\"id\":\"2319\"},\"layout_provider\":{\"id\":\"2270\"},\"node_renderer\":{\"id\":\"2264\"},\"selection_policy\":{\"id\":\"2317\"}},\"id\":\"2261\",\"type\":\"GraphRenderer\"},{\"attributes\":{\"line_alpha\":{\"value\":0.5},\"line_color\":{\"value\":\"#CCCCCC\"},\"line_width\":{\"value\":2}},\"id\":\"2302\",\"type\":\"MultiLine\"},{\"attributes\":{\"fill_color\":{\"value\":\"#fdae61\"},\"size\":{\"value\":15}},\"id\":\"2292\",\"type\":\"Circle\"},{\"attributes\":{\"end\":1.1,\"start\":-0.1},\"id\":\"2271\",\"type\":\"Range1d\"},{\"attributes\":{\"data\":{\"end\":[\"Myriel\",\"MlleBaptistine\",\"MmeMagloire\",\"CountessDeLo\",\"Geborand\",\"Champtercier\",\"Cravatte\",\"Count\",\"OldMan\",\"Valjean\",\"MmeMagloire\",\"Valjean\",\"Valjean\",\"Labarre\",\"Marguerite\",\"MmeDeR\",\"Isabeau\",\"Gervais\",\"Fantine\",\"MmeThenardier\",\"Thenardier\",\"Cosette\",\"Javert\",\"Fauchelevent\",\"Bamatabois\",\"Simplice\",\"Scaufflaire\",\"Woman1\",\"Judge\",\"Champmathieu\",\"Brevet\",\"Chenildieu\",\"Cochepaille\",\"Woman2\",\"MotherInnocent\",\"Gavroche\",\"Gillenormand\",\"MlleGillenormand\",\"Marius\",\"Enjolras\",\"Bossuet\",\"Gueulemer\",\"Babet\",\"Claquesous\",\"Montparnasse\",\"Toussaint\",\"Fantine\",\"Tholomyes\",\"Fameuil\",\"Blacheville\",\"Favourite\",\"Dahlia\",\"Zephine\",\"Fantine\",\"Fameuil\",\"Blacheville\",\"Favourite\",\"Dahlia\",\"Zephine\",\"Fantine\",\"Cosette\",\"Marius\",\"Blacheville\",\"Favourite\",\"Dahlia\",\"Zephine\",\"Fantine\",\"Favourite\",\"Dahlia\",\"Zephine\",\"Fantine\",\"Dahlia\",\"Zephine\",\"Fantine\",\"Zephine\",\"Fantine\",\"Fantine\",\"MmeThenardier\",\"Thenardier\",\"Javert\",\"Bamatabois\",\"Perpetue\",\"Simplice\",\"Thenardier\",\"Cosette\",\"Javert\",\"Eponine\",\"Anzelma\",\"Magnon\",\"Gueulemer\",\"Babet\",\"Claquesous\",\"Cosette\",\"Javert\",\"Pontmercy\",\"Boulatruelle\",\"Eponine\",\"Anzelma\",\"Gavroche\",\"Marius\",\"Gueulemer\",\"Babet\",\"Claquesous\",\"Montparnasse\",\"Brujon\",\"Javert\",\"Woman2\",\"Gillenormand\",\"MlleGillenormand\",\"LtGillenormand\",\"Marius\",\"Toussaint\",\"Fauchelevent\",\"Bamatabois\",\"Simplice\",\"Woman1\",\"Woman2\",\"Gavroche\",\"Enjolras\",\"Gueulemer\",\"Babet\",\"Claquesous\",\"Montparnasse\",\"Toussaint\",\"MotherInnocent\",\"Gribier\",\"Judge\",\"Champmathieu\",\"Brevet\",\"Chenildieu\",\"Cochepaille\",\"Simplice\",\"Champmathieu\",\"Brevet\",\"Chenildieu\",\"Cochepaille\",\"Brevet\",\"Chenildieu\",\"Cochepaille\",\"Chenildieu\",\"Cochepaille\",\"Cochepaille\",\"MmePontmercy\",\"Marius\",\"Anzelma\",\"Marius\",\"Mabeuf\",\"Courfeyrac\",\"Gueulemer\",\"Babet\",\"Claquesous\",\"Montparnasse\",\"Brujon\",\"Jondrette\",\"Gavroche\",\"Marius\",\"Mabeuf\",\"Enjolras\",\"Combeferre\",\"Prouvaire\",\"Feuilly\",\"Courfeyrac\",\"Bahorel\",\"Bossuet\",\"Joly\",\"Grantaire\",\"Gueulemer\",\"Babet\",\"Montparnasse\",\"Child1\",\"Child2\",\"Brujon\",\"MmeHucheloup\",\"Magnon\",\"MlleGillenormand\",\"LtGillenormand\",\"Marius\",\"BaronessT\",\"MmePontmercy\",\"MlleVaubois\",\"LtGillenormand\",\"Marius\",\"Marius\",\"BaronessT\",\"Mabeuf\",\"Enjolras\",\"Combeferre\",\"Feuilly\",\"Courfeyrac\",\"Bahorel\",\"Bossuet\",\"Joly\",\"Enjolras\",\"Combeferre\",\"Feuilly\",\"Courfeyrac\",\"Bahorel\",\"Bossuet\",\"Joly\",\"MotherPlutarch\",\"Combeferre\",\"Prouvaire\",\"Feuilly\",\"Courfeyrac\",\"Bahorel\",\"Bossuet\",\"Joly\",\"Grantaire\",\"Claquesous\",\"MmeHucheloup\",\"Prouvaire\",\"Feuilly\",\"Courfeyrac\",\"Bahorel\",\"Bossuet\",\"Joly\",\"Grantaire\",\"Feuilly\",\"Courfeyrac\",\"Bahorel\",\"Bossuet\",\"Joly\",\"Grantaire\",\"Courfeyrac\",\"Bahorel\",\"Bossuet\",\"Joly\",\"Grantaire\",\"Bahorel\",\"Bossuet\",\"Joly\",\"Grantaire\",\"MmeHucheloup\",\"Bossuet\",\"Joly\",\"Grantaire\",\"MmeHucheloup\",\"Joly\",\"Grantaire\",\"MmeHucheloup\",\"Grantaire\",\"MmeHucheloup\",\"MmeHucheloup\",\"Babet\",\"Claquesous\",\"Montparnasse\",\"Brujon\",\"Claquesous\",\"Montparnasse\",\"Brujon\",\"Montparnasse\",\"Brujon\",\"Brujon\",\"Child2\"],\"start\":[\"Napoleon\",\"Myriel\",\"Myriel\",\"Myriel\",\"Myriel\",\"Myriel\",\"Myriel\",\"Myriel\",\"Myriel\",\"Myriel\",\"MlleBaptistine\",\"MlleBaptistine\",\"MmeMagloire\",\"Valjean\",\"Valjean\",\"Valjean\",\"Valjean\",\"Valjean\",\"Valjean\",\"Valjean\",\"Valjean\",\"Valjean\",\"Valjean\",\"Valjean\",\"Valjean\",\"Valjean\",\"Valjean\",\"Valjean\",\"Valjean\",\"Valjean\",\"Valjean\",\"Valjean\",\"Valjean\",\"Valjean\",\"Valjean\",\"Valjean\",\"Valjean\",\"Valjean\",\"Valjean\",\"Valjean\",\"Valjean\",\"Valjean\",\"Valjean\",\"Valjean\",\"Valjean\",\"Valjean\",\"Marguerite\",\"Listolier\",\"Listolier\",\"Listolier\",\"Listolier\",\"Listolier\",\"Listolier\",\"Listolier\",\"Tholomyes\",\"Tholomyes\",\"Tholomyes\",\"Tholomyes\",\"Tholomyes\",\"Tholomyes\",\"Tholomyes\",\"Tholomyes\",\"Fameuil\",\"Fameuil\",\"Fameuil\",\"Fameuil\",\"Fameuil\",\"Blacheville\",\"Blacheville\",\"Blacheville\",\"Blacheville\",\"Favourite\",\"Favourite\",\"Favourite\",\"Dahlia\",\"Dahlia\",\"Zephine\",\"Fantine\",\"Fantine\",\"Fantine\",\"Fantine\",\"Fantine\",\"Fantine\",\"MmeThenardier\",\"MmeThenardier\",\"MmeThenardier\",\"MmeThenardier\",\"MmeThenardier\",\"MmeThenardier\",\"MmeThenardier\",\"MmeThenardier\",\"MmeThenardier\",\"Thenardier\",\"Thenardier\",\"Thenardier\",\"Thenardier\",\"Thenardier\",\"Thenardier\",\"Thenardier\",\"Thenardier\",\"Thenardier\",\"Thenardier\",\"Thenardier\",\"Thenardier\",\"Thenardier\",\"Cosette\",\"Cosette\",\"Cosette\",\"Cosette\",\"Cosette\",\"Cosette\",\"Cosette\",\"Javert\",\"Javert\",\"Javert\",\"Javert\",\"Javert\",\"Javert\",\"Javert\",\"Javert\",\"Javert\",\"Javert\",\"Javert\",\"Javert\",\"Fauchelevent\",\"Fauchelevent\",\"Bamatabois\",\"Bamatabois\",\"Bamatabois\",\"Bamatabois\",\"Bamatabois\",\"Perpetue\",\"Judge\",\"Judge\",\"Judge\",\"Judge\",\"Champmathieu\",\"Champmathieu\",\"Champmathieu\",\"Brevet\",\"Brevet\",\"Chenildieu\",\"Pontmercy\",\"Pontmercy\",\"Eponine\",\"Eponine\",\"Eponine\",\"Eponine\",\"Eponine\",\"Eponine\",\"Eponine\",\"Eponine\",\"Eponine\",\"MmeBurgon\",\"MmeBurgon\",\"Gavroche\",\"Gavroche\",\"Gavroche\",\"Gavroche\",\"Gavroche\",\"Gavroche\",\"Gavroche\",\"Gavroche\",\"Gavroche\",\"Gavroche\",\"Gavroche\",\"Gavroche\",\"Gavroche\",\"Gavroche\",\"Gavroche\",\"Gavroche\",\"Gavroche\",\"Gavroche\",\"Gillenormand\",\"Gillenormand\",\"Gillenormand\",\"Gillenormand\",\"Gillenormand\",\"MlleGillenormand\",\"MlleGillenormand\",\"MlleGillenormand\",\"MlleGillenormand\",\"LtGillenormand\",\"Marius\",\"Marius\",\"Marius\",\"Marius\",\"Marius\",\"Marius\",\"Marius\",\"Marius\",\"Marius\",\"Mabeuf\",\"Mabeuf\",\"Mabeuf\",\"Mabeuf\",\"Mabeuf\",\"Mabeuf\",\"Mabeuf\",\"Mabeuf\",\"Enjolras\",\"Enjolras\",\"Enjolras\",\"Enjolras\",\"Enjolras\",\"Enjolras\",\"Enjolras\",\"Enjolras\",\"Enjolras\",\"Enjolras\",\"Combeferre\",\"Combeferre\",\"Combeferre\",\"Combeferre\",\"Combeferre\",\"Combeferre\",\"Combeferre\",\"Prouvaire\",\"Prouvaire\",\"Prouvaire\",\"Prouvaire\",\"Prouvaire\",\"Prouvaire\",\"Feuilly\",\"Feuilly\",\"Feuilly\",\"Feuilly\",\"Feuilly\",\"Courfeyrac\",\"Courfeyrac\",\"Courfeyrac\",\"Courfeyrac\",\"Courfeyrac\",\"Bahorel\",\"Bahorel\",\"Bahorel\",\"Bahorel\",\"Bossuet\",\"Bossuet\",\"Bossuet\",\"Joly\",\"Joly\",\"Grantaire\",\"Gueulemer\",\"Gueulemer\",\"Gueulemer\",\"Gueulemer\",\"Babet\",\"Babet\",\"Babet\",\"Claquesous\",\"Claquesous\",\"Montparnasse\",\"Child1\"]},\"selected\":{\"id\":\"2432\"},\"selection_policy\":{\"id\":\"2431\"}},\"id\":\"2267\",\"type\":\"ColumnDataSource\"}],\"root_ids\":[\"2273\"]},\"title\":\"Bokeh Application\",\"version\":\"2.3.1\"}};\n",
       "  var render_items = [{\"docid\":\"76c942a1-7586-4ea2-b539-914db73f06e7\",\"root_ids\":[\"2273\"],\"roots\":{\"2273\":\"4986cb30-c972-40ab-b624-187c005b4c68\"}}];\n",
       "  root.Bokeh.embed.embed_items_notebook(docs_json, render_items);\n",
       "\n",
       "  }\n",
       "  if (root.Bokeh !== undefined) {\n",
       "    embed_document(root);\n",
       "  } else {\n",
       "    var attempts = 0;\n",
       "    var timer = setInterval(function(root) {\n",
       "      if (root.Bokeh !== undefined) {\n",
       "        clearInterval(timer);\n",
       "        embed_document(root);\n",
       "      } else {\n",
       "        attempts++;\n",
       "        if (attempts > 100) {\n",
       "          clearInterval(timer);\n",
       "          console.log(\"Bokeh: ERROR: Unable to run BokehJS code because BokehJS library is missing\");\n",
       "        }\n",
       "      }\n",
       "    }, 10, root)\n",
       "  }\n",
       "})(window);"
      ],
      "application/vnd.bokehjs_exec.v0+json": ""
     },
     "metadata": {
      "application/vnd.bokehjs_exec.v0+json": {
       "id": "2273"
      }
     },
     "output_type": "display_data"
    }
   ],
   "source": [
    "G = Network.from_networkx(nx.generators.social.les_miserables_graph())\n",
    "\n",
    "show(\n",
    "    G.plot(nx.kamada_kawai_layout, \n",
    "       # k=0.05,\n",
    "       scale=0.5, \n",
    "       center=(0.5, 0.5))\n",
    ")"
   ]
  },
  {
   "cell_type": "markdown",
   "metadata": {},
   "source": [
    "Alla grafer måste kunna formuleras på detta sätt, med noder som symboliserar någon form av entitet, och kanter som kan symbolisera någon form av förbindelse mellan två noder. Den strukturen som vi använt är mer eller mindre standard, och används av grafritningsverktyg så som Gephi.\n",
    "\n",
    "Vi kan nu börja fundera på hur vi kan använda nätverksgrafer för modellering."
   ]
  },
  {
   "cell_type": "markdown",
   "metadata": {},
   "source": [
    "## Modellering med nätverk\n",
    "\n",
    "Nätverks används ofta i samband med *sociala nätverk* och för humanister är detta kanske den mest kända tillämpningen. Nätverk är dock väsentligt mer mångsidiga i modelleringssammanhang. \n",
    "\n",
    "Om man som forskare vill använda sig av nätverk för att modellera ett problem eller ett system, finns det ett antal regler och förhållningssätt man bör förhålla sig till.\n",
    "\n",
    "### Vad är noderna?\n",
    "Noderna är *entiteter*, eller *storheter*. Det brukar nästan alltid röra sig om substantiv, i någon abstrakt mening. Noderna utgör en abstraktion och approximation av exempelvis människor, genom att i sociala nätverk reducera ner dem till säg namn och kön. \n",
    "\n",
    "#### Typ\n",
    "Alla noder måste vara av samma *typ*. Detta brukar jag kalla *äppel- och päronprincipen*, man får inte blanda äpplen och päron i en korg som endast ska innehålla en av dem. I sociala nätverk är varje nod av typen *människa*. En typ är vanligtvis en abstraktion - *djur* är en abstraktion som inkluderar både människor och andra djur, *frukt* inkluderar allt de växtdelar vi vanligtvis kallar frukt, både stenfrukter och bär. En annan typ skulle kunna vara *organisation*, så att varje nod måste vara en grupp eller institution.\n",
    "\n",
    "#### Observation/instans\n",
    "Varje enskild nod utgör en *observation*. Samma nod får alltså inte förekomma flera gånger. Om noderna är människor får samma människa endast förekomma en gång.  I exemplet från *Les Misérables* är varje nod alltså en enskild människa med relationer till andra människo-noder.\n",
    "\n",
    "Man säger att en nod är en *instans* av typen *människa* eller av typen *frukt*.\n",
    "\n",
    "#### Attribut\n",
    "Dessa observationer kan ha olika *attribut*. Det kan röra sig om *namn*, *ålder*, *kön*, *antal ben* för människor, eller egenskaper som *färg*, *kategori*, *ämne*, *författare* för andra typer av noder.\n",
    "\n",
    "Exempel:\n",
    "- Varje nod är ett litterärt verk, exempelvis \"Mio, min Mio\" med attributen \"genre: barnbok\", \"författare: Astrid Lindgren\".\n",
    "- Varje nod är en apelsin, exempelvis den jag åt till frukost, med attributen \"färg: orange\".\n",
    "- Varje nod är ett recept, exempelvis \"Sockerkaka\", med alla sina ingredienser som attribut.\n",
    "\n",
    "Detta är inte bara nära relaterat till, utan exakt detsamma som de entiteter som beskrivits av Johan Åhlfeldt i en av era kurser förra året om databaser. En enkel databas över noder kan alltså se ut så här:\n"
   ]
  },
  {
   "cell_type": "code",
   "execution_count": 11,
   "metadata": {},
   "outputs": [
    {
     "data": {
      "text/html": [
       "<div>\n",
       "<style scoped>\n",
       "    .dataframe tbody tr th:only-of-type {\n",
       "        vertical-align: middle;\n",
       "    }\n",
       "\n",
       "    .dataframe tbody tr th {\n",
       "        vertical-align: top;\n",
       "    }\n",
       "\n",
       "    .dataframe thead th {\n",
       "        text-align: right;\n",
       "    }\n",
       "</style>\n",
       "<table border=\"1\" class=\"dataframe\">\n",
       "  <thead>\n",
       "    <tr style=\"text-align: right;\">\n",
       "      <th></th>\n",
       "      <th>name</th>\n",
       "      <th>species</th>\n",
       "      <th>gender</th>\n",
       "      <th>rank</th>\n",
       "      <th>shows</th>\n",
       "    </tr>\n",
       "  </thead>\n",
       "  <tbody>\n",
       "    <tr>\n",
       "      <th>0</th>\n",
       "      <td>Kirk</td>\n",
       "      <td>human</td>\n",
       "      <td>male</td>\n",
       "      <td>captain</td>\n",
       "      <td>{Star Trek, Star Trek: The Next Generation}</td>\n",
       "    </tr>\n",
       "    <tr>\n",
       "      <th>1</th>\n",
       "      <td>Scotty</td>\n",
       "      <td>human</td>\n",
       "      <td>male</td>\n",
       "      <td>lieutenant commander</td>\n",
       "      <td>{Star Trek, Star Trek: The Next Generation}</td>\n",
       "    </tr>\n",
       "    <tr>\n",
       "      <th>2</th>\n",
       "      <td>Spock</td>\n",
       "      <td>half-human, half-vulcan</td>\n",
       "      <td>male</td>\n",
       "      <td>first officer</td>\n",
       "      <td>{Star Trek: Discovery, Star Trek, Star Trek: T...</td>\n",
       "    </tr>\n",
       "    <tr>\n",
       "      <th>3</th>\n",
       "      <td>Picard</td>\n",
       "      <td>human</td>\n",
       "      <td>male</td>\n",
       "      <td>captain</td>\n",
       "      <td>{Star Trek: Deep Space Nine, Star Trek: The Ne...</td>\n",
       "    </tr>\n",
       "    <tr>\n",
       "      <th>4</th>\n",
       "      <td>Janeway</td>\n",
       "      <td>human</td>\n",
       "      <td>female</td>\n",
       "      <td>captain</td>\n",
       "      <td>{Star Trek: Voyager}</td>\n",
       "    </tr>\n",
       "    <tr>\n",
       "      <th>5</th>\n",
       "      <td>Tuvok</td>\n",
       "      <td>vulcan</td>\n",
       "      <td>male</td>\n",
       "      <td>science officer</td>\n",
       "      <td>{Star Trek: Voyager}</td>\n",
       "    </tr>\n",
       "    <tr>\n",
       "      <th>6</th>\n",
       "      <td>Quark</td>\n",
       "      <td>ferengi</td>\n",
       "      <td>male</td>\n",
       "      <td>civilian</td>\n",
       "      <td>{Star Trek: Deep Space Nine}</td>\n",
       "    </tr>\n",
       "    <tr>\n",
       "      <th>7</th>\n",
       "      <td>Tilly</td>\n",
       "      <td>human</td>\n",
       "      <td>female</td>\n",
       "      <td>lieutenant</td>\n",
       "      <td>{Star Trek: Discovery}</td>\n",
       "    </tr>\n",
       "    <tr>\n",
       "      <th>8</th>\n",
       "      <td>Stamets</td>\n",
       "      <td>human</td>\n",
       "      <td>male</td>\n",
       "      <td>science officer</td>\n",
       "      <td>{Star Trek: Discovery}</td>\n",
       "    </tr>\n",
       "    <tr>\n",
       "      <th>9</th>\n",
       "      <td>Worf</td>\n",
       "      <td>klingon</td>\n",
       "      <td>male</td>\n",
       "      <td>lieutenant commander</td>\n",
       "      <td>{Star Trek: Deep Space Nine, Star Trek: The Ne...</td>\n",
       "    </tr>\n",
       "    <tr>\n",
       "      <th>10</th>\n",
       "      <td>Odo</td>\n",
       "      <td>changeling</td>\n",
       "      <td>unknown</td>\n",
       "      <td>civilian</td>\n",
       "      <td>{Star Trek: Deep Space Nine}</td>\n",
       "    </tr>\n",
       "  </tbody>\n",
       "</table>\n",
       "</div>"
      ],
      "text/plain": [
       "       name                  species   gender                  rank  \\\n",
       "0      Kirk                    human     male               captain   \n",
       "1    Scotty                    human     male  lieutenant commander   \n",
       "2     Spock  half-human, half-vulcan     male         first officer   \n",
       "3    Picard                    human     male               captain   \n",
       "4   Janeway                    human   female               captain   \n",
       "5     Tuvok                   vulcan     male       science officer   \n",
       "6     Quark                  ferengi     male              civilian   \n",
       "7     Tilly                    human   female            lieutenant   \n",
       "8   Stamets                    human     male       science officer   \n",
       "9      Worf                  klingon     male  lieutenant commander   \n",
       "10      Odo               changeling  unknown              civilian   \n",
       "\n",
       "                                                shows  \n",
       "0         {Star Trek, Star Trek: The Next Generation}  \n",
       "1         {Star Trek, Star Trek: The Next Generation}  \n",
       "2   {Star Trek: Discovery, Star Trek, Star Trek: T...  \n",
       "3   {Star Trek: Deep Space Nine, Star Trek: The Ne...  \n",
       "4                                {Star Trek: Voyager}  \n",
       "5                                {Star Trek: Voyager}  \n",
       "6                        {Star Trek: Deep Space Nine}  \n",
       "7                              {Star Trek: Discovery}  \n",
       "8                              {Star Trek: Discovery}  \n",
       "9   {Star Trek: Deep Space Nine, Star Trek: The Ne...  \n",
       "10                       {Star Trek: Deep Space Nine}  "
      ]
     },
     "execution_count": 11,
     "metadata": {},
     "output_type": "execute_result"
    }
   ],
   "source": [
    "SAMPLE_OBSERVATIONS"
   ]
  },
  {
   "cell_type": "markdown",
   "metadata": {},
   "source": [
    "### Vad är kanter/relationer?\n",
    "\n",
    "Kanter eller ofta *relationer* är där magin skapas, och den definierande grunden för alla nätverk. Relationer mellan noderna kan definieras på olika vis och således ge upphov till olika nätverk. \n",
    "\n",
    "Vi kan börja med ovan exempel med karaktärer från *Star Trek*. Ett nätverk kan definieras med noder av typen *karaktär* med kanter om två karaktärer har varit med i samma show.\n"
   ]
  },
  {
   "cell_type": "code",
   "execution_count": 12,
   "metadata": {},
   "outputs": [],
   "source": [
    "# Hitta \n",
    "E = list(pairwise_intersection(SAMPLE_OBSERVATIONS.to_dict('records'), 'shows', 'name'))\n",
    "\n",
    "V = SAMPLE_OBSERVATIONS[['name']].rename(columns={'name': 'id'}).to_dict('records')"
   ]
  },
  {
   "cell_type": "code",
   "execution_count": 13,
   "metadata": {},
   "outputs": [
    {
     "data": {
      "text/html": [
       "\n",
       "\n",
       "\n",
       "\n",
       "\n",
       "\n",
       "  <div class=\"bk-root\" id=\"24f98de4-b2a7-486c-83d1-2b7382e9e968\" data-root-id=\"2545\"></div>\n"
      ]
     },
     "metadata": {},
     "output_type": "display_data"
    },
    {
     "data": {
      "application/javascript": [
       "(function(root) {\n",
       "  function embed_document(root) {\n",
       "    \n",
       "  var docs_json = {\"7229a270-634e-4b80-8444-c5f7b1d829fe\":{\"defs\":[],\"roots\":{\"references\":[{\"attributes\":{\"height\":400,\"renderers\":[{\"id\":\"2533\"}],\"title\":{\"id\":\"2548\"},\"toolbar\":{\"id\":\"2554\"},\"width\":400,\"x_range\":{\"id\":\"2543\"},\"x_scale\":{\"id\":\"2708\"},\"y_range\":{\"id\":\"2544\"},\"y_scale\":{\"id\":\"2707\"}},\"id\":\"2545\",\"type\":\"Plot\"},{\"attributes\":{\"line_alpha\":{\"value\":0.5},\"line_color\":{\"value\":\"#CCCCCC\"},\"line_width\":{\"value\":2}},\"id\":\"2574\",\"type\":\"MultiLine\"},{\"attributes\":{\"fill_color\":{\"value\":\"#fdae61\"},\"size\":{\"value\":15}},\"id\":\"2564\",\"type\":\"Circle\"},{\"attributes\":{},\"id\":\"2720\",\"type\":\"Selection\"},{\"attributes\":{},\"id\":\"2719\",\"type\":\"UnionRenderers\"},{\"attributes\":{},\"id\":\"2717\",\"type\":\"UnionRenderers\"},{\"attributes\":{},\"id\":\"2718\",\"type\":\"Selection\"},{\"attributes\":{\"end\":1.1,\"start\":-0.1},\"id\":\"2543\",\"type\":\"Range1d\"},{\"attributes\":{\"fill_color\":{\"value\":\"#abdda4\"},\"size\":{\"value\":15}},\"id\":\"2569\",\"type\":\"Circle\"},{\"attributes\":{\"data\":{\"id\":[\"Kirk\",\"Scotty\",\"Spock\",\"Picard\",\"Janeway\",\"Tuvok\",\"Quark\",\"Tilly\",\"Stamets\",\"Worf\",\"Odo\"],\"index\":[\"Kirk\",\"Scotty\",\"Spock\",\"Picard\",\"Janeway\",\"Tuvok\",\"Quark\",\"Tilly\",\"Stamets\",\"Worf\",\"Odo\"]},\"selected\":{\"id\":\"2718\"},\"selection_policy\":{\"id\":\"2717\"}},\"id\":\"2535\",\"type\":\"ColumnDataSource\"},{\"attributes\":{\"line_color\":{\"value\":\"#abdda4\"},\"line_width\":{\"value\":2}},\"id\":\"2584\",\"type\":\"MultiLine\"},{\"attributes\":{},\"id\":\"2589\",\"type\":\"NodesAndLinkedEdges\"},{\"attributes\":{},\"id\":\"2553\",\"type\":\"ZoomOutTool\"},{\"attributes\":{\"callback\":null,\"tooltips\":[[\"id\",\"@id\"]]},\"id\":\"2550\",\"type\":\"HoverTool\"},{\"attributes\":{\"data_source\":{\"id\":\"2535\"},\"glyph\":{\"id\":\"2559\"},\"hover_glyph\":{\"id\":\"2569\"},\"muted_glyph\":null,\"selection_glyph\":{\"id\":\"2564\"},\"view\":{\"id\":\"2537\"}},\"id\":\"2536\",\"type\":\"GlyphRenderer\"},{\"attributes\":{\"text\":\"Interactive graph\"},\"id\":\"2548\",\"type\":\"Title\"},{\"attributes\":{\"end\":1.1,\"start\":-0.1},\"id\":\"2544\",\"type\":\"Range1d\"},{\"attributes\":{\"edge_renderer\":{\"id\":\"2540\"},\"inspection_policy\":{\"id\":\"2591\"},\"layout_provider\":{\"id\":\"2542\"},\"node_renderer\":{\"id\":\"2536\"},\"selection_policy\":{\"id\":\"2589\"}},\"id\":\"2533\",\"type\":\"GraphRenderer\"},{\"attributes\":{\"active_multi\":null,\"tools\":[{\"id\":\"2549\"},{\"id\":\"2550\"},{\"id\":\"2551\"},{\"id\":\"2552\"},{\"id\":\"2553\"}]},\"id\":\"2554\",\"type\":\"Toolbar\"},{\"attributes\":{},\"id\":\"2591\",\"type\":\"NodesOnly\"},{\"attributes\":{\"source\":{\"id\":\"2535\"}},\"id\":\"2537\",\"type\":\"CDSView\"},{\"attributes\":{},\"id\":\"2707\",\"type\":\"LinearScale\"},{\"attributes\":{},\"id\":\"2708\",\"type\":\"LinearScale\"},{\"attributes\":{\"source\":{\"id\":\"2539\"}},\"id\":\"2541\",\"type\":\"CDSView\"},{\"attributes\":{\"line_color\":{\"value\":\"#fdae61\"},\"line_width\":{\"value\":2}},\"id\":\"2579\",\"type\":\"MultiLine\"},{\"attributes\":{\"fill_alpha\":{\"value\":0.5},\"fill_color\":{\"value\":\"#2b83ba\"},\"size\":{\"value\":15}},\"id\":\"2559\",\"type\":\"Circle\"},{\"attributes\":{},\"id\":\"2552\",\"type\":\"ZoomInTool\"},{\"attributes\":{\"callback\":null},\"id\":\"2551\",\"type\":\"TapTool\"},{\"attributes\":{\"data\":{\"end\":[\"Scotty\",\"Spock\",\"Picard\",\"Worf\",\"Spock\",\"Picard\",\"Worf\",\"Picard\",\"Tilly\",\"Stamets\",\"Worf\",\"Quark\",\"Worf\",\"Odo\",\"Tuvok\",\"Worf\",\"Odo\",\"Stamets\",\"Odo\"],\"start\":[\"Kirk\",\"Kirk\",\"Kirk\",\"Kirk\",\"Scotty\",\"Scotty\",\"Scotty\",\"Spock\",\"Spock\",\"Spock\",\"Spock\",\"Picard\",\"Picard\",\"Picard\",\"Janeway\",\"Quark\",\"Quark\",\"Tilly\",\"Worf\"]},\"selected\":{\"id\":\"2720\"},\"selection_policy\":{\"id\":\"2719\"}},\"id\":\"2539\",\"type\":\"ColumnDataSource\"},{\"attributes\":{},\"id\":\"2549\",\"type\":\"PanTool\"},{\"attributes\":{\"data_source\":{\"id\":\"2539\"},\"glyph\":{\"id\":\"2574\"},\"hover_glyph\":{\"id\":\"2584\"},\"muted_glyph\":null,\"selection_glyph\":{\"id\":\"2579\"},\"view\":{\"id\":\"2541\"}},\"id\":\"2540\",\"type\":\"GlyphRenderer\"},{\"attributes\":{\"graph_layout\":{\"Janeway\":[0.17256966681605218,0.8778748207315812],\"Kirk\":[1.0,0.5000000013546511],\"Odo\":[0.9206267301568838,0.22967955752026187],\"Picard\":[0.42884258490344296,0.9949107156834238],\"Quark\":[0.020253514591924093,0.3591337225158988],\"Scotty\":[0.920626759959206,0.7703203855843956],\"Spock\":[0.7077075407845999,0.9548159826624611],\"Stamets\":[0.42884249549647624,0.005089287025878131],\"Tilly\":[0.17256963701372996,0.12212521178004299],\"Tuvok\":[0.020253514591924093,0.6408662950945643],\"Worf\":[0.707707555685761,0.045184020046840856]}},\"id\":\"2542\",\"type\":\"StaticLayoutProvider\"}],\"root_ids\":[\"2545\"]},\"title\":\"Bokeh Application\",\"version\":\"2.3.1\"}};\n",
       "  var render_items = [{\"docid\":\"7229a270-634e-4b80-8444-c5f7b1d829fe\",\"root_ids\":[\"2545\"],\"roots\":{\"2545\":\"24f98de4-b2a7-486c-83d1-2b7382e9e968\"}}];\n",
       "  root.Bokeh.embed.embed_items_notebook(docs_json, render_items);\n",
       "\n",
       "  }\n",
       "  if (root.Bokeh !== undefined) {\n",
       "    embed_document(root);\n",
       "  } else {\n",
       "    var attempts = 0;\n",
       "    var timer = setInterval(function(root) {\n",
       "      if (root.Bokeh !== undefined) {\n",
       "        clearInterval(timer);\n",
       "        embed_document(root);\n",
       "      } else {\n",
       "        attempts++;\n",
       "        if (attempts > 100) {\n",
       "          clearInterval(timer);\n",
       "          console.log(\"Bokeh: ERROR: Unable to run BokehJS code because BokehJS library is missing\");\n",
       "        }\n",
       "      }\n",
       "    }, 10, root)\n",
       "  }\n",
       "})(window);"
      ],
      "application/vnd.bokehjs_exec.v0+json": ""
     },
     "metadata": {
      "application/vnd.bokehjs_exec.v0+json": {
       "id": "2545"
      }
     },
     "output_type": "display_data"
    }
   ],
   "source": [
    "G = Network(V, E)\n",
    "show(\n",
    "    G.plot(nx.circular_layout, \n",
    "       scale=0.5, \n",
    "       center=(0.5,0.5))\n",
    ")"
   ]
  },
  {
   "cell_type": "markdown",
   "metadata": {},
   "source": [
    "### Exempel: Sociala nätverk\n",
    "\n",
    "Sociala nätverk involverar individer, människor, oftast som noder. Konstruktionen varierar, men kan exempelvis definieras som att individerna har en relation om \n",
    "\n",
    "- de känner varandra\n",
    "- de har lagt till varandra som \"vän\"\n",
    "- de följer varandra\n",
    "- de har arbetat på samma ställe\n",
    "\n",
    "och så vidare. Facebook är ett specialfall av ett socialt nätverk per konstruktion, det är alltså ingen approximation i sig. Det kan vara svårt att få tillförlitliga relationer i verkliga fall dock - ofta är det vanskligt att etablera om två individer \"känner varandra\", och man tvingas gå omvägar, exempelvis om de deltagit i samma föreställning. Det blir en proxy och approximation för deras verkliga relation.\n",
    "\n",
    "[Demonstration av projektet Expansion & Mångfald](https://dh.gu.se/network_demo/)"
   ]
  },
  {
   "cell_type": "markdown",
   "metadata": {},
   "source": [
    "### Exempel: Städer och geografi\n",
    "\n",
    "Många andra topologier i verkliga problem kan modelleras som nätverk. Vi betraktar ett antal städer i södra Sverige, och deras anslutningar till Europa-vägarna. Detta blir i praktiken en grov representation av Sveriges geografi, med en viktig skillnad - vi har inte explicit kodat in någon spatialitet.\n",
    "\n",
    "Detta ger upphov till ett nätverk av städer och vägar, och därmed också närheten mellan städerna. Liknande representationer skulle kunna göras med exempelvis spårvagnshållplatser eller tågstationer."
   ]
  },
  {
   "cell_type": "code",
   "execution_count": 14,
   "metadata": {},
   "outputs": [
    {
     "data": {
      "text/html": [
       "<div>\n",
       "<style scoped>\n",
       "    .dataframe tbody tr th:only-of-type {\n",
       "        vertical-align: middle;\n",
       "    }\n",
       "\n",
       "    .dataframe tbody tr th {\n",
       "        vertical-align: top;\n",
       "    }\n",
       "\n",
       "    .dataframe thead th {\n",
       "        text-align: right;\n",
       "    }\n",
       "</style>\n",
       "<table border=\"1\" class=\"dataframe\">\n",
       "  <thead>\n",
       "    <tr style=\"text-align: right;\">\n",
       "      <th></th>\n",
       "      <th>name</th>\n",
       "      <th>roads</th>\n",
       "    </tr>\n",
       "  </thead>\n",
       "  <tbody>\n",
       "    <tr>\n",
       "      <th>0</th>\n",
       "      <td>Göteborg</td>\n",
       "      <td>{E45, E20, E6}</td>\n",
       "    </tr>\n",
       "    <tr>\n",
       "      <th>1</th>\n",
       "      <td>Uddevalla</td>\n",
       "      <td>{E45, E6}</td>\n",
       "    </tr>\n",
       "    <tr>\n",
       "      <th>2</th>\n",
       "      <td>Kungsbacka</td>\n",
       "      <td>{E6}</td>\n",
       "    </tr>\n",
       "    <tr>\n",
       "      <th>3</th>\n",
       "      <td>Trollhättan</td>\n",
       "      <td>{E45}</td>\n",
       "    </tr>\n",
       "    <tr>\n",
       "      <th>4</th>\n",
       "      <td>Karlstad</td>\n",
       "      <td>{E18}</td>\n",
       "    </tr>\n",
       "    <tr>\n",
       "      <th>5</th>\n",
       "      <td>Örebro</td>\n",
       "      <td>{E20, E18}</td>\n",
       "    </tr>\n",
       "    <tr>\n",
       "      <th>6</th>\n",
       "      <td>Stockholm</td>\n",
       "      <td>{E4, E20, E18}</td>\n",
       "    </tr>\n",
       "    <tr>\n",
       "      <th>7</th>\n",
       "      <td>Helsingborg</td>\n",
       "      <td>{E4, E6}</td>\n",
       "    </tr>\n",
       "    <tr>\n",
       "      <th>8</th>\n",
       "      <td>Jönköping</td>\n",
       "      <td>{E4}</td>\n",
       "    </tr>\n",
       "  </tbody>\n",
       "</table>\n",
       "</div>"
      ],
      "text/plain": [
       "          name           roads\n",
       "0     Göteborg  {E45, E20, E6}\n",
       "1    Uddevalla       {E45, E6}\n",
       "2   Kungsbacka            {E6}\n",
       "3  Trollhättan           {E45}\n",
       "4     Karlstad           {E18}\n",
       "5       Örebro      {E20, E18}\n",
       "6    Stockholm  {E4, E20, E18}\n",
       "7  Helsingborg        {E4, E6}\n",
       "8    Jönköping            {E4}"
      ]
     },
     "execution_count": 14,
     "metadata": {},
     "output_type": "execute_result"
    }
   ],
   "source": [
    "CITIES"
   ]
  },
  {
   "cell_type": "code",
   "execution_count": 15,
   "metadata": {},
   "outputs": [
    {
     "data": {
      "text/html": [
       "\n",
       "\n",
       "\n",
       "\n",
       "\n",
       "\n",
       "  <div class=\"bk-root\" id=\"07982bbc-a8fe-47e7-a9d8-723380936ff6\" data-root-id=\"2833\"></div>\n"
      ]
     },
     "metadata": {},
     "output_type": "display_data"
    },
    {
     "data": {
      "application/javascript": [
       "(function(root) {\n",
       "  function embed_document(root) {\n",
       "    \n",
       "  var docs_json = {\"93772716-ccb6-42be-bf61-8601b4c31733\":{\"defs\":[],\"roots\":{\"references\":[{\"attributes\":{\"height\":400,\"renderers\":[{\"id\":\"2821\"}],\"title\":{\"id\":\"2836\"},\"toolbar\":{\"id\":\"2842\"},\"width\":400,\"x_range\":{\"id\":\"2831\"},\"x_scale\":{\"id\":\"3012\"},\"y_range\":{\"id\":\"2832\"},\"y_scale\":{\"id\":\"3011\"}},\"id\":\"2833\",\"type\":\"Plot\"},{\"attributes\":{},\"id\":\"2879\",\"type\":\"NodesOnly\"},{\"attributes\":{},\"id\":\"3011\",\"type\":\"LinearScale\"},{\"attributes\":{},\"id\":\"3012\",\"type\":\"LinearScale\"},{\"attributes\":{\"fill_alpha\":{\"value\":0.5},\"fill_color\":{\"value\":\"#2b83ba\"},\"size\":{\"value\":15}},\"id\":\"2847\",\"type\":\"Circle\"},{\"attributes\":{\"fill_color\":{\"value\":\"#abdda4\"},\"size\":{\"value\":15}},\"id\":\"2857\",\"type\":\"Circle\"},{\"attributes\":{\"data_source\":{\"id\":\"2827\"},\"glyph\":{\"id\":\"2862\"},\"hover_glyph\":{\"id\":\"2872\"},\"muted_glyph\":null,\"selection_glyph\":{\"id\":\"2867\"},\"view\":{\"id\":\"2829\"}},\"id\":\"2828\",\"type\":\"GlyphRenderer\"},{\"attributes\":{},\"id\":\"2841\",\"type\":\"ZoomOutTool\"},{\"attributes\":{\"fill_color\":{\"value\":\"#fdae61\"},\"size\":{\"value\":15}},\"id\":\"2852\",\"type\":\"Circle\"},{\"attributes\":{\"line_alpha\":{\"value\":0.5},\"line_color\":{\"value\":\"#CCCCCC\"},\"line_width\":{\"value\":2}},\"id\":\"2862\",\"type\":\"MultiLine\"},{\"attributes\":{\"active_multi\":null,\"tools\":[{\"id\":\"2837\"},{\"id\":\"2838\"},{\"id\":\"2839\"},{\"id\":\"2840\"},{\"id\":\"2841\"}]},\"id\":\"2842\",\"type\":\"Toolbar\"},{\"attributes\":{},\"id\":\"2837\",\"type\":\"PanTool\"},{\"attributes\":{},\"id\":\"2840\",\"type\":\"ZoomInTool\"},{\"attributes\":{},\"id\":\"3023\",\"type\":\"UnionRenderers\"},{\"attributes\":{},\"id\":\"3024\",\"type\":\"Selection\"},{\"attributes\":{\"callback\":null},\"id\":\"2839\",\"type\":\"TapTool\"},{\"attributes\":{\"end\":1.1,\"start\":-0.1},\"id\":\"2832\",\"type\":\"Range1d\"},{\"attributes\":{\"graph_layout\":{\"G\\u00f6teborg\":[0.4648907977096681,0.6372056461491196],\"Helsingborg\":[0.7083955430879703,0.3955914080468772],\"J\\u00f6nk\\u00f6ping\":[0.6555647997298705,0.05209986087930768],\"Karlstad\":[0.026203916786832704,0.16818539684521383],\"Kungsbacka\":[0.7118487319531381,0.777959710309738],\"Stockholm\":[0.37400326701509123,0.2783756052419885],\"Trollh\\u00e4ttan\":[0.562598566670661,1.0],\"Uddevalla\":[0.8705130941171699,0.6846734210761118],\"\\u00d6rebro\":[0.12598128292959843,0.5059089514516434]}},\"id\":\"2830\",\"type\":\"StaticLayoutProvider\"},{\"attributes\":{},\"id\":\"3021\",\"type\":\"UnionRenderers\"},{\"attributes\":{\"line_color\":{\"value\":\"#abdda4\"},\"line_width\":{\"value\":2}},\"id\":\"2872\",\"type\":\"MultiLine\"},{\"attributes\":{\"line_color\":{\"value\":\"#fdae61\"},\"line_width\":{\"value\":2}},\"id\":\"2867\",\"type\":\"MultiLine\"},{\"attributes\":{\"data\":{\"end\":[\"Uddevalla\",\"Kungsbacka\",\"Trollh\\u00e4ttan\",\"\\u00d6rebro\",\"Stockholm\",\"Helsingborg\",\"Kungsbacka\",\"Trollh\\u00e4ttan\",\"Helsingborg\",\"Helsingborg\",\"\\u00d6rebro\",\"Stockholm\",\"Stockholm\",\"Helsingborg\",\"J\\u00f6nk\\u00f6ping\",\"J\\u00f6nk\\u00f6ping\"],\"start\":[\"G\\u00f6teborg\",\"G\\u00f6teborg\",\"G\\u00f6teborg\",\"G\\u00f6teborg\",\"G\\u00f6teborg\",\"G\\u00f6teborg\",\"Uddevalla\",\"Uddevalla\",\"Uddevalla\",\"Kungsbacka\",\"Karlstad\",\"Karlstad\",\"\\u00d6rebro\",\"Stockholm\",\"Stockholm\",\"Helsingborg\"]},\"selected\":{\"id\":\"3024\"},\"selection_policy\":{\"id\":\"3023\"}},\"id\":\"2827\",\"type\":\"ColumnDataSource\"},{\"attributes\":{\"source\":{\"id\":\"2827\"}},\"id\":\"2829\",\"type\":\"CDSView\"},{\"attributes\":{\"end\":1.1,\"start\":-0.1},\"id\":\"2831\",\"type\":\"Range1d\"},{\"attributes\":{},\"id\":\"2877\",\"type\":\"NodesAndLinkedEdges\"},{\"attributes\":{\"callback\":null,\"tooltips\":[[\"id\",\"@id\"]]},\"id\":\"2838\",\"type\":\"HoverTool\"},{\"attributes\":{},\"id\":\"3022\",\"type\":\"Selection\"},{\"attributes\":{\"source\":{\"id\":\"2823\"}},\"id\":\"2825\",\"type\":\"CDSView\"},{\"attributes\":{\"text\":\"Interactive graph\"},\"id\":\"2836\",\"type\":\"Title\"},{\"attributes\":{\"data_source\":{\"id\":\"2823\"},\"glyph\":{\"id\":\"2847\"},\"hover_glyph\":{\"id\":\"2857\"},\"muted_glyph\":null,\"selection_glyph\":{\"id\":\"2852\"},\"view\":{\"id\":\"2825\"}},\"id\":\"2824\",\"type\":\"GlyphRenderer\"},{\"attributes\":{\"edge_renderer\":{\"id\":\"2828\"},\"inspection_policy\":{\"id\":\"2879\"},\"layout_provider\":{\"id\":\"2830\"},\"node_renderer\":{\"id\":\"2824\"},\"selection_policy\":{\"id\":\"2877\"}},\"id\":\"2821\",\"type\":\"GraphRenderer\"},{\"attributes\":{\"data\":{\"id\":[\"G\\u00f6teborg\",\"Uddevalla\",\"Kungsbacka\",\"Trollh\\u00e4ttan\",\"Karlstad\",\"\\u00d6rebro\",\"Stockholm\",\"Helsingborg\",\"J\\u00f6nk\\u00f6ping\"],\"index\":[\"G\\u00f6teborg\",\"Uddevalla\",\"Kungsbacka\",\"Trollh\\u00e4ttan\",\"Karlstad\",\"\\u00d6rebro\",\"Stockholm\",\"Helsingborg\",\"J\\u00f6nk\\u00f6ping\"]},\"selected\":{\"id\":\"3022\"},\"selection_policy\":{\"id\":\"3021\"}},\"id\":\"2823\",\"type\":\"ColumnDataSource\"}],\"root_ids\":[\"2833\"]},\"title\":\"Bokeh Application\",\"version\":\"2.3.1\"}};\n",
       "  var render_items = [{\"docid\":\"93772716-ccb6-42be-bf61-8601b4c31733\",\"root_ids\":[\"2833\"],\"roots\":{\"2833\":\"07982bbc-a8fe-47e7-a9d8-723380936ff6\"}}];\n",
       "  root.Bokeh.embed.embed_items_notebook(docs_json, render_items);\n",
       "\n",
       "  }\n",
       "  if (root.Bokeh !== undefined) {\n",
       "    embed_document(root);\n",
       "  } else {\n",
       "    var attempts = 0;\n",
       "    var timer = setInterval(function(root) {\n",
       "      if (root.Bokeh !== undefined) {\n",
       "        clearInterval(timer);\n",
       "        embed_document(root);\n",
       "      } else {\n",
       "        attempts++;\n",
       "        if (attempts > 100) {\n",
       "          clearInterval(timer);\n",
       "          console.log(\"Bokeh: ERROR: Unable to run BokehJS code because BokehJS library is missing\");\n",
       "        }\n",
       "      }\n",
       "    }, 10, root)\n",
       "  }\n",
       "})(window);"
      ],
      "application/vnd.bokehjs_exec.v0+json": ""
     },
     "metadata": {
      "application/vnd.bokehjs_exec.v0+json": {
       "id": "2833"
      }
     },
     "output_type": "display_data"
    }
   ],
   "source": [
    "E = list(pairwise_intersection(CITIES.to_dict('records'), 'roads', 'name'))\n",
    "V = CITIES[['name']].rename(columns={'name': 'id'}).to_dict('records')\n",
    "\n",
    "G = Network(V, E)\n",
    "show(\n",
    "    G.plot(nx.kamada_kawai_layout, \n",
    "       # k=0.05,\n",
    "       scale=0.5, \n",
    "       center=(0.5, 0.5))\n",
    ")"
   ]
  },
  {
   "cell_type": "markdown",
   "metadata": {},
   "source": [
    "Observera att då vi inte har givit någon explicit positionering av städerna kan vi inte återfå Sveriges geografi - men vi kan få vägnätverkets topologi. Det finns hintar av en geografi i form av *kluster* (Örebro, Karlstad, Stockholm), (Göteborg, Jönköping, Helsingborg), (Göteborg, Uddevalla, Kungsbacka, Trollhättan)"
   ]
  },
  {
   "cell_type": "markdown",
   "metadata": {},
   "source": [
    "### Exempel: Flygrutter\n",
    "\n",
    "Ett annat exempel på samma tema som gemene man kanske inte associerar med nätverk är flygrutter. Varje nod kan lämpligtvis vara en flygplats, och relationen mellan flygplatser definieras som existensen av en rutt mellan de båda. I Sverige har alltså Landvetter färre kopplingar än Arlanda. Varje flygplats har också relevanta attribut, exempelvis namn, land och storlek/kapacitet."
   ]
  },
  {
   "cell_type": "code",
   "execution_count": 16,
   "metadata": {},
   "outputs": [
    {
     "data": {
      "text/html": [
       "<div>\n",
       "<style scoped>\n",
       "    .dataframe tbody tr th:only-of-type {\n",
       "        vertical-align: middle;\n",
       "    }\n",
       "\n",
       "    .dataframe tbody tr th {\n",
       "        vertical-align: top;\n",
       "    }\n",
       "\n",
       "    .dataframe thead th {\n",
       "        text-align: right;\n",
       "    }\n",
       "</style>\n",
       "<table border=\"1\" class=\"dataframe\">\n",
       "  <thead>\n",
       "    <tr style=\"text-align: right;\">\n",
       "      <th></th>\n",
       "      <th>from</th>\n",
       "      <th>to</th>\n",
       "    </tr>\n",
       "  </thead>\n",
       "  <tbody>\n",
       "    <tr>\n",
       "      <th>0</th>\n",
       "      <td>Arlanda</td>\n",
       "      <td>Kastrup</td>\n",
       "    </tr>\n",
       "    <tr>\n",
       "      <th>1</th>\n",
       "      <td>Arlanda</td>\n",
       "      <td>Oslo</td>\n",
       "    </tr>\n",
       "    <tr>\n",
       "      <th>2</th>\n",
       "      <td>Landvetter</td>\n",
       "      <td>Arlanda</td>\n",
       "    </tr>\n",
       "    <tr>\n",
       "      <th>3</th>\n",
       "      <td>Landvetter</td>\n",
       "      <td>Helsingfors</td>\n",
       "    </tr>\n",
       "    <tr>\n",
       "      <th>4</th>\n",
       "      <td>Kastrup</td>\n",
       "      <td>Landvetter</td>\n",
       "    </tr>\n",
       "    <tr>\n",
       "      <th>5</th>\n",
       "      <td>Oslo</td>\n",
       "      <td>Landvetter</td>\n",
       "    </tr>\n",
       "    <tr>\n",
       "      <th>6</th>\n",
       "      <td>Oslo</td>\n",
       "      <td>Helsingfors</td>\n",
       "    </tr>\n",
       "    <tr>\n",
       "      <th>7</th>\n",
       "      <td>Helsingfors</td>\n",
       "      <td>Arlanda</td>\n",
       "    </tr>\n",
       "    <tr>\n",
       "      <th>8</th>\n",
       "      <td>Helsingfors</td>\n",
       "      <td>Oslo</td>\n",
       "    </tr>\n",
       "  </tbody>\n",
       "</table>\n",
       "</div>"
      ],
      "text/plain": [
       "          from           to\n",
       "0      Arlanda      Kastrup\n",
       "1      Arlanda         Oslo\n",
       "2   Landvetter      Arlanda\n",
       "3   Landvetter  Helsingfors\n",
       "4      Kastrup   Landvetter\n",
       "5         Oslo   Landvetter\n",
       "6         Oslo  Helsingfors\n",
       "7  Helsingfors      Arlanda\n",
       "8  Helsingfors         Oslo"
      ]
     },
     "execution_count": 16,
     "metadata": {},
     "output_type": "execute_result"
    }
   ],
   "source": [
    "FLIGHTS.head(10)"
   ]
  },
  {
   "cell_type": "code",
   "execution_count": 17,
   "metadata": {},
   "outputs": [],
   "source": [
    "E = FLIGHTS.to_dict('records')\n",
    "\n",
    "V = [{'id': v} for v in set(FLIGHTS['from'].values)]"
   ]
  },
  {
   "cell_type": "code",
   "execution_count": 18,
   "metadata": {},
   "outputs": [
    {
     "data": {
      "text/html": [
       "\n",
       "\n",
       "\n",
       "\n",
       "\n",
       "\n",
       "  <div class=\"bk-root\" id=\"9bdf473b-132d-4962-ad57-271fbf2f82a7\" data-root-id=\"3137\"></div>\n"
      ]
     },
     "metadata": {},
     "output_type": "display_data"
    },
    {
     "data": {
      "application/javascript": [
       "(function(root) {\n",
       "  function embed_document(root) {\n",
       "    \n",
       "  var docs_json = {\"05dbe7df-911c-425e-9cbb-02b3f63fb729\":{\"defs\":[],\"roots\":{\"references\":[{\"attributes\":{\"height\":400,\"renderers\":[{\"id\":\"3125\"}],\"title\":{\"id\":\"3140\"},\"toolbar\":{\"id\":\"3146\"},\"width\":400,\"x_range\":{\"id\":\"3135\"},\"x_scale\":{\"id\":\"3332\"},\"y_range\":{\"id\":\"3136\"},\"y_scale\":{\"id\":\"3331\"}},\"id\":\"3137\",\"type\":\"Plot\"},{\"attributes\":{\"data_source\":{\"id\":\"3127\"},\"glyph\":{\"id\":\"3151\"},\"hover_glyph\":{\"id\":\"3161\"},\"muted_glyph\":null,\"selection_glyph\":{\"id\":\"3156\"},\"view\":{\"id\":\"3129\"}},\"id\":\"3128\",\"type\":\"GlyphRenderer\"},{\"attributes\":{},\"id\":\"3144\",\"type\":\"ZoomInTool\"},{\"attributes\":{\"fill_color\":{\"value\":\"#abdda4\"},\"size\":{\"value\":15}},\"id\":\"3161\",\"type\":\"Circle\"},{\"attributes\":{\"data\":{\"id\":[\"Oslo\",\"Arlanda\",\"Kastrup\",\"Helsingfors\",\"Landvetter\"],\"index\":[\"Oslo\",\"Arlanda\",\"Kastrup\",\"Helsingfors\",\"Landvetter\"]},\"selected\":{\"id\":\"3342\"},\"selection_policy\":{\"id\":\"3341\"}},\"id\":\"3127\",\"type\":\"ColumnDataSource\"},{\"attributes\":{\"data\":{\"end\":[\"Arlanda\",\"Landvetter\",\"Helsingfors\",\"Kastrup\",\"Landvetter\",\"Helsingfors\",\"Landvetter\",\"Landvetter\"],\"start\":[\"Oslo\",\"Oslo\",\"Oslo\",\"Arlanda\",\"Arlanda\",\"Arlanda\",\"Kastrup\",\"Helsingfors\"]},\"selected\":{\"id\":\"3344\"},\"selection_policy\":{\"id\":\"3343\"}},\"id\":\"3131\",\"type\":\"ColumnDataSource\"},{\"attributes\":{\"source\":{\"id\":\"3127\"}},\"id\":\"3129\",\"type\":\"CDSView\"},{\"attributes\":{\"graph_layout\":{\"Arlanda\":[0.654508476093664,0.9755282841780271],\"Helsingfors\":[0.09549150155459352,0.20610733944497522],\"Kastrup\":[0.09549147175227024,0.7938926307527014],\"Landvetter\":[0.6545085505994722,0.024471745624296215],\"Oslo\":[1.0,0.5]}},\"id\":\"3134\",\"type\":\"StaticLayoutProvider\"},{\"attributes\":{\"edge_renderer\":{\"id\":\"3132\"},\"inspection_policy\":{\"id\":\"3183\"},\"layout_provider\":{\"id\":\"3134\"},\"node_renderer\":{\"id\":\"3128\"},\"selection_policy\":{\"id\":\"3181\"}},\"id\":\"3125\",\"type\":\"GraphRenderer\"},{\"attributes\":{\"data_source\":{\"id\":\"3131\"},\"glyph\":{\"id\":\"3166\"},\"hover_glyph\":{\"id\":\"3176\"},\"muted_glyph\":null,\"selection_glyph\":{\"id\":\"3171\"},\"view\":{\"id\":\"3133\"}},\"id\":\"3132\",\"type\":\"GlyphRenderer\"},{\"attributes\":{},\"id\":\"3331\",\"type\":\"LinearScale\"},{\"attributes\":{},\"id\":\"3343\",\"type\":\"UnionRenderers\"},{\"attributes\":{\"source\":{\"id\":\"3131\"}},\"id\":\"3133\",\"type\":\"CDSView\"},{\"attributes\":{\"line_alpha\":{\"value\":0.5},\"line_color\":{\"value\":\"#CCCCCC\"},\"line_width\":{\"value\":2}},\"id\":\"3166\",\"type\":\"MultiLine\"},{\"attributes\":{},\"id\":\"3344\",\"type\":\"Selection\"},{\"attributes\":{\"end\":1.1,\"start\":-0.1},\"id\":\"3136\",\"type\":\"Range1d\"},{\"attributes\":{},\"id\":\"3332\",\"type\":\"LinearScale\"},{\"attributes\":{\"callback\":null,\"tooltips\":[[\"id\",\"@id\"]]},\"id\":\"3142\",\"type\":\"HoverTool\"},{\"attributes\":{\"callback\":null},\"id\":\"3143\",\"type\":\"TapTool\"},{\"attributes\":{\"text\":\"Interactive graph\"},\"id\":\"3140\",\"type\":\"Title\"},{\"attributes\":{},\"id\":\"3141\",\"type\":\"PanTool\"},{\"attributes\":{\"active_multi\":null,\"tools\":[{\"id\":\"3141\"},{\"id\":\"3142\"},{\"id\":\"3143\"},{\"id\":\"3144\"},{\"id\":\"3145\"}]},\"id\":\"3146\",\"type\":\"Toolbar\"},{\"attributes\":{\"fill_alpha\":{\"value\":0.5},\"fill_color\":{\"value\":\"#2b83ba\"},\"size\":{\"value\":15}},\"id\":\"3151\",\"type\":\"Circle\"},{\"attributes\":{},\"id\":\"3145\",\"type\":\"ZoomOutTool\"},{\"attributes\":{\"end\":1.1,\"start\":-0.1},\"id\":\"3135\",\"type\":\"Range1d\"},{\"attributes\":{},\"id\":\"3183\",\"type\":\"NodesOnly\"},{\"attributes\":{},\"id\":\"3341\",\"type\":\"UnionRenderers\"},{\"attributes\":{\"line_color\":{\"value\":\"#abdda4\"},\"line_width\":{\"value\":2}},\"id\":\"3176\",\"type\":\"MultiLine\"},{\"attributes\":{\"fill_color\":{\"value\":\"#fdae61\"},\"size\":{\"value\":15}},\"id\":\"3156\",\"type\":\"Circle\"},{\"attributes\":{},\"id\":\"3342\",\"type\":\"Selection\"},{\"attributes\":{},\"id\":\"3181\",\"type\":\"NodesAndLinkedEdges\"},{\"attributes\":{\"line_color\":{\"value\":\"#fdae61\"},\"line_width\":{\"value\":2}},\"id\":\"3171\",\"type\":\"MultiLine\"}],\"root_ids\":[\"3137\"]},\"title\":\"Bokeh Application\",\"version\":\"2.3.1\"}};\n",
       "  var render_items = [{\"docid\":\"05dbe7df-911c-425e-9cbb-02b3f63fb729\",\"root_ids\":[\"3137\"],\"roots\":{\"3137\":\"9bdf473b-132d-4962-ad57-271fbf2f82a7\"}}];\n",
       "  root.Bokeh.embed.embed_items_notebook(docs_json, render_items);\n",
       "\n",
       "  }\n",
       "  if (root.Bokeh !== undefined) {\n",
       "    embed_document(root);\n",
       "  } else {\n",
       "    var attempts = 0;\n",
       "    var timer = setInterval(function(root) {\n",
       "      if (root.Bokeh !== undefined) {\n",
       "        clearInterval(timer);\n",
       "        embed_document(root);\n",
       "      } else {\n",
       "        attempts++;\n",
       "        if (attempts > 100) {\n",
       "          clearInterval(timer);\n",
       "          console.log(\"Bokeh: ERROR: Unable to run BokehJS code because BokehJS library is missing\");\n",
       "        }\n",
       "      }\n",
       "    }, 10, root)\n",
       "  }\n",
       "})(window);"
      ],
      "application/vnd.bokehjs_exec.v0+json": ""
     },
     "metadata": {
      "application/vnd.bokehjs_exec.v0+json": {
       "id": "3137"
      }
     },
     "output_type": "display_data"
    }
   ],
   "source": [
    "G = Network(V, E)\n",
    "show(\n",
    "    G.plot(nx.circular_layout, \n",
    "       scale=0.5, \n",
    "       center=(0.5,0.5))\n",
    ")"
   ]
  },
  {
   "cell_type": "markdown",
   "metadata": {},
   "source": [
    "Observera att detta dock inte är hela bilden; detta nätverk skiljer sig nämligen från de vi har gått igenom tidigare. Varje flygplansrutt har tydliga start och slut på sina rutter, och ett plan som åker från Landvetter till Helsningfors måste inte nödvändigtvis ha en anslutning tillbaka, direkt väg. \n",
    "\n",
    "Detta betyder att nätverket är *riktat*. En riktad graf kan bara traverseras längs en kant åt de håll den tillåter. Vissa kanter har en riktning, vissa har två."
   ]
  },
  {
   "cell_type": "code",
   "execution_count": 19,
   "metadata": {},
   "outputs": [
    {
     "data": {
      "image/png": "[encoded data removed]",
      "text/plain": [
       "<Figure size 432x288 with 1 Axes>"
      ]
     },
     "metadata": {},
     "output_type": "display_data"
    }
   ],
   "source": [
    "G = nx.DiGraph()\n",
    "G.add_nodes_from([(v['id'], v) for v in V])\n",
    "G.add_edges_from([e.values() for e in E])\n",
    "\n",
    "options = {\n",
    "    'node_color': 'white',\n",
    "    'node_size': 100,\n",
    "    'padding': 15,\n",
    "    'width': 1,\n",
    "    'arrowstyle': '-|>',\n",
    "    'arrowsize': 12,\n",
    "}\n",
    "nx.draw_networkx(G, pos=nx.circular_layout(G), arrows=True, **options)\n",
    "plt.xlim(-2,2)\n",
    "plt.show()"
   ]
  },
  {
   "cell_type": "markdown",
   "metadata": {},
   "source": [
    "### Exempel: Riktade nätverk\n",
    "Vi har nu introducerat riktade nätverk, som lägger till ett attribut hos kanterna på grafen. Flygplansrutter är ett typexempel på riktade grafer, medan exempelvis vägnätverk typiskt är oriktade - vägarna löper oftast åt båda håll. Riktade grafer är också väldigt viktiga i sociala nätverk, och många typer av relationer *måste* representeras med en riktning.\n",
    "\n",
    "**Facebook vs. Twitter**<br>\n",
    "Facebook är känt nog oriktat - när du lägger till någon som en vän får ni båda en kant mellan varandra. Twitter emellertid, har ett \"följarsystem\", där du följer andra användare, som dock inte måste följa dig tillbaka. Detta skapar en kant riktad från dig till den du följer. I Facebooks fall har även de introducerat möjligheten att följa folk utan att lägga till dem som vän - de har alltså två nätverk, ett nätverk med oriktade kanter, och ett med riktade kanter av följare. \n",
    "\n",
    "**Telefonnummer**<br>\n",
    "Ett annat exempel på riktade kanter är telefonnummer i din telefonbok - du kan ha numret till någon som inte nödvändigtvis har ditt telefonnummer. Då kan du ringa denna person, men de kan inte ringa dig. "
   ]
  },
  {
   "cell_type": "markdown",
   "metadata": {},
   "source": [
    "### Exempel: Släktträd\n",
    "Ett släktträd är ett så kallat träd, ett specialfall av nätverk där det finns en riktning i hela grafen. I släktträd utgörs noderna av individer, och kanterna representerar att man är barn till noden. Ofta utelämnas riktningen på kanterna i släktträd och istället kommuniceras denna information visuellt genom *layouten* istället.\n",
    "\n",
    "I ett släktträd är ofta kanterna i en annan stil än de vi är vana vid, och går istället ihop till en gemensam linje till ättlingen. Detta ändrar dock inte nätverkets betydelse."
   ]
  },
  {
   "cell_type": "code",
   "execution_count": 20,
   "metadata": {},
   "outputs": [
    {
     "data": {
      "text/html": [
       "<div>\n",
       "<style scoped>\n",
       "    .dataframe tbody tr th:only-of-type {\n",
       "        vertical-align: middle;\n",
       "    }\n",
       "\n",
       "    .dataframe tbody tr th {\n",
       "        vertical-align: top;\n",
       "    }\n",
       "\n",
       "    .dataframe thead th {\n",
       "        text-align: right;\n",
       "    }\n",
       "</style>\n",
       "<table border=\"1\" class=\"dataframe\">\n",
       "  <thead>\n",
       "    <tr style=\"text-align: right;\">\n",
       "      <th></th>\n",
       "      <th>name</th>\n",
       "      <th>children</th>\n",
       "      <th>x</th>\n",
       "      <th>y</th>\n",
       "    </tr>\n",
       "  </thead>\n",
       "  <tbody>\n",
       "    <tr>\n",
       "      <th>0</th>\n",
       "      <td>Per</td>\n",
       "      <td>{Elias, Gudmund}</td>\n",
       "      <td>0.35</td>\n",
       "      <td>1.00</td>\n",
       "    </tr>\n",
       "    <tr>\n",
       "      <th>1</th>\n",
       "      <td>Gun</td>\n",
       "      <td>{Elias, Gudmund}</td>\n",
       "      <td>0.65</td>\n",
       "      <td>1.00</td>\n",
       "    </tr>\n",
       "    <tr>\n",
       "      <th>2</th>\n",
       "      <td>Elias</td>\n",
       "      <td>{Siv}</td>\n",
       "      <td>0.35</td>\n",
       "      <td>0.75</td>\n",
       "    </tr>\n",
       "    <tr>\n",
       "      <th>3</th>\n",
       "      <td>Adelia</td>\n",
       "      <td>{Siv}</td>\n",
       "      <td>0.65</td>\n",
       "      <td>0.75</td>\n",
       "    </tr>\n",
       "    <tr>\n",
       "      <th>4</th>\n",
       "      <td>Gudmund</td>\n",
       "      <td>{}</td>\n",
       "      <td>0.05</td>\n",
       "      <td>0.75</td>\n",
       "    </tr>\n",
       "    <tr>\n",
       "      <th>5</th>\n",
       "      <td>Siv</td>\n",
       "      <td>{}</td>\n",
       "      <td>0.35</td>\n",
       "      <td>0.50</td>\n",
       "    </tr>\n",
       "  </tbody>\n",
       "</table>\n",
       "</div>"
      ],
      "text/plain": [
       "      name          children     x     y\n",
       "0      Per  {Elias, Gudmund}  0.35  1.00\n",
       "1      Gun  {Elias, Gudmund}  0.65  1.00\n",
       "2    Elias             {Siv}  0.35  0.75\n",
       "3   Adelia             {Siv}  0.65  0.75\n",
       "4  Gudmund                {}  0.05  0.75\n",
       "5      Siv                {}  0.35  0.50"
      ]
     },
     "execution_count": 20,
     "metadata": {},
     "output_type": "execute_result"
    }
   ],
   "source": [
    "FAMILY"
   ]
  },
  {
   "cell_type": "code",
   "execution_count": 21,
   "metadata": {},
   "outputs": [
    {
     "data": {
      "text/html": [
       "\n",
       "\n",
       "\n",
       "\n",
       "\n",
       "\n",
       "  <div class=\"bk-root\" id=\"210d1c7b-b745-4087-9c06-b6854f4b290d\" data-root-id=\"3461\"></div>\n"
      ]
     },
     "metadata": {},
     "output_type": "display_data"
    },
    {
     "data": {
      "application/javascript": [
       "(function(root) {\n",
       "  function embed_document(root) {\n",
       "    \n",
       "  var docs_json = {\"ce7ee277-32ca-45dd-b377-188ac6c88eff\":{\"defs\":[],\"roots\":{\"references\":[{\"attributes\":{\"height\":400,\"renderers\":[{\"id\":\"3445\"}],\"title\":{\"id\":\"3464\"},\"toolbar\":{\"id\":\"3470\"},\"width\":400,\"x_range\":{\"id\":\"3459\"},\"x_scale\":{\"id\":\"3672\"},\"y_range\":{\"id\":\"3460\"},\"y_scale\":{\"id\":\"3671\"}},\"id\":\"3461\",\"type\":\"Plot\"},{\"attributes\":{\"data_source\":{\"id\":\"3451\"},\"glyph\":{\"id\":\"3490\"},\"hover_glyph\":{\"id\":\"3500\"},\"muted_glyph\":null,\"selection_glyph\":{\"id\":\"3495\"},\"view\":{\"id\":\"3453\"}},\"id\":\"3452\",\"type\":\"GlyphRenderer\"},{\"attributes\":{},\"id\":\"3684\",\"type\":\"Selection\"},{\"attributes\":{\"fill_alpha\":{\"value\":0.5},\"fill_color\":{\"value\":\"#2b83ba\"},\"size\":{\"value\":15}},\"id\":\"3475\",\"type\":\"Circle\"},{\"attributes\":{},\"id\":\"3469\",\"type\":\"ZoomOutTool\"},{\"attributes\":{\"edge_renderer\":{\"id\":\"3452\"},\"inspection_policy\":{\"id\":\"3507\"},\"layout_provider\":{\"id\":\"3458\"},\"node_renderer\":{\"id\":\"3448\"},\"selection_policy\":{\"id\":\"3505\"}},\"id\":\"3445\",\"type\":\"GraphRenderer\"},{\"attributes\":{\"callback\":null},\"id\":\"3467\",\"type\":\"TapTool\"},{\"attributes\":{\"end\":1.1,\"start\":-0.1},\"id\":\"3459\",\"type\":\"Range1d\"},{\"attributes\":{\"source\":{\"id\":\"3451\"}},\"id\":\"3453\",\"type\":\"CDSView\"},{\"attributes\":{},\"id\":\"3468\",\"type\":\"ZoomInTool\"},{\"attributes\":{\"fill_color\":{\"value\":\"#fdae61\"},\"size\":{\"value\":15}},\"id\":\"3480\",\"type\":\"Circle\"},{\"attributes\":{\"text\":\"Interactive graph\"},\"id\":\"3464\",\"type\":\"Title\"},{\"attributes\":{},\"id\":\"3671\",\"type\":\"LinearScale\"},{\"attributes\":{},\"id\":\"3672\",\"type\":\"LinearScale\"},{\"attributes\":{},\"id\":\"3507\",\"type\":\"NodesOnly\"},{\"attributes\":{},\"id\":\"3681\",\"type\":\"UnionRenderers\"},{\"attributes\":{},\"id\":\"3682\",\"type\":\"Selection\"},{\"attributes\":{\"callback\":null,\"tooltips\":[[\"id\",\"@id\"],[\"x\",\"@x\"],[\"y\",\"@y\"]]},\"id\":\"3466\",\"type\":\"HoverTool\"},{\"attributes\":{},\"id\":\"3465\",\"type\":\"PanTool\"},{\"attributes\":{\"end\":1.1,\"start\":-0.1},\"id\":\"3460\",\"type\":\"Range1d\"},{\"attributes\":{\"graph_layout\":{\"Adelia\":[0.65,0.75],\"Elias\":[0.35,0.75],\"Gudmund\":[0.05,0.75],\"Gun\":[0.65,1.0],\"Per\":[0.35,1.0],\"Siv\":[0.35,0.5]}},\"id\":\"3458\",\"type\":\"StaticLayoutProvider\"},{\"attributes\":{\"source\":{\"id\":\"3447\"}},\"id\":\"3449\",\"type\":\"CDSView\"},{\"attributes\":{},\"id\":\"3505\",\"type\":\"NodesAndLinkedEdges\"},{\"attributes\":{\"data\":{\"end\":[\"Elias\",\"Gudmund\",\"Elias\",\"Gudmund\",\"Siv\",\"Siv\"],\"start\":[\"Per\",\"Per\",\"Gun\",\"Gun\",\"Elias\",\"Adelia\"]},\"selected\":{\"id\":\"3684\"},\"selection_policy\":{\"id\":\"3683\"}},\"id\":\"3451\",\"type\":\"ColumnDataSource\"},{\"attributes\":{\"active_multi\":null,\"tools\":[{\"id\":\"3465\"},{\"id\":\"3466\"},{\"id\":\"3467\"},{\"id\":\"3468\"},{\"id\":\"3469\"}]},\"id\":\"3470\",\"type\":\"Toolbar\"},{\"attributes\":{\"line_color\":{\"value\":\"#fdae61\"},\"line_width\":{\"value\":2}},\"id\":\"3495\",\"type\":\"MultiLine\"},{\"attributes\":{\"data\":{\"id\":[\"Per\",\"Gun\",\"Elias\",\"Adelia\",\"Gudmund\",\"Siv\"],\"index\":[\"Per\",\"Gun\",\"Elias\",\"Adelia\",\"Gudmund\",\"Siv\"],\"x\":[0.35,0.65,0.35,0.65,0.05,0.35],\"y\":[1.0,1.0,0.75,0.75,0.75,0.5]},\"selected\":{\"id\":\"3682\"},\"selection_policy\":{\"id\":\"3681\"}},\"id\":\"3447\",\"type\":\"ColumnDataSource\"},{\"attributes\":{\"fill_color\":{\"value\":\"#abdda4\"},\"size\":{\"value\":15}},\"id\":\"3485\",\"type\":\"Circle\"},{\"attributes\":{\"data_source\":{\"id\":\"3447\"},\"glyph\":{\"id\":\"3475\"},\"hover_glyph\":{\"id\":\"3485\"},\"muted_glyph\":null,\"selection_glyph\":{\"id\":\"3480\"},\"view\":{\"id\":\"3449\"}},\"id\":\"3448\",\"type\":\"GlyphRenderer\"},{\"attributes\":{\"line_alpha\":{\"value\":0.5},\"line_color\":{\"value\":\"#CCCCCC\"},\"line_width\":{\"value\":2}},\"id\":\"3490\",\"type\":\"MultiLine\"},{\"attributes\":{\"line_color\":{\"value\":\"#abdda4\"},\"line_width\":{\"value\":2}},\"id\":\"3500\",\"type\":\"MultiLine\"},{\"attributes\":{},\"id\":\"3683\",\"type\":\"UnionRenderers\"}],\"root_ids\":[\"3461\"]},\"title\":\"Bokeh Application\",\"version\":\"2.3.1\"}};\n",
       "  var render_items = [{\"docid\":\"ce7ee277-32ca-45dd-b377-188ac6c88eff\",\"root_ids\":[\"3461\"],\"roots\":{\"3461\":\"210d1c7b-b745-4087-9c06-b6854f4b290d\"}}];\n",
       "  root.Bokeh.embed.embed_items_notebook(docs_json, render_items);\n",
       "\n",
       "  }\n",
       "  if (root.Bokeh !== undefined) {\n",
       "    embed_document(root);\n",
       "  } else {\n",
       "    var attempts = 0;\n",
       "    var timer = setInterval(function(root) {\n",
       "      if (root.Bokeh !== undefined) {\n",
       "        clearInterval(timer);\n",
       "        embed_document(root);\n",
       "      } else {\n",
       "        attempts++;\n",
       "        if (attempts > 100) {\n",
       "          clearInterval(timer);\n",
       "          console.log(\"Bokeh: ERROR: Unable to run BokehJS code because BokehJS library is missing\");\n",
       "        }\n",
       "      }\n",
       "    }, 10, root)\n",
       "  }\n",
       "})(window);"
      ],
      "application/vnd.bokehjs_exec.v0+json": ""
     },
     "metadata": {
      "application/vnd.bokehjs_exec.v0+json": {
       "id": "3461"
      }
     },
     "output_type": "display_data"
    }
   ],
   "source": [
    "G = Network(FAMILY.drop('children', axis=1).rename(columns={'name': 'id'}).to_dict('records'), FAMILY_E.to_dict('records'))\n",
    "show(G.plot())"
   ]
  },
  {
   "cell_type": "markdown",
   "metadata": {},
   "source": [
    "## Nätverksanalys\n",
    "Nätverk är en så kallad datastruktur, och en representationsmodell av relationer i verkligheten. De utgör dock i sig själva inte en form av analys. Nätverk som visade hittills är en form av visualisering av relationer.  \n",
    "\n",
    "Det är dock vanligt att utnyttja nätverk för att karaktärisera och prediktera information hos verkliga fenomen. Detta brukar klumpas ihop till så kallad nätverksanalys. Det finns ett antal mått (alla matematiska) för att karaktärisera nätverk. De vanligaste är *grad*, *gleshet*, *centralitet* och *bryggor*.\n",
    "\n",
    "### Grad\n",
    "Varje nod i ett nätverk har en grad (*eng. degree*), motsvarande antalet kanter/relationer hos noden. Detta mått säger oss hur välansluten noden, exempelvis hur många vänner noden har i ett socialt nätverk, eller antalet stora vägar om noden är en stad. \n",
    "\n",
    "Grad kan anges på två sätt:\n",
    "- Antal kanter (heltal)\n",
    "- Procent, eller bråkdel, av kanter till alla möjliga noder\n",
    "\n",
    "Om ett nätverk har 100 noder, kan en viss nod med 7 kanter anges ha grad 7 eller grad 7/100 = 0.07. Det senare är att föredra då siffran är oberoende totala antalet noder i nätverket. Om en nod har grad 0.5 har det alltså en kant med hälften av alla andra noder.\n",
    "\n",
    "### Gleshet\n",
    "Ett nätverk med många noder och mycket få kanter kallas glest (*eng. sparse*), och ett nätverk med många kanter kallas omvänt tätt (*eng. dense*). Ett nätverk där alla noder är anslutna med varandra kallas i bland *fully connected*.\n",
    "\n",
    "### Centralitet\n",
    "Centralitet (*eng. centrality*) är inte ett begrepp, utan en samling mått på hur \"centrala\" noderna är i nätverket. Detta är inte ett väldefinierat begrepp a priori, utan det finns en mängd olika typer av centralitet som mäter olika saker. Dessa är inherent matematiska, och har en matematisk definition. Det är dock viktigt att förstå att centralitet är ett värde som löper från 0 (ocentral) till 1 (central).\n",
    "\n",
    "#### Degree centrality\n",
    "Så kallad *degree centrality* är det enklaste centralitetsmåttet: Degree centrality är antalet noder en nod är ansluten till, det vill säga graden hos noden. Om en nod har kanter till 6 av 100 noder, har den gradtal (*degree*) 0.06, och då även degree centrality 0.06. \n",
    "\n",
    "#### Closeness centrality\n",
    "En annan typ av centralitet baseras på avstånden till andra noder. *Closeness centrality* är ett mått på hur långt bort alla andra noder ligger från en given nod. För att förstå detta måste man definiera \"avstånd\" i en graf. Vanligtvis definieras detta som antalet kanter mellan två noder. \n",
    "\n",
    "Closeness centrality beräknas som medelavståndet av det kortaste avståndet från en nod till alla andra.\n",
    "\n",
    "\n",
    "#### Betweenness centrality\n",
    "*Betweenness centrality* kvantifierar hur mycket en nod ligger mellan andra noder, och är nära relaterad till closeness centrality. Betweenness motsvarar andelen gånger en nod agerar som en brygga på den kortaste vägen mellan två andra noder. \n",
    "\n",
    "\n"
   ]
  },
  {
   "cell_type": "code",
   "execution_count": 22,
   "metadata": {},
   "outputs": [
    {
     "data": {
      "text/html": [
       "\n",
       "\n",
       "\n",
       "\n",
       "\n",
       "\n",
       "  <div class=\"bk-root\" id=\"64f3a240-e651-4701-90ab-2a811c0900e4\" data-root-id=\"4031\"></div>\n"
      ]
     },
     "metadata": {},
     "output_type": "display_data"
    },
    {
     "data": {
      "application/javascript": [
       "(function(root) {\n",
       "  function embed_document(root) {\n",
       "    \n",
       "  var docs_json = {\"2a151fff-3b92-4143-bb71-1536af3a69d4\":{\"defs\":[],\"roots\":{\"references\":[{\"attributes\":{\"children\":[{\"id\":\"4030\"},{\"id\":\"4028\"}]},\"id\":\"4031\",\"type\":\"Column\"},{\"attributes\":{},\"id\":\"4023\",\"type\":\"UnionRenderers\"},{\"attributes\":{},\"id\":\"4024\",\"type\":\"Selection\"},{\"attributes\":{},\"id\":\"3979\",\"type\":\"LinearScale\"},{\"attributes\":{\"children\":[[{\"id\":\"3797\"},0,0],[{\"id\":\"3861\"},0,1],[{\"id\":\"3925\"},0,2]]},\"id\":\"4028\",\"type\":\"GridBox\"},{\"attributes\":{},\"id\":\"3980\",\"type\":\"LinearScale\"},{\"attributes\":{},\"id\":\"4025\",\"type\":\"UnionRenderers\"},{\"attributes\":{},\"id\":\"4026\",\"type\":\"Selection\"},{\"attributes\":{},\"id\":\"3805\",\"type\":\"ZoomOutTool\"},{\"attributes\":{\"callback\":null},\"id\":\"3931\",\"type\":\"TapTool\"},{\"attributes\":{\"fill_alpha\":{\"value\":0.5},\"fill_color\":{\"field\":\"colors\"},\"size\":{\"value\":15}},\"id\":\"3815\",\"type\":\"Circle\"},{\"attributes\":{},\"id\":\"3973\",\"type\":\"NodesAndLinkedEdges\"},{\"attributes\":{\"line_color\":{\"value\":\"#abdda4\"},\"line_width\":{\"value\":2}},\"id\":\"3968\",\"type\":\"MultiLine\"},{\"attributes\":{\"text\":\"Degree centrality\"},\"id\":\"3800\",\"type\":\"Title\"},{\"attributes\":{\"callback\":null,\"tooltips\":[[\"id\",\"@id\"]]},\"id\":\"3802\",\"type\":\"HoverTool\"},{\"attributes\":{\"height\":300,\"renderers\":[{\"id\":\"3785\"}],\"title\":{\"id\":\"3800\"},\"toolbar\":{\"id\":\"3806\"},\"toolbar_location\":null,\"width\":300,\"x_range\":{\"id\":\"3795\"},\"x_scale\":{\"id\":\"3980\"},\"y_range\":{\"id\":\"3796\"},\"y_scale\":{\"id\":\"3979\"}},\"id\":\"3797\",\"type\":\"Plot\"},{\"attributes\":{\"callback\":null},\"id\":\"3803\",\"type\":\"TapTool\"},{\"attributes\":{},\"id\":\"3801\",\"type\":\"PanTool\"},{\"attributes\":{},\"id\":\"3804\",\"type\":\"ZoomInTool\"},{\"attributes\":{\"active_multi\":null,\"tools\":[{\"id\":\"3801\"},{\"id\":\"3802\"},{\"id\":\"3803\"},{\"id\":\"3804\"},{\"id\":\"3805\"}]},\"id\":\"3806\",\"type\":\"Toolbar\"},{\"attributes\":{},\"id\":\"3990\",\"type\":\"Selection\"},{\"attributes\":{\"fill_color\":{\"value\":\"#abdda4\"},\"size\":{\"value\":15}},\"id\":\"3953\",\"type\":\"Circle\"},{\"attributes\":{\"fill_alpha\":{\"value\":0.5},\"fill_color\":{\"field\":\"colors\"},\"size\":{\"value\":15}},\"id\":\"3943\",\"type\":\"Circle\"},{\"attributes\":{},\"id\":\"3989\",\"type\":\"UnionRenderers\"},{\"attributes\":{\"fill_color\":{\"value\":\"#abdda4\"},\"size\":{\"value\":15}},\"id\":\"3825\",\"type\":\"Circle\"},{\"attributes\":{\"line_alpha\":{\"value\":0.5},\"line_color\":{\"value\":\"#CCCCCC\"},\"line_width\":{\"value\":2}},\"id\":\"3830\",\"type\":\"MultiLine\"},{\"attributes\":{},\"id\":\"3932\",\"type\":\"ZoomInTool\"},{\"attributes\":{\"source\":{\"id\":\"3851\"}},\"id\":\"3853\",\"type\":\"CDSView\"},{\"attributes\":{},\"id\":\"3996\",\"type\":\"LinearScale\"},{\"attributes\":{\"data\":{\"end\":[\"Myriel\",\"MlleBaptistine\",\"MmeMagloire\",\"CountessDeLo\",\"Geborand\",\"Champtercier\",\"Cravatte\",\"Count\",\"OldMan\",\"Valjean\",\"MmeMagloire\",\"Valjean\",\"Valjean\",\"Labarre\",\"Marguerite\",\"MmeDeR\",\"Isabeau\",\"Gervais\",\"Fantine\",\"MmeThenardier\",\"Thenardier\",\"Cosette\",\"Javert\",\"Fauchelevent\",\"Bamatabois\",\"Simplice\",\"Scaufflaire\",\"Woman1\",\"Judge\",\"Champmathieu\",\"Brevet\",\"Chenildieu\",\"Cochepaille\",\"Woman2\",\"MotherInnocent\",\"Gavroche\",\"Gillenormand\",\"MlleGillenormand\",\"Marius\",\"Enjolras\",\"Bossuet\",\"Gueulemer\",\"Babet\",\"Claquesous\",\"Montparnasse\",\"Toussaint\",\"Fantine\",\"Tholomyes\",\"Fameuil\",\"Blacheville\",\"Favourite\",\"Dahlia\",\"Zephine\",\"Fantine\",\"Fameuil\",\"Blacheville\",\"Favourite\",\"Dahlia\",\"Zephine\",\"Fantine\",\"Cosette\",\"Marius\",\"Blacheville\",\"Favourite\",\"Dahlia\",\"Zephine\",\"Fantine\",\"Favourite\",\"Dahlia\",\"Zephine\",\"Fantine\",\"Dahlia\",\"Zephine\",\"Fantine\",\"Zephine\",\"Fantine\",\"Fantine\",\"MmeThenardier\",\"Thenardier\",\"Javert\",\"Bamatabois\",\"Perpetue\",\"Simplice\",\"Thenardier\",\"Cosette\",\"Javert\",\"Eponine\",\"Anzelma\",\"Magnon\",\"Gueulemer\",\"Babet\",\"Claquesous\",\"Cosette\",\"Javert\",\"Pontmercy\",\"Boulatruelle\",\"Eponine\",\"Anzelma\",\"Gavroche\",\"Marius\",\"Gueulemer\",\"Babet\",\"Claquesous\",\"Montparnasse\",\"Brujon\",\"Javert\",\"Woman2\",\"Gillenormand\",\"MlleGillenormand\",\"LtGillenormand\",\"Marius\",\"Toussaint\",\"Fauchelevent\",\"Bamatabois\",\"Simplice\",\"Woman1\",\"Woman2\",\"Gavroche\",\"Enjolras\",\"Gueulemer\",\"Babet\",\"Claquesous\",\"Montparnasse\",\"Toussaint\",\"MotherInnocent\",\"Gribier\",\"Judge\",\"Champmathieu\",\"Brevet\",\"Chenildieu\",\"Cochepaille\",\"Simplice\",\"Champmathieu\",\"Brevet\",\"Chenildieu\",\"Cochepaille\",\"Brevet\",\"Chenildieu\",\"Cochepaille\",\"Chenildieu\",\"Cochepaille\",\"Cochepaille\",\"MmePontmercy\",\"Marius\",\"Anzelma\",\"Marius\",\"Mabeuf\",\"Courfeyrac\",\"Gueulemer\",\"Babet\",\"Claquesous\",\"Montparnasse\",\"Brujon\",\"Jondrette\",\"Gavroche\",\"Marius\",\"Mabeuf\",\"Enjolras\",\"Combeferre\",\"Prouvaire\",\"Feuilly\",\"Courfeyrac\",\"Bahorel\",\"Bossuet\",\"Joly\",\"Grantaire\",\"Gueulemer\",\"Babet\",\"Montparnasse\",\"Child1\",\"Child2\",\"Brujon\",\"MmeHucheloup\",\"Magnon\",\"MlleGillenormand\",\"LtGillenormand\",\"Marius\",\"BaronessT\",\"MmePontmercy\",\"MlleVaubois\",\"LtGillenormand\",\"Marius\",\"Marius\",\"BaronessT\",\"Mabeuf\",\"Enjolras\",\"Combeferre\",\"Feuilly\",\"Courfeyrac\",\"Bahorel\",\"Bossuet\",\"Joly\",\"Enjolras\",\"Combeferre\",\"Feuilly\",\"Courfeyrac\",\"Bahorel\",\"Bossuet\",\"Joly\",\"MotherPlutarch\",\"Combeferre\",\"Prouvaire\",\"Feuilly\",\"Courfeyrac\",\"Bahorel\",\"Bossuet\",\"Joly\",\"Grantaire\",\"Claquesous\",\"MmeHucheloup\",\"Prouvaire\",\"Feuilly\",\"Courfeyrac\",\"Bahorel\",\"Bossuet\",\"Joly\",\"Grantaire\",\"Feuilly\",\"Courfeyrac\",\"Bahorel\",\"Bossuet\",\"Joly\",\"Grantaire\",\"Courfeyrac\",\"Bahorel\",\"Bossuet\",\"Joly\",\"Grantaire\",\"Bahorel\",\"Bossuet\",\"Joly\",\"Grantaire\",\"MmeHucheloup\",\"Bossuet\",\"Joly\",\"Grantaire\",\"MmeHucheloup\",\"Joly\",\"Grantaire\",\"MmeHucheloup\",\"Grantaire\",\"MmeHucheloup\",\"MmeHucheloup\",\"Babet\",\"Claquesous\",\"Montparnasse\",\"Brujon\",\"Claquesous\",\"Montparnasse\",\"Brujon\",\"Montparnasse\",\"Brujon\",\"Brujon\",\"Child2\"],\"start\":[\"Napoleon\",\"Myriel\",\"Myriel\",\"Myriel\",\"Myriel\",\"Myriel\",\"Myriel\",\"Myriel\",\"Myriel\",\"Myriel\",\"MlleBaptistine\",\"MlleBaptistine\",\"MmeMagloire\",\"Valjean\",\"Valjean\",\"Valjean\",\"Valjean\",\"Valjean\",\"Valjean\",\"Valjean\",\"Valjean\",\"Valjean\",\"Valjean\",\"Valjean\",\"Valjean\",\"Valjean\",\"Valjean\",\"Valjean\",\"Valjean\",\"Valjean\",\"Valjean\",\"Valjean\",\"Valjean\",\"Valjean\",\"Valjean\",\"Valjean\",\"Valjean\",\"Valjean\",\"Valjean\",\"Valjean\",\"Valjean\",\"Valjean\",\"Valjean\",\"Valjean\",\"Valjean\",\"Valjean\",\"Marguerite\",\"Listolier\",\"Listolier\",\"Listolier\",\"Listolier\",\"Listolier\",\"Listolier\",\"Listolier\",\"Tholomyes\",\"Tholomyes\",\"Tholomyes\",\"Tholomyes\",\"Tholomyes\",\"Tholomyes\",\"Tholomyes\",\"Tholomyes\",\"Fameuil\",\"Fameuil\",\"Fameuil\",\"Fameuil\",\"Fameuil\",\"Blacheville\",\"Blacheville\",\"Blacheville\",\"Blacheville\",\"Favourite\",\"Favourite\",\"Favourite\",\"Dahlia\",\"Dahlia\",\"Zephine\",\"Fantine\",\"Fantine\",\"Fantine\",\"Fantine\",\"Fantine\",\"Fantine\",\"MmeThenardier\",\"MmeThenardier\",\"MmeThenardier\",\"MmeThenardier\",\"MmeThenardier\",\"MmeThenardier\",\"MmeThenardier\",\"MmeThenardier\",\"MmeThenardier\",\"Thenardier\",\"Thenardier\",\"Thenardier\",\"Thenardier\",\"Thenardier\",\"Thenardier\",\"Thenardier\",\"Thenardier\",\"Thenardier\",\"Thenardier\",\"Thenardier\",\"Thenardier\",\"Thenardier\",\"Cosette\",\"Cosette\",\"Cosette\",\"Cosette\",\"Cosette\",\"Cosette\",\"Cosette\",\"Javert\",\"Javert\",\"Javert\",\"Javert\",\"Javert\",\"Javert\",\"Javert\",\"Javert\",\"Javert\",\"Javert\",\"Javert\",\"Javert\",\"Fauchelevent\",\"Fauchelevent\",\"Bamatabois\",\"Bamatabois\",\"Bamatabois\",\"Bamatabois\",\"Bamatabois\",\"Perpetue\",\"Judge\",\"Judge\",\"Judge\",\"Judge\",\"Champmathieu\",\"Champmathieu\",\"Champmathieu\",\"Brevet\",\"Brevet\",\"Chenildieu\",\"Pontmercy\",\"Pontmercy\",\"Eponine\",\"Eponine\",\"Eponine\",\"Eponine\",\"Eponine\",\"Eponine\",\"Eponine\",\"Eponine\",\"Eponine\",\"MmeBurgon\",\"MmeBurgon\",\"Gavroche\",\"Gavroche\",\"Gavroche\",\"Gavroche\",\"Gavroche\",\"Gavroche\",\"Gavroche\",\"Gavroche\",\"Gavroche\",\"Gavroche\",\"Gavroche\",\"Gavroche\",\"Gavroche\",\"Gavroche\",\"Gavroche\",\"Gavroche\",\"Gavroche\",\"Gavroche\",\"Gillenormand\",\"Gillenormand\",\"Gillenormand\",\"Gillenormand\",\"Gillenormand\",\"MlleGillenormand\",\"MlleGillenormand\",\"MlleGillenormand\",\"MlleGillenormand\",\"LtGillenormand\",\"Marius\",\"Marius\",\"Marius\",\"Marius\",\"Marius\",\"Marius\",\"Marius\",\"Marius\",\"Marius\",\"Mabeuf\",\"Mabeuf\",\"Mabeuf\",\"Mabeuf\",\"Mabeuf\",\"Mabeuf\",\"Mabeuf\",\"Mabeuf\",\"Enjolras\",\"Enjolras\",\"Enjolras\",\"Enjolras\",\"Enjolras\",\"Enjolras\",\"Enjolras\",\"Enjolras\",\"Enjolras\",\"Enjolras\",\"Combeferre\",\"Combeferre\",\"Combeferre\",\"Combeferre\",\"Combeferre\",\"Combeferre\",\"Combeferre\",\"Prouvaire\",\"Prouvaire\",\"Prouvaire\",\"Prouvaire\",\"Prouvaire\",\"Prouvaire\",\"Feuilly\",\"Feuilly\",\"Feuilly\",\"Feuilly\",\"Feuilly\",\"Courfeyrac\",\"Courfeyrac\",\"Courfeyrac\",\"Courfeyrac\",\"Courfeyrac\",\"Bahorel\",\"Bahorel\",\"Bahorel\",\"Bahorel\",\"Bossuet\",\"Bossuet\",\"Bossuet\",\"Joly\",\"Joly\",\"Grantaire\",\"Gueulemer\",\"Gueulemer\",\"Gueulemer\",\"Gueulemer\",\"Babet\",\"Babet\",\"Babet\",\"Claquesous\",\"Claquesous\",\"Montparnasse\",\"Child1\"]},\"selected\":{\"id\":\"4009\"},\"selection_policy\":{\"id\":\"4008\"}},\"id\":\"3855\",\"type\":\"ColumnDataSource\"},{\"attributes\":{},\"id\":\"3933\",\"type\":\"ZoomOutTool\"},{\"attributes\":{\"line_color\":{\"value\":\"#abdda4\"},\"line_width\":{\"value\":2}},\"id\":\"3840\",\"type\":\"MultiLine\"},{\"attributes\":{},\"id\":\"3997\",\"type\":\"LinearScale\"},{\"attributes\":{},\"id\":\"3845\",\"type\":\"NodesAndLinkedEdges\"},{\"attributes\":{\"data\":{\"colors\":[\"#fd9740\",\"#f43d25\",\"#f84628\",\"#f84628\",\"#fd9740\",\"#fd9740\",\"#fd9740\",\"#fd9740\",\"#fd9740\",\"#fd9740\",\"#800026\",\"#fc552c\",\"#f84628\",\"#fc552c\",\"#fc552c\",\"#fc552c\",\"#fd7e38\",\"#fc572c\",\"#fd7e38\",\"#fd7e38\",\"#fd7e38\",\"#fd7e38\",\"#fd7e38\",\"#e92720\",\"#e92720\",\"#d30f20\",\"#e51e1d\",\"#d30f20\",\"#fc4f2a\",\"#f43e26\",\"#fd8f3d\",\"#f84528\",\"#fc552c\",\"#fc532b\",\"#fc4d2a\",\"#fc4d2a\",\"#fc4d2a\",\"#fc4d2a\",\"#fc4d2a\",\"#fc6430\",\"#fd7c37\",\"#fc532b\",\"#fd7636\",\"#fc4f2a\",\"#fc512b\",\"#fd9d43\",\"#fd7c37\",\"#feab49\",\"#d41020\",\"#f03523\",\"#fd8239\",\"#f03523\",\"#fd903d\",\"#fd933f\",\"#fc6a32\",\"#cb0a22\",\"#fd7636\",\"#fc532b\",\"#e31a1c\",\"#fc572c\",\"#fd7234\",\"#fc572c\",\"#fc512b\",\"#fc552c\",\"#e61f1d\",\"#fc552c\",\"#fd7034\",\"#fd9e43\",\"#e9261f\",\"#e9261f\",\"#ed2e21\",\"#eb2b21\",\"#fc4f2a\",\"#fd7c37\",\"#fd7c37\",\"#fc5f2f\",\"#fd7435\"],\"id\":[\"Napoleon\",\"Myriel\",\"MlleBaptistine\",\"MmeMagloire\",\"CountessDeLo\",\"Geborand\",\"Champtercier\",\"Cravatte\",\"Count\",\"OldMan\",\"Valjean\",\"Labarre\",\"Marguerite\",\"MmeDeR\",\"Isabeau\",\"Gervais\",\"Listolier\",\"Tholomyes\",\"Fameuil\",\"Blacheville\",\"Favourite\",\"Dahlia\",\"Zephine\",\"Fantine\",\"MmeThenardier\",\"Thenardier\",\"Cosette\",\"Javert\",\"Fauchelevent\",\"Bamatabois\",\"Perpetue\",\"Simplice\",\"Scaufflaire\",\"Woman1\",\"Judge\",\"Champmathieu\",\"Brevet\",\"Chenildieu\",\"Cochepaille\",\"Pontmercy\",\"Boulatruelle\",\"Eponine\",\"Anzelma\",\"Woman2\",\"MotherInnocent\",\"Gribier\",\"MmeBurgon\",\"Jondrette\",\"Gavroche\",\"Gillenormand\",\"Magnon\",\"MlleGillenormand\",\"MmePontmercy\",\"MlleVaubois\",\"LtGillenormand\",\"Marius\",\"BaronessT\",\"Mabeuf\",\"Enjolras\",\"Combeferre\",\"Prouvaire\",\"Feuilly\",\"Courfeyrac\",\"Bahorel\",\"Bossuet\",\"Joly\",\"Grantaire\",\"MotherPlutarch\",\"Gueulemer\",\"Babet\",\"Claquesous\",\"Montparnasse\",\"Toussaint\",\"Child1\",\"Child2\",\"Brujon\",\"MmeHucheloup\"],\"index\":[\"Napoleon\",\"Myriel\",\"MlleBaptistine\",\"MmeMagloire\",\"CountessDeLo\",\"Geborand\",\"Champtercier\",\"Cravatte\",\"Count\",\"OldMan\",\"Valjean\",\"Labarre\",\"Marguerite\",\"MmeDeR\",\"Isabeau\",\"Gervais\",\"Listolier\",\"Tholomyes\",\"Fameuil\",\"Blacheville\",\"Favourite\",\"Dahlia\",\"Zephine\",\"Fantine\",\"MmeThenardier\",\"Thenardier\",\"Cosette\",\"Javert\",\"Fauchelevent\",\"Bamatabois\",\"Perpetue\",\"Simplice\",\"Scaufflaire\",\"Woman1\",\"Judge\",\"Champmathieu\",\"Brevet\",\"Chenildieu\",\"Cochepaille\",\"Pontmercy\",\"Boulatruelle\",\"Eponine\",\"Anzelma\",\"Woman2\",\"MotherInnocent\",\"Gribier\",\"MmeBurgon\",\"Jondrette\",\"Gavroche\",\"Gillenormand\",\"Magnon\",\"MlleGillenormand\",\"MmePontmercy\",\"MlleVaubois\",\"LtGillenormand\",\"Marius\",\"BaronessT\",\"Mabeuf\",\"Enjolras\",\"Combeferre\",\"Prouvaire\",\"Feuilly\",\"Courfeyrac\",\"Bahorel\",\"Bossuet\",\"Joly\",\"Grantaire\",\"MotherPlutarch\",\"Gueulemer\",\"Babet\",\"Claquesous\",\"Montparnasse\",\"Toussaint\",\"Child1\",\"Child2\",\"Brujon\",\"MmeHucheloup\"]},\"selected\":{\"id\":\"4007\"},\"selection_policy\":{\"id\":\"4006\"}},\"id\":\"3851\",\"type\":\"ColumnDataSource\"},{\"attributes\":{},\"id\":\"3847\",\"type\":\"NodesOnly\"},{\"attributes\":{\"active_multi\":null,\"tools\":[{\"id\":\"3929\"},{\"id\":\"3930\"},{\"id\":\"3931\"},{\"id\":\"3932\"},{\"id\":\"3933\"}]},\"id\":\"3934\",\"type\":\"Toolbar\"},{\"attributes\":{\"data_source\":{\"id\":\"3855\"},\"glyph\":{\"id\":\"3894\"},\"hover_glyph\":{\"id\":\"3904\"},\"muted_glyph\":null,\"selection_glyph\":{\"id\":\"3899\"},\"view\":{\"id\":\"3857\"}},\"id\":\"3856\",\"type\":\"GlyphRenderer\"},{\"attributes\":{\"source\":{\"id\":\"3855\"}},\"id\":\"3857\",\"type\":\"CDSView\"},{\"attributes\":{\"graph_layout\":{\"Anzelma\":[0.2498181868449902,0.2993332943879147],\"Babet\":[0.5444837697633584,0.44613790655021895],\"Bahorel\":[0.5548592129183628,0.18936926190293968],\"Bamatabois\":[0.44295169761298464,0.6815526559446666],\"BaronessT\":[0.29397176103195855,0.20424696629425587],\"Blacheville\":[0.18329092944253234,0.6380635631812112],\"Bossuet\":[0.5770048681624906,0.33532158871534146],\"Boulatruelle\":[0.19971791034272152,0.35532505946335546],\"Brevet\":[0.49979956039625084,0.76073189945511],\"Brujon\":[0.4697106781241731,0.28083258538117073],\"Champmathieu\":[0.581196110450599,0.7480573421083622],\"Champtercier\":[0.8534733692515099,0.8110040822510978],\"Chenildieu\":[0.5239636679587429,0.6923097770350474],\"Child1\":[0.7860092034245342,0.2760225493713908],\"Child2\":[0.8067099398593418,0.3382147067457465],\"Claquesous\":[0.4774248340592147,0.44575282580415426],\"Cochepaille\":[0.578530582448629,0.6428578022023055],\"Combeferre\":[0.47615130888100726,0.19249970226201113],\"Cosette\":[0.3777725139022463,0.5277576010207395],\"Count\":[0.7386360347617433,0.8994463592347859],\"CountessDeLo\":[0.9176227142799367,0.682994308781343],\"Courfeyrac\":[0.5150134737415257,0.23159635080501556],\"Cravatte\":[0.7997082422688021,0.8624642275812779],\"Dahlia\":[0.1177823966402538,0.6071081133658827],\"Enjolras\":[0.5439017063989772,0.34801618000756585],\"Eponine\":[0.3831862465075838,0.29699970149264454],\"Fameuil\":[0.16890922019680082,0.7116295468226999],\"Fantine\":[0.31760570500440816,0.6136129102241145],\"Fauchelevent\":[0.45257140126061207,0.7498794582047428],\"Favourite\":[0.1310702323754459,0.6656899114168218],\"Feuilly\":[0.5081766218149514,0.16396824467890758],\"Gavroche\":[0.6062932470398409,0.3449798412484225],\"Geborand\":[0.8935005233897306,0.748817070968314],\"Gervais\":[0.7217803917793535,0.559512934658411],\"Gillenormand\":[0.3659947740473636,0.4277359916115601],\"Grantaire\":[0.6604961362242774,0.18888724622358793],\"Gribier\":[0.42808701016587225,0.9561239994487178],\"Gueulemer\":[0.5167673487835295,0.4105176986736346],\"Isabeau\":[0.7351126736327838,0.5133153442538475],\"Javert\":[0.47139347139800974,0.5250943763182667],\"Joly\":[0.5805565879477783,0.23100474831826373],\"Jondrette\":[0.8982909067497422,0.0945745804249179],\"Judge\":[0.6088507439708724,0.6991770310993832],\"Labarre\":[0.6848554733110792,0.5154685955173359],\"Listolier\":[0.2145526711506749,0.7220635606602963],\"LtGillenormand\":[0.2669367288196576,0.33475833992360493],\"Mabeuf\":[0.4264373100040457,0.19584784838200858],\"Magnon\":[0.15917592610268672,0.429758734414522],\"Marguerite\":[0.39313465228734734,0.7193580820926455],\"Marius\":[0.4347582522425478,0.3653567004215973],\"MlleBaptistine\":[0.7156648324511177,0.6142074089007283],\"MlleGillenormand\":[0.32173662993225727,0.469582911504409],\"MlleVaubois\":[0.09387353597454584,0.46946971970944196],\"MmeBurgon\":[0.7714354902398749,0.2199256134054119],\"MmeDeR\":[0.7092081401821345,0.4734559915452772],\"MmeHucheloup\":[0.7012032373156603,0.24194215252456153],\"MmeMagloire\":[0.6547436483498965,0.6782058332421009],\"MmePontmercy\":[0.13582488215053745,0.3178159988929994],\"MmeThenardier\":[0.36407215708277174,0.4907216889303236],\"Montparnasse\":[0.5929719685080452,0.4283598555384953],\"MotherInnocent\":[0.5442766386713076,0.7535080475550677],\"MotherPlutarch\":[0.403452848128229,0.0],\"Myriel\":[0.7231225640118338,0.7048695583139735],\"Napoleon\":[0.9278486345083584,0.6173206943532425],\"OldMan\":[0.6739900855141292,0.9231898945279806],\"Perpetue\":[0.26114024921875867,0.8309999359030681],\"Pontmercy\":[0.290401001069591,0.2545441499837414],\"Prouvaire\":[0.6245861148808926,0.14936789514554888],\"Scaufflaire\":[0.6658419006145032,0.6131138135529056],\"Simplice\":[0.3753142192088072,0.6850462555518427],\"Thenardier\":[0.41426965618261086,0.4295915187502531],\"Tholomyes\":[0.23002062666803003,0.5114133250404825],\"Toussaint\":[0.46930083232598474,0.6344340857084078],\"Valjean\":[0.5275458334791585,0.5530879377294862],\"Woman1\":[0.6320428542468937,0.5605567114223127],\"Woman2\":[0.4049570742479953,0.6320100072171054],\"Zephine\":[0.13315541566219236,0.5621097876986525]}},\"id\":\"3858\",\"type\":\"StaticLayoutProvider\"},{\"attributes\":{\"edge_renderer\":{\"id\":\"3856\"},\"inspection_policy\":{\"id\":\"3911\"},\"layout_provider\":{\"id\":\"3858\"},\"node_renderer\":{\"id\":\"3852\"},\"selection_policy\":{\"id\":\"3909\"}},\"id\":\"3849\",\"type\":\"GraphRenderer\"},{\"attributes\":{\"text\":\"Closeness centrality\"},\"id\":\"3864\",\"type\":\"Title\"},{\"attributes\":{\"callback\":null,\"tooltips\":[[\"id\",\"@id\"]]},\"id\":\"3866\",\"type\":\"HoverTool\"},{\"attributes\":{\"source\":{\"id\":\"3787\"}},\"id\":\"3789\",\"type\":\"CDSView\"},{\"attributes\":{\"end\":1.1,\"start\":-0.1},\"id\":\"3860\",\"type\":\"Range1d\"},{\"attributes\":{\"fill_color\":{\"value\":\"#fdae61\"},\"size\":{\"value\":15}},\"id\":\"3884\",\"type\":\"Circle\"},{\"attributes\":{\"line_alpha\":{\"value\":0.5},\"line_color\":{\"value\":\"#CCCCCC\"},\"line_width\":{\"value\":2}},\"id\":\"3958\",\"type\":\"MultiLine\"},{\"attributes\":{\"height\":300,\"renderers\":[{\"id\":\"3849\"}],\"title\":{\"id\":\"3864\"},\"toolbar\":{\"id\":\"3870\"},\"toolbar_location\":null,\"width\":300,\"x_range\":{\"id\":\"3859\"},\"x_scale\":{\"id\":\"3997\"},\"y_range\":{\"id\":\"3860\"},\"y_scale\":{\"id\":\"3996\"}},\"id\":\"3861\",\"type\":\"Plot\"},{\"attributes\":{\"callback\":null},\"id\":\"3867\",\"type\":\"TapTool\"},{\"attributes\":{\"graph_layout\":{\"Anzelma\":[0.2498181868449902,0.2993332943879147],\"Babet\":[0.5444837697633584,0.44613790655021895],\"Bahorel\":[0.5548592129183628,0.18936926190293968],\"Bamatabois\":[0.44295169761298464,0.6815526559446666],\"BaronessT\":[0.29397176103195855,0.20424696629425587],\"Blacheville\":[0.18329092944253234,0.6380635631812112],\"Bossuet\":[0.5770048681624906,0.33532158871534146],\"Boulatruelle\":[0.19971791034272152,0.35532505946335546],\"Brevet\":[0.49979956039625084,0.76073189945511],\"Brujon\":[0.4697106781241731,0.28083258538117073],\"Champmathieu\":[0.581196110450599,0.7480573421083622],\"Champtercier\":[0.8534733692515099,0.8110040822510978],\"Chenildieu\":[0.5239636679587429,0.6923097770350474],\"Child1\":[0.7860092034245342,0.2760225493713908],\"Child2\":[0.8067099398593418,0.3382147067457465],\"Claquesous\":[0.4774248340592147,0.44575282580415426],\"Cochepaille\":[0.578530582448629,0.6428578022023055],\"Combeferre\":[0.47615130888100726,0.19249970226201113],\"Cosette\":[0.3777725139022463,0.5277576010207395],\"Count\":[0.7386360347617433,0.8994463592347859],\"CountessDeLo\":[0.9176227142799367,0.682994308781343],\"Courfeyrac\":[0.5150134737415257,0.23159635080501556],\"Cravatte\":[0.7997082422688021,0.8624642275812779],\"Dahlia\":[0.1177823966402538,0.6071081133658827],\"Enjolras\":[0.5439017063989772,0.34801618000756585],\"Eponine\":[0.3831862465075838,0.29699970149264454],\"Fameuil\":[0.16890922019680082,0.7116295468226999],\"Fantine\":[0.31760570500440816,0.6136129102241145],\"Fauchelevent\":[0.45257140126061207,0.7498794582047428],\"Favourite\":[0.1310702323754459,0.6656899114168218],\"Feuilly\":[0.5081766218149514,0.16396824467890758],\"Gavroche\":[0.6062932470398409,0.3449798412484225],\"Geborand\":[0.8935005233897306,0.748817070968314],\"Gervais\":[0.7217803917793535,0.559512934658411],\"Gillenormand\":[0.3659947740473636,0.4277359916115601],\"Grantaire\":[0.6604961362242774,0.18888724622358793],\"Gribier\":[0.42808701016587225,0.9561239994487178],\"Gueulemer\":[0.5167673487835295,0.4105176986736346],\"Isabeau\":[0.7351126736327838,0.5133153442538475],\"Javert\":[0.47139347139800974,0.5250943763182667],\"Joly\":[0.5805565879477783,0.23100474831826373],\"Jondrette\":[0.8982909067497422,0.0945745804249179],\"Judge\":[0.6088507439708724,0.6991770310993832],\"Labarre\":[0.6848554733110792,0.5154685955173359],\"Listolier\":[0.2145526711506749,0.7220635606602963],\"LtGillenormand\":[0.2669367288196576,0.33475833992360493],\"Mabeuf\":[0.4264373100040457,0.19584784838200858],\"Magnon\":[0.15917592610268672,0.429758734414522],\"Marguerite\":[0.39313465228734734,0.7193580820926455],\"Marius\":[0.4347582522425478,0.3653567004215973],\"MlleBaptistine\":[0.7156648324511177,0.6142074089007283],\"MlleGillenormand\":[0.32173662993225727,0.469582911504409],\"MlleVaubois\":[0.09387353597454584,0.46946971970944196],\"MmeBurgon\":[0.7714354902398749,0.2199256134054119],\"MmeDeR\":[0.7092081401821345,0.4734559915452772],\"MmeHucheloup\":[0.7012032373156603,0.24194215252456153],\"MmeMagloire\":[0.6547436483498965,0.6782058332421009],\"MmePontmercy\":[0.13582488215053745,0.3178159988929994],\"MmeThenardier\":[0.36407215708277174,0.4907216889303236],\"Montparnasse\":[0.5929719685080452,0.4283598555384953],\"MotherInnocent\":[0.5442766386713076,0.7535080475550677],\"MotherPlutarch\":[0.403452848128229,0.0],\"Myriel\":[0.7231225640118338,0.7048695583139735],\"Napoleon\":[0.9278486345083584,0.6173206943532425],\"OldMan\":[0.6739900855141292,0.9231898945279806],\"Perpetue\":[0.26114024921875867,0.8309999359030681],\"Pontmercy\":[0.290401001069591,0.2545441499837414],\"Prouvaire\":[0.6245861148808926,0.14936789514554888],\"Scaufflaire\":[0.6658419006145032,0.6131138135529056],\"Simplice\":[0.3753142192088072,0.6850462555518427],\"Thenardier\":[0.41426965618261086,0.4295915187502531],\"Tholomyes\":[0.23002062666803003,0.5114133250404825],\"Toussaint\":[0.46930083232598474,0.6344340857084078],\"Valjean\":[0.5275458334791585,0.5530879377294862],\"Woman1\":[0.6320428542468937,0.5605567114223127],\"Woman2\":[0.4049570742479953,0.6320100072171054],\"Zephine\":[0.13315541566219236,0.5621097876986525]}},\"id\":\"3794\",\"type\":\"StaticLayoutProvider\"},{\"attributes\":{},\"id\":\"3865\",\"type\":\"PanTool\"},{\"attributes\":{},\"id\":\"3868\",\"type\":\"ZoomInTool\"},{\"attributes\":{},\"id\":\"4013\",\"type\":\"LinearScale\"},{\"attributes\":{\"data\":{\"end\":[\"Myriel\",\"MlleBaptistine\",\"MmeMagloire\",\"CountessDeLo\",\"Geborand\",\"Champtercier\",\"Cravatte\",\"Count\",\"OldMan\",\"Valjean\",\"MmeMagloire\",\"Valjean\",\"Valjean\",\"Labarre\",\"Marguerite\",\"MmeDeR\",\"Isabeau\",\"Gervais\",\"Fantine\",\"MmeThenardier\",\"Thenardier\",\"Cosette\",\"Javert\",\"Fauchelevent\",\"Bamatabois\",\"Simplice\",\"Scaufflaire\",\"Woman1\",\"Judge\",\"Champmathieu\",\"Brevet\",\"Chenildieu\",\"Cochepaille\",\"Woman2\",\"MotherInnocent\",\"Gavroche\",\"Gillenormand\",\"MlleGillenormand\",\"Marius\",\"Enjolras\",\"Bossuet\",\"Gueulemer\",\"Babet\",\"Claquesous\",\"Montparnasse\",\"Toussaint\",\"Fantine\",\"Tholomyes\",\"Fameuil\",\"Blacheville\",\"Favourite\",\"Dahlia\",\"Zephine\",\"Fantine\",\"Fameuil\",\"Blacheville\",\"Favourite\",\"Dahlia\",\"Zephine\",\"Fantine\",\"Cosette\",\"Marius\",\"Blacheville\",\"Favourite\",\"Dahlia\",\"Zephine\",\"Fantine\",\"Favourite\",\"Dahlia\",\"Zephine\",\"Fantine\",\"Dahlia\",\"Zephine\",\"Fantine\",\"Zephine\",\"Fantine\",\"Fantine\",\"MmeThenardier\",\"Thenardier\",\"Javert\",\"Bamatabois\",\"Perpetue\",\"Simplice\",\"Thenardier\",\"Cosette\",\"Javert\",\"Eponine\",\"Anzelma\",\"Magnon\",\"Gueulemer\",\"Babet\",\"Claquesous\",\"Cosette\",\"Javert\",\"Pontmercy\",\"Boulatruelle\",\"Eponine\",\"Anzelma\",\"Gavroche\",\"Marius\",\"Gueulemer\",\"Babet\",\"Claquesous\",\"Montparnasse\",\"Brujon\",\"Javert\",\"Woman2\",\"Gillenormand\",\"MlleGillenormand\",\"LtGillenormand\",\"Marius\",\"Toussaint\",\"Fauchelevent\",\"Bamatabois\",\"Simplice\",\"Woman1\",\"Woman2\",\"Gavroche\",\"Enjolras\",\"Gueulemer\",\"Babet\",\"Claquesous\",\"Montparnasse\",\"Toussaint\",\"MotherInnocent\",\"Gribier\",\"Judge\",\"Champmathieu\",\"Brevet\",\"Chenildieu\",\"Cochepaille\",\"Simplice\",\"Champmathieu\",\"Brevet\",\"Chenildieu\",\"Cochepaille\",\"Brevet\",\"Chenildieu\",\"Cochepaille\",\"Chenildieu\",\"Cochepaille\",\"Cochepaille\",\"MmePontmercy\",\"Marius\",\"Anzelma\",\"Marius\",\"Mabeuf\",\"Courfeyrac\",\"Gueulemer\",\"Babet\",\"Claquesous\",\"Montparnasse\",\"Brujon\",\"Jondrette\",\"Gavroche\",\"Marius\",\"Mabeuf\",\"Enjolras\",\"Combeferre\",\"Prouvaire\",\"Feuilly\",\"Courfeyrac\",\"Bahorel\",\"Bossuet\",\"Joly\",\"Grantaire\",\"Gueulemer\",\"Babet\",\"Montparnasse\",\"Child1\",\"Child2\",\"Brujon\",\"MmeHucheloup\",\"Magnon\",\"MlleGillenormand\",\"LtGillenormand\",\"Marius\",\"BaronessT\",\"MmePontmercy\",\"MlleVaubois\",\"LtGillenormand\",\"Marius\",\"Marius\",\"BaronessT\",\"Mabeuf\",\"Enjolras\",\"Combeferre\",\"Feuilly\",\"Courfeyrac\",\"Bahorel\",\"Bossuet\",\"Joly\",\"Enjolras\",\"Combeferre\",\"Feuilly\",\"Courfeyrac\",\"Bahorel\",\"Bossuet\",\"Joly\",\"MotherPlutarch\",\"Combeferre\",\"Prouvaire\",\"Feuilly\",\"Courfeyrac\",\"Bahorel\",\"Bossuet\",\"Joly\",\"Grantaire\",\"Claquesous\",\"MmeHucheloup\",\"Prouvaire\",\"Feuilly\",\"Courfeyrac\",\"Bahorel\",\"Bossuet\",\"Joly\",\"Grantaire\",\"Feuilly\",\"Courfeyrac\",\"Bahorel\",\"Bossuet\",\"Joly\",\"Grantaire\",\"Courfeyrac\",\"Bahorel\",\"Bossuet\",\"Joly\",\"Grantaire\",\"Bahorel\",\"Bossuet\",\"Joly\",\"Grantaire\",\"MmeHucheloup\",\"Bossuet\",\"Joly\",\"Grantaire\",\"MmeHucheloup\",\"Joly\",\"Grantaire\",\"MmeHucheloup\",\"Grantaire\",\"MmeHucheloup\",\"MmeHucheloup\",\"Babet\",\"Claquesous\",\"Montparnasse\",\"Brujon\",\"Claquesous\",\"Montparnasse\",\"Brujon\",\"Montparnasse\",\"Brujon\",\"Brujon\",\"Child2\"],\"start\":[\"Napoleon\",\"Myriel\",\"Myriel\",\"Myriel\",\"Myriel\",\"Myriel\",\"Myriel\",\"Myriel\",\"Myriel\",\"Myriel\",\"MlleBaptistine\",\"MlleBaptistine\",\"MmeMagloire\",\"Valjean\",\"Valjean\",\"Valjean\",\"Valjean\",\"Valjean\",\"Valjean\",\"Valjean\",\"Valjean\",\"Valjean\",\"Valjean\",\"Valjean\",\"Valjean\",\"Valjean\",\"Valjean\",\"Valjean\",\"Valjean\",\"Valjean\",\"Valjean\",\"Valjean\",\"Valjean\",\"Valjean\",\"Valjean\",\"Valjean\",\"Valjean\",\"Valjean\",\"Valjean\",\"Valjean\",\"Valjean\",\"Valjean\",\"Valjean\",\"Valjean\",\"Valjean\",\"Valjean\",\"Marguerite\",\"Listolier\",\"Listolier\",\"Listolier\",\"Listolier\",\"Listolier\",\"Listolier\",\"Listolier\",\"Tholomyes\",\"Tholomyes\",\"Tholomyes\",\"Tholomyes\",\"Tholomyes\",\"Tholomyes\",\"Tholomyes\",\"Tholomyes\",\"Fameuil\",\"Fameuil\",\"Fameuil\",\"Fameuil\",\"Fameuil\",\"Blacheville\",\"Blacheville\",\"Blacheville\",\"Blacheville\",\"Favourite\",\"Favourite\",\"Favourite\",\"Dahlia\",\"Dahlia\",\"Zephine\",\"Fantine\",\"Fantine\",\"Fantine\",\"Fantine\",\"Fantine\",\"Fantine\",\"MmeThenardier\",\"MmeThenardier\",\"MmeThenardier\",\"MmeThenardier\",\"MmeThenardier\",\"MmeThenardier\",\"MmeThenardier\",\"MmeThenardier\",\"MmeThenardier\",\"Thenardier\",\"Thenardier\",\"Thenardier\",\"Thenardier\",\"Thenardier\",\"Thenardier\",\"Thenardier\",\"Thenardier\",\"Thenardier\",\"Thenardier\",\"Thenardier\",\"Thenardier\",\"Thenardier\",\"Cosette\",\"Cosette\",\"Cosette\",\"Cosette\",\"Cosette\",\"Cosette\",\"Cosette\",\"Javert\",\"Javert\",\"Javert\",\"Javert\",\"Javert\",\"Javert\",\"Javert\",\"Javert\",\"Javert\",\"Javert\",\"Javert\",\"Javert\",\"Fauchelevent\",\"Fauchelevent\",\"Bamatabois\",\"Bamatabois\",\"Bamatabois\",\"Bamatabois\",\"Bamatabois\",\"Perpetue\",\"Judge\",\"Judge\",\"Judge\",\"Judge\",\"Champmathieu\",\"Champmathieu\",\"Champmathieu\",\"Brevet\",\"Brevet\",\"Chenildieu\",\"Pontmercy\",\"Pontmercy\",\"Eponine\",\"Eponine\",\"Eponine\",\"Eponine\",\"Eponine\",\"Eponine\",\"Eponine\",\"Eponine\",\"Eponine\",\"MmeBurgon\",\"MmeBurgon\",\"Gavroche\",\"Gavroche\",\"Gavroche\",\"Gavroche\",\"Gavroche\",\"Gavroche\",\"Gavroche\",\"Gavroche\",\"Gavroche\",\"Gavroche\",\"Gavroche\",\"Gavroche\",\"Gavroche\",\"Gavroche\",\"Gavroche\",\"Gavroche\",\"Gavroche\",\"Gavroche\",\"Gillenormand\",\"Gillenormand\",\"Gillenormand\",\"Gillenormand\",\"Gillenormand\",\"MlleGillenormand\",\"MlleGillenormand\",\"MlleGillenormand\",\"MlleGillenormand\",\"LtGillenormand\",\"Marius\",\"Marius\",\"Marius\",\"Marius\",\"Marius\",\"Marius\",\"Marius\",\"Marius\",\"Marius\",\"Mabeuf\",\"Mabeuf\",\"Mabeuf\",\"Mabeuf\",\"Mabeuf\",\"Mabeuf\",\"Mabeuf\",\"Mabeuf\",\"Enjolras\",\"Enjolras\",\"Enjolras\",\"Enjolras\",\"Enjolras\",\"Enjolras\",\"Enjolras\",\"Enjolras\",\"Enjolras\",\"Enjolras\",\"Combeferre\",\"Combeferre\",\"Combeferre\",\"Combeferre\",\"Combeferre\",\"Combeferre\",\"Combeferre\",\"Prouvaire\",\"Prouvaire\",\"Prouvaire\",\"Prouvaire\",\"Prouvaire\",\"Prouvaire\",\"Feuilly\",\"Feuilly\",\"Feuilly\",\"Feuilly\",\"Feuilly\",\"Courfeyrac\",\"Courfeyrac\",\"Courfeyrac\",\"Courfeyrac\",\"Courfeyrac\",\"Bahorel\",\"Bahorel\",\"Bahorel\",\"Bahorel\",\"Bossuet\",\"Bossuet\",\"Bossuet\",\"Joly\",\"Joly\",\"Grantaire\",\"Gueulemer\",\"Gueulemer\",\"Gueulemer\",\"Gueulemer\",\"Babet\",\"Babet\",\"Babet\",\"Claquesous\",\"Claquesous\",\"Montparnasse\",\"Child1\"]},\"selected\":{\"id\":\"3992\"},\"selection_policy\":{\"id\":\"3991\"}},\"id\":\"3791\",\"type\":\"ColumnDataSource\"},{\"attributes\":{\"active_multi\":null,\"tools\":[{\"id\":\"3865\"},{\"id\":\"3866\"},{\"id\":\"3867\"},{\"id\":\"3868\"},{\"id\":\"3869\"}]},\"id\":\"3870\",\"type\":\"Toolbar\"},{\"attributes\":{\"line_color\":{\"value\":\"#fdae61\"},\"line_width\":{\"value\":2}},\"id\":\"3835\",\"type\":\"MultiLine\"},{\"attributes\":{},\"id\":\"3992\",\"type\":\"Selection\"},{\"attributes\":{},\"id\":\"3869\",\"type\":\"ZoomOutTool\"},{\"attributes\":{},\"id\":\"4014\",\"type\":\"LinearScale\"},{\"attributes\":{\"data_source\":{\"id\":\"3791\"},\"glyph\":{\"id\":\"3830\"},\"hover_glyph\":{\"id\":\"3840\"},\"muted_glyph\":null,\"selection_glyph\":{\"id\":\"3835\"},\"view\":{\"id\":\"3793\"}},\"id\":\"3792\",\"type\":\"GlyphRenderer\"},{\"attributes\":{\"end\":1.1,\"start\":-0.1},\"id\":\"3923\",\"type\":\"Range1d\"},{\"attributes\":{\"fill_alpha\":{\"value\":0.5},\"fill_color\":{\"field\":\"colors\"},\"size\":{\"value\":15}},\"id\":\"3879\",\"type\":\"Circle\"},{\"attributes\":{},\"id\":\"3991\",\"type\":\"UnionRenderers\"},{\"attributes\":{\"fill_color\":{\"value\":\"#abdda4\"},\"size\":{\"value\":15}},\"id\":\"3889\",\"type\":\"Circle\"},{\"attributes\":{\"toolbars\":[{\"id\":\"3806\"},{\"id\":\"3870\"},{\"id\":\"3934\"}],\"tools\":[{\"id\":\"3801\"},{\"id\":\"3802\"},{\"id\":\"3803\"},{\"id\":\"3804\"},{\"id\":\"3805\"},{\"id\":\"3865\"},{\"id\":\"3866\"},{\"id\":\"3867\"},{\"id\":\"3868\"},{\"id\":\"3869\"},{\"id\":\"3929\"},{\"id\":\"3930\"},{\"id\":\"3931\"},{\"id\":\"3932\"},{\"id\":\"3933\"}]},\"id\":\"4029\",\"type\":\"ProxyToolbar\"},{\"attributes\":{\"line_alpha\":{\"value\":0.5},\"line_color\":{\"value\":\"#CCCCCC\"},\"line_width\":{\"value\":2}},\"id\":\"3894\",\"type\":\"MultiLine\"},{\"attributes\":{\"line_color\":{\"value\":\"#abdda4\"},\"line_width\":{\"value\":2}},\"id\":\"3904\",\"type\":\"MultiLine\"},{\"attributes\":{\"line_color\":{\"value\":\"#fdae61\"},\"line_width\":{\"value\":2}},\"id\":\"3899\",\"type\":\"MultiLine\"},{\"attributes\":{},\"id\":\"3909\",\"type\":\"NodesAndLinkedEdges\"},{\"attributes\":{\"source\":{\"id\":\"3791\"}},\"id\":\"3793\",\"type\":\"CDSView\"},{\"attributes\":{\"fill_color\":{\"value\":\"#fdae61\"},\"size\":{\"value\":15}},\"id\":\"3948\",\"type\":\"Circle\"},{\"attributes\":{\"data_source\":{\"id\":\"3915\"},\"glyph\":{\"id\":\"3943\"},\"hover_glyph\":{\"id\":\"3953\"},\"muted_glyph\":null,\"selection_glyph\":{\"id\":\"3948\"},\"view\":{\"id\":\"3917\"}},\"id\":\"3916\",\"type\":\"GlyphRenderer\"},{\"attributes\":{\"end\":1.1,\"start\":-0.1},\"id\":\"3796\",\"type\":\"Range1d\"},{\"attributes\":{},\"id\":\"3911\",\"type\":\"NodesOnly\"},{\"attributes\":{},\"id\":\"3975\",\"type\":\"NodesOnly\"},{\"attributes\":{\"data\":{\"colors\":[\"#fffbc2\",\"#fed06c\",\"#fff3af\",\"#fff3af\",\"#fffbc2\",\"#fffbc2\",\"#fffbc2\",\"#fffbc2\",\"#fffbc2\",\"#fffbc2\",\"#800026\",\"#fffbc2\",\"#fff7b9\",\"#fffbc2\",\"#fffbc2\",\"#fffbc2\",\"#fee289\",\"#fed976\",\"#fee289\",\"#fee289\",\"#fee289\",\"#fee289\",\"#fee289\",\"#fea647\",\"#fec863\",\"#fd9e43\",\"#fec863\",\"#fd9640\",\"#ffefa5\",\"#fede80\",\"#fff7b9\",\"#ffefa5\",\"#fffbc2\",\"#fff7b9\",\"#ffe793\",\"#ffe793\",\"#ffe793\",\"#ffe793\",\"#ffe793\",\"#fff3af\",\"#fffbc2\",\"#fec863\",\"#fff3af\",\"#fff3af\",\"#fff7b9\",\"#fffbc2\",\"#fff7b9\",\"#fffbc2\",\"#fc552c\",\"#fee289\",\"#fff7b9\",\"#fee289\",\"#fff7b9\",\"#fffbc2\",\"#ffefa5\",\"#fd7e38\",\"#fff7b9\",\"#fec863\",\"#fea647\",\"#fec863\",\"#fed976\",\"#fec863\",\"#feb651\",\"#febf5a\",\"#feb651\",\"#febf5a\",\"#fed06c\",\"#fffbc2\",\"#fed06c\",\"#fed06c\",\"#fed06c\",\"#fed976\",\"#fff3af\",\"#fff7b9\",\"#fff7b9\",\"#fee289\",\"#fee289\"],\"id\":[\"Napoleon\",\"Myriel\",\"MlleBaptistine\",\"MmeMagloire\",\"CountessDeLo\",\"Geborand\",\"Champtercier\",\"Cravatte\",\"Count\",\"OldMan\",\"Valjean\",\"Labarre\",\"Marguerite\",\"MmeDeR\",\"Isabeau\",\"Gervais\",\"Listolier\",\"Tholomyes\",\"Fameuil\",\"Blacheville\",\"Favourite\",\"Dahlia\",\"Zephine\",\"Fantine\",\"MmeThenardier\",\"Thenardier\",\"Cosette\",\"Javert\",\"Fauchelevent\",\"Bamatabois\",\"Perpetue\",\"Simplice\",\"Scaufflaire\",\"Woman1\",\"Judge\",\"Champmathieu\",\"Brevet\",\"Chenildieu\",\"Cochepaille\",\"Pontmercy\",\"Boulatruelle\",\"Eponine\",\"Anzelma\",\"Woman2\",\"MotherInnocent\",\"Gribier\",\"MmeBurgon\",\"Jondrette\",\"Gavroche\",\"Gillenormand\",\"Magnon\",\"MlleGillenormand\",\"MmePontmercy\",\"MlleVaubois\",\"LtGillenormand\",\"Marius\",\"BaronessT\",\"Mabeuf\",\"Enjolras\",\"Combeferre\",\"Prouvaire\",\"Feuilly\",\"Courfeyrac\",\"Bahorel\",\"Bossuet\",\"Joly\",\"Grantaire\",\"MotherPlutarch\",\"Gueulemer\",\"Babet\",\"Claquesous\",\"Montparnasse\",\"Toussaint\",\"Child1\",\"Child2\",\"Brujon\",\"MmeHucheloup\"],\"index\":[\"Napoleon\",\"Myriel\",\"MlleBaptistine\",\"MmeMagloire\",\"CountessDeLo\",\"Geborand\",\"Champtercier\",\"Cravatte\",\"Count\",\"OldMan\",\"Valjean\",\"Labarre\",\"Marguerite\",\"MmeDeR\",\"Isabeau\",\"Gervais\",\"Listolier\",\"Tholomyes\",\"Fameuil\",\"Blacheville\",\"Favourite\",\"Dahlia\",\"Zephine\",\"Fantine\",\"MmeThenardier\",\"Thenardier\",\"Cosette\",\"Javert\",\"Fauchelevent\",\"Bamatabois\",\"Perpetue\",\"Simplice\",\"Scaufflaire\",\"Woman1\",\"Judge\",\"Champmathieu\",\"Brevet\",\"Chenildieu\",\"Cochepaille\",\"Pontmercy\",\"Boulatruelle\",\"Eponine\",\"Anzelma\",\"Woman2\",\"MotherInnocent\",\"Gribier\",\"MmeBurgon\",\"Jondrette\",\"Gavroche\",\"Gillenormand\",\"Magnon\",\"MlleGillenormand\",\"MmePontmercy\",\"MlleVaubois\",\"LtGillenormand\",\"Marius\",\"BaronessT\",\"Mabeuf\",\"Enjolras\",\"Combeferre\",\"Prouvaire\",\"Feuilly\",\"Courfeyrac\",\"Bahorel\",\"Bossuet\",\"Joly\",\"Grantaire\",\"MotherPlutarch\",\"Gueulemer\",\"Babet\",\"Claquesous\",\"Montparnasse\",\"Toussaint\",\"Child1\",\"Child2\",\"Brujon\",\"MmeHucheloup\"]},\"selected\":{\"id\":\"3990\"},\"selection_policy\":{\"id\":\"3989\"}},\"id\":\"3787\",\"type\":\"ColumnDataSource\"},{\"attributes\":{\"toolbar\":{\"id\":\"4029\"},\"toolbar_location\":\"above\"},\"id\":\"4030\",\"type\":\"ToolbarBox\"},{\"attributes\":{\"data_source\":{\"id\":\"3851\"},\"glyph\":{\"id\":\"3879\"},\"hover_glyph\":{\"id\":\"3889\"},\"muted_glyph\":null,\"selection_glyph\":{\"id\":\"3884\"},\"view\":{\"id\":\"3853\"}},\"id\":\"3852\",\"type\":\"GlyphRenderer\"},{\"attributes\":{},\"id\":\"4006\",\"type\":\"UnionRenderers\"},{\"attributes\":{},\"id\":\"4007\",\"type\":\"Selection\"},{\"attributes\":{\"data\":{\"colors\":[\"#ffffcc\",\"#fec662\",\"#ffffcc\",\"#ffffcc\",\"#ffffcc\",\"#ffffcc\",\"#ffffcc\",\"#ffffcc\",\"#ffffcc\",\"#ffffcc\",\"#800026\",\"#ffffcc\",\"#ffffcc\",\"#ffffcc\",\"#ffffcc\",\"#ffffcc\",\"#ffffcc\",\"#fff5b3\",\"#ffffcc\",\"#ffffcc\",\"#ffffcc\",\"#ffffcc\",\"#ffffcc\",\"#fedd7e\",\"#fff8ba\",\"#ffec9f\",\"#fff9be\",\"#fff1ab\",\"#fff9bd\",\"#fffdc8\",\"#ffffcc\",\"#fffdc8\",\"#ffffcc\",\"#ffffcc\",\"#ffffcc\",\"#ffffcc\",\"#ffffcc\",\"#ffffcc\",\"#ffffcc\",\"#fffdc8\",\"#ffffcc\",\"#fffcc5\",\"#ffffcc\",\"#ffffcc\",\"#ffffcc\",\"#ffffcc\",\"#fff9bd\",\"#ffffcc\",\"#fecc68\",\"#fffac0\",\"#ffffcc\",\"#fff3af\",\"#ffffcc\",\"#ffffcc\",\"#ffffcc\",\"#fedc7c\",\"#ffffcc\",\"#fff8bb\",\"#fff4b2\",\"#ffffcc\",\"#ffffcc\",\"#ffffcc\",\"#fffec9\",\"#ffffcc\",\"#fff8ba\",\"#ffffcc\",\"#ffffcc\",\"#ffffcc\",\"#fffec9\",\"#fffec9\",\"#fffec9\",\"#fffecb\",\"#ffffcc\",\"#ffffcc\",\"#ffffcc\",\"#ffffcc\",\"#ffffcc\"],\"id\":[\"Napoleon\",\"Myriel\",\"MlleBaptistine\",\"MmeMagloire\",\"CountessDeLo\",\"Geborand\",\"Champtercier\",\"Cravatte\",\"Count\",\"OldMan\",\"Valjean\",\"Labarre\",\"Marguerite\",\"MmeDeR\",\"Isabeau\",\"Gervais\",\"Listolier\",\"Tholomyes\",\"Fameuil\",\"Blacheville\",\"Favourite\",\"Dahlia\",\"Zephine\",\"Fantine\",\"MmeThenardier\",\"Thenardier\",\"Cosette\",\"Javert\",\"Fauchelevent\",\"Bamatabois\",\"Perpetue\",\"Simplice\",\"Scaufflaire\",\"Woman1\",\"Judge\",\"Champmathieu\",\"Brevet\",\"Chenildieu\",\"Cochepaille\",\"Pontmercy\",\"Boulatruelle\",\"Eponine\",\"Anzelma\",\"Woman2\",\"MotherInnocent\",\"Gribier\",\"MmeBurgon\",\"Jondrette\",\"Gavroche\",\"Gillenormand\",\"Magnon\",\"MlleGillenormand\",\"MmePontmercy\",\"MlleVaubois\",\"LtGillenormand\",\"Marius\",\"BaronessT\",\"Mabeuf\",\"Enjolras\",\"Combeferre\",\"Prouvaire\",\"Feuilly\",\"Courfeyrac\",\"Bahorel\",\"Bossuet\",\"Joly\",\"Grantaire\",\"MotherPlutarch\",\"Gueulemer\",\"Babet\",\"Claquesous\",\"Montparnasse\",\"Toussaint\",\"Child1\",\"Child2\",\"Brujon\",\"MmeHucheloup\"],\"index\":[\"Napoleon\",\"Myriel\",\"MlleBaptistine\",\"MmeMagloire\",\"CountessDeLo\",\"Geborand\",\"Champtercier\",\"Cravatte\",\"Count\",\"OldMan\",\"Valjean\",\"Labarre\",\"Marguerite\",\"MmeDeR\",\"Isabeau\",\"Gervais\",\"Listolier\",\"Tholomyes\",\"Fameuil\",\"Blacheville\",\"Favourite\",\"Dahlia\",\"Zephine\",\"Fantine\",\"MmeThenardier\",\"Thenardier\",\"Cosette\",\"Javert\",\"Fauchelevent\",\"Bamatabois\",\"Perpetue\",\"Simplice\",\"Scaufflaire\",\"Woman1\",\"Judge\",\"Champmathieu\",\"Brevet\",\"Chenildieu\",\"Cochepaille\",\"Pontmercy\",\"Boulatruelle\",\"Eponine\",\"Anzelma\",\"Woman2\",\"MotherInnocent\",\"Gribier\",\"MmeBurgon\",\"Jondrette\",\"Gavroche\",\"Gillenormand\",\"Magnon\",\"MlleGillenormand\",\"MmePontmercy\",\"MlleVaubois\",\"LtGillenormand\",\"Marius\",\"BaronessT\",\"Mabeuf\",\"Enjolras\",\"Combeferre\",\"Prouvaire\",\"Feuilly\",\"Courfeyrac\",\"Bahorel\",\"Bossuet\",\"Joly\",\"Grantaire\",\"MotherPlutarch\",\"Gueulemer\",\"Babet\",\"Claquesous\",\"Montparnasse\",\"Toussaint\",\"Child1\",\"Child2\",\"Brujon\",\"MmeHucheloup\"]},\"selected\":{\"id\":\"4024\"},\"selection_policy\":{\"id\":\"4023\"}},\"id\":\"3915\",\"type\":\"ColumnDataSource\"},{\"attributes\":{\"edge_renderer\":{\"id\":\"3920\"},\"inspection_policy\":{\"id\":\"3975\"},\"layout_provider\":{\"id\":\"3922\"},\"node_renderer\":{\"id\":\"3916\"},\"selection_policy\":{\"id\":\"3973\"}},\"id\":\"3913\",\"type\":\"GraphRenderer\"},{\"attributes\":{\"data\":{\"end\":[\"Myriel\",\"MlleBaptistine\",\"MmeMagloire\",\"CountessDeLo\",\"Geborand\",\"Champtercier\",\"Cravatte\",\"Count\",\"OldMan\",\"Valjean\",\"MmeMagloire\",\"Valjean\",\"Valjean\",\"Labarre\",\"Marguerite\",\"MmeDeR\",\"Isabeau\",\"Gervais\",\"Fantine\",\"MmeThenardier\",\"Thenardier\",\"Cosette\",\"Javert\",\"Fauchelevent\",\"Bamatabois\",\"Simplice\",\"Scaufflaire\",\"Woman1\",\"Judge\",\"Champmathieu\",\"Brevet\",\"Chenildieu\",\"Cochepaille\",\"Woman2\",\"MotherInnocent\",\"Gavroche\",\"Gillenormand\",\"MlleGillenormand\",\"Marius\",\"Enjolras\",\"Bossuet\",\"Gueulemer\",\"Babet\",\"Claquesous\",\"Montparnasse\",\"Toussaint\",\"Fantine\",\"Tholomyes\",\"Fameuil\",\"Blacheville\",\"Favourite\",\"Dahlia\",\"Zephine\",\"Fantine\",\"Fameuil\",\"Blacheville\",\"Favourite\",\"Dahlia\",\"Zephine\",\"Fantine\",\"Cosette\",\"Marius\",\"Blacheville\",\"Favourite\",\"Dahlia\",\"Zephine\",\"Fantine\",\"Favourite\",\"Dahlia\",\"Zephine\",\"Fantine\",\"Dahlia\",\"Zephine\",\"Fantine\",\"Zephine\",\"Fantine\",\"Fantine\",\"MmeThenardier\",\"Thenardier\",\"Javert\",\"Bamatabois\",\"Perpetue\",\"Simplice\",\"Thenardier\",\"Cosette\",\"Javert\",\"Eponine\",\"Anzelma\",\"Magnon\",\"Gueulemer\",\"Babet\",\"Claquesous\",\"Cosette\",\"Javert\",\"Pontmercy\",\"Boulatruelle\",\"Eponine\",\"Anzelma\",\"Gavroche\",\"Marius\",\"Gueulemer\",\"Babet\",\"Claquesous\",\"Montparnasse\",\"Brujon\",\"Javert\",\"Woman2\",\"Gillenormand\",\"MlleGillenormand\",\"LtGillenormand\",\"Marius\",\"Toussaint\",\"Fauchelevent\",\"Bamatabois\",\"Simplice\",\"Woman1\",\"Woman2\",\"Gavroche\",\"Enjolras\",\"Gueulemer\",\"Babet\",\"Claquesous\",\"Montparnasse\",\"Toussaint\",\"MotherInnocent\",\"Gribier\",\"Judge\",\"Champmathieu\",\"Brevet\",\"Chenildieu\",\"Cochepaille\",\"Simplice\",\"Champmathieu\",\"Brevet\",\"Chenildieu\",\"Cochepaille\",\"Brevet\",\"Chenildieu\",\"Cochepaille\",\"Chenildieu\",\"Cochepaille\",\"Cochepaille\",\"MmePontmercy\",\"Marius\",\"Anzelma\",\"Marius\",\"Mabeuf\",\"Courfeyrac\",\"Gueulemer\",\"Babet\",\"Claquesous\",\"Montparnasse\",\"Brujon\",\"Jondrette\",\"Gavroche\",\"Marius\",\"Mabeuf\",\"Enjolras\",\"Combeferre\",\"Prouvaire\",\"Feuilly\",\"Courfeyrac\",\"Bahorel\",\"Bossuet\",\"Joly\",\"Grantaire\",\"Gueulemer\",\"Babet\",\"Montparnasse\",\"Child1\",\"Child2\",\"Brujon\",\"MmeHucheloup\",\"Magnon\",\"MlleGillenormand\",\"LtGillenormand\",\"Marius\",\"BaronessT\",\"MmePontmercy\",\"MlleVaubois\",\"LtGillenormand\",\"Marius\",\"Marius\",\"BaronessT\",\"Mabeuf\",\"Enjolras\",\"Combeferre\",\"Feuilly\",\"Courfeyrac\",\"Bahorel\",\"Bossuet\",\"Joly\",\"Enjolras\",\"Combeferre\",\"Feuilly\",\"Courfeyrac\",\"Bahorel\",\"Bossuet\",\"Joly\",\"MotherPlutarch\",\"Combeferre\",\"Prouvaire\",\"Feuilly\",\"Courfeyrac\",\"Bahorel\",\"Bossuet\",\"Joly\",\"Grantaire\",\"Claquesous\",\"MmeHucheloup\",\"Prouvaire\",\"Feuilly\",\"Courfeyrac\",\"Bahorel\",\"Bossuet\",\"Joly\",\"Grantaire\",\"Feuilly\",\"Courfeyrac\",\"Bahorel\",\"Bossuet\",\"Joly\",\"Grantaire\",\"Courfeyrac\",\"Bahorel\",\"Bossuet\",\"Joly\",\"Grantaire\",\"Bahorel\",\"Bossuet\",\"Joly\",\"Grantaire\",\"MmeHucheloup\",\"Bossuet\",\"Joly\",\"Grantaire\",\"MmeHucheloup\",\"Joly\",\"Grantaire\",\"MmeHucheloup\",\"Grantaire\",\"MmeHucheloup\",\"MmeHucheloup\",\"Babet\",\"Claquesous\",\"Montparnasse\",\"Brujon\",\"Claquesous\",\"Montparnasse\",\"Brujon\",\"Montparnasse\",\"Brujon\",\"Brujon\",\"Child2\"],\"start\":[\"Napoleon\",\"Myriel\",\"Myriel\",\"Myriel\",\"Myriel\",\"Myriel\",\"Myriel\",\"Myriel\",\"Myriel\",\"Myriel\",\"MlleBaptistine\",\"MlleBaptistine\",\"MmeMagloire\",\"Valjean\",\"Valjean\",\"Valjean\",\"Valjean\",\"Valjean\",\"Valjean\",\"Valjean\",\"Valjean\",\"Valjean\",\"Valjean\",\"Valjean\",\"Valjean\",\"Valjean\",\"Valjean\",\"Valjean\",\"Valjean\",\"Valjean\",\"Valjean\",\"Valjean\",\"Valjean\",\"Valjean\",\"Valjean\",\"Valjean\",\"Valjean\",\"Valjean\",\"Valjean\",\"Valjean\",\"Valjean\",\"Valjean\",\"Valjean\",\"Valjean\",\"Valjean\",\"Valjean\",\"Marguerite\",\"Listolier\",\"Listolier\",\"Listolier\",\"Listolier\",\"Listolier\",\"Listolier\",\"Listolier\",\"Tholomyes\",\"Tholomyes\",\"Tholomyes\",\"Tholomyes\",\"Tholomyes\",\"Tholomyes\",\"Tholomyes\",\"Tholomyes\",\"Fameuil\",\"Fameuil\",\"Fameuil\",\"Fameuil\",\"Fameuil\",\"Blacheville\",\"Blacheville\",\"Blacheville\",\"Blacheville\",\"Favourite\",\"Favourite\",\"Favourite\",\"Dahlia\",\"Dahlia\",\"Zephine\",\"Fantine\",\"Fantine\",\"Fantine\",\"Fantine\",\"Fantine\",\"Fantine\",\"MmeThenardier\",\"MmeThenardier\",\"MmeThenardier\",\"MmeThenardier\",\"MmeThenardier\",\"MmeThenardier\",\"MmeThenardier\",\"MmeThenardier\",\"MmeThenardier\",\"Thenardier\",\"Thenardier\",\"Thenardier\",\"Thenardier\",\"Thenardier\",\"Thenardier\",\"Thenardier\",\"Thenardier\",\"Thenardier\",\"Thenardier\",\"Thenardier\",\"Thenardier\",\"Thenardier\",\"Cosette\",\"Cosette\",\"Cosette\",\"Cosette\",\"Cosette\",\"Cosette\",\"Cosette\",\"Javert\",\"Javert\",\"Javert\",\"Javert\",\"Javert\",\"Javert\",\"Javert\",\"Javert\",\"Javert\",\"Javert\",\"Javert\",\"Javert\",\"Fauchelevent\",\"Fauchelevent\",\"Bamatabois\",\"Bamatabois\",\"Bamatabois\",\"Bamatabois\",\"Bamatabois\",\"Perpetue\",\"Judge\",\"Judge\",\"Judge\",\"Judge\",\"Champmathieu\",\"Champmathieu\",\"Champmathieu\",\"Brevet\",\"Brevet\",\"Chenildieu\",\"Pontmercy\",\"Pontmercy\",\"Eponine\",\"Eponine\",\"Eponine\",\"Eponine\",\"Eponine\",\"Eponine\",\"Eponine\",\"Eponine\",\"Eponine\",\"MmeBurgon\",\"MmeBurgon\",\"Gavroche\",\"Gavroche\",\"Gavroche\",\"Gavroche\",\"Gavroche\",\"Gavroche\",\"Gavroche\",\"Gavroche\",\"Gavroche\",\"Gavroche\",\"Gavroche\",\"Gavroche\",\"Gavroche\",\"Gavroche\",\"Gavroche\",\"Gavroche\",\"Gavroche\",\"Gavroche\",\"Gillenormand\",\"Gillenormand\",\"Gillenormand\",\"Gillenormand\",\"Gillenormand\",\"MlleGillenormand\",\"MlleGillenormand\",\"MlleGillenormand\",\"MlleGillenormand\",\"LtGillenormand\",\"Marius\",\"Marius\",\"Marius\",\"Marius\",\"Marius\",\"Marius\",\"Marius\",\"Marius\",\"Marius\",\"Mabeuf\",\"Mabeuf\",\"Mabeuf\",\"Mabeuf\",\"Mabeuf\",\"Mabeuf\",\"Mabeuf\",\"Mabeuf\",\"Enjolras\",\"Enjolras\",\"Enjolras\",\"Enjolras\",\"Enjolras\",\"Enjolras\",\"Enjolras\",\"Enjolras\",\"Enjolras\",\"Enjolras\",\"Combeferre\",\"Combeferre\",\"Combeferre\",\"Combeferre\",\"Combeferre\",\"Combeferre\",\"Combeferre\",\"Prouvaire\",\"Prouvaire\",\"Prouvaire\",\"Prouvaire\",\"Prouvaire\",\"Prouvaire\",\"Feuilly\",\"Feuilly\",\"Feuilly\",\"Feuilly\",\"Feuilly\",\"Courfeyrac\",\"Courfeyrac\",\"Courfeyrac\",\"Courfeyrac\",\"Courfeyrac\",\"Bahorel\",\"Bahorel\",\"Bahorel\",\"Bahorel\",\"Bossuet\",\"Bossuet\",\"Bossuet\",\"Joly\",\"Joly\",\"Grantaire\",\"Gueulemer\",\"Gueulemer\",\"Gueulemer\",\"Gueulemer\",\"Babet\",\"Babet\",\"Babet\",\"Claquesous\",\"Claquesous\",\"Montparnasse\",\"Child1\"]},\"selected\":{\"id\":\"4026\"},\"selection_policy\":{\"id\":\"4025\"}},\"id\":\"3919\",\"type\":\"ColumnDataSource\"},{\"attributes\":{\"edge_renderer\":{\"id\":\"3792\"},\"inspection_policy\":{\"id\":\"3847\"},\"layout_provider\":{\"id\":\"3794\"},\"node_renderer\":{\"id\":\"3788\"},\"selection_policy\":{\"id\":\"3845\"}},\"id\":\"3785\",\"type\":\"GraphRenderer\"},{\"attributes\":{\"source\":{\"id\":\"3915\"}},\"id\":\"3917\",\"type\":\"CDSView\"},{\"attributes\":{\"fill_color\":{\"value\":\"#fdae61\"},\"size\":{\"value\":15}},\"id\":\"3820\",\"type\":\"Circle\"},{\"attributes\":{\"line_color\":{\"value\":\"#fdae61\"},\"line_width\":{\"value\":2}},\"id\":\"3963\",\"type\":\"MultiLine\"},{\"attributes\":{\"graph_layout\":{\"Anzelma\":[0.2498181868449902,0.2993332943879147],\"Babet\":[0.5444837697633584,0.44613790655021895],\"Bahorel\":[0.5548592129183628,0.18936926190293968],\"Bamatabois\":[0.44295169761298464,0.6815526559446666],\"BaronessT\":[0.29397176103195855,0.20424696629425587],\"Blacheville\":[0.18329092944253234,0.6380635631812112],\"Bossuet\":[0.5770048681624906,0.33532158871534146],\"Boulatruelle\":[0.19971791034272152,0.35532505946335546],\"Brevet\":[0.49979956039625084,0.76073189945511],\"Brujon\":[0.4697106781241731,0.28083258538117073],\"Champmathieu\":[0.581196110450599,0.7480573421083622],\"Champtercier\":[0.8534733692515099,0.8110040822510978],\"Chenildieu\":[0.5239636679587429,0.6923097770350474],\"Child1\":[0.7860092034245342,0.2760225493713908],\"Child2\":[0.8067099398593418,0.3382147067457465],\"Claquesous\":[0.4774248340592147,0.44575282580415426],\"Cochepaille\":[0.578530582448629,0.6428578022023055],\"Combeferre\":[0.47615130888100726,0.19249970226201113],\"Cosette\":[0.3777725139022463,0.5277576010207395],\"Count\":[0.7386360347617433,0.8994463592347859],\"CountessDeLo\":[0.9176227142799367,0.682994308781343],\"Courfeyrac\":[0.5150134737415257,0.23159635080501556],\"Cravatte\":[0.7997082422688021,0.8624642275812779],\"Dahlia\":[0.1177823966402538,0.6071081133658827],\"Enjolras\":[0.5439017063989772,0.34801618000756585],\"Eponine\":[0.3831862465075838,0.29699970149264454],\"Fameuil\":[0.16890922019680082,0.7116295468226999],\"Fantine\":[0.31760570500440816,0.6136129102241145],\"Fauchelevent\":[0.45257140126061207,0.7498794582047428],\"Favourite\":[0.1310702323754459,0.6656899114168218],\"Feuilly\":[0.5081766218149514,0.16396824467890758],\"Gavroche\":[0.6062932470398409,0.3449798412484225],\"Geborand\":[0.8935005233897306,0.748817070968314],\"Gervais\":[0.7217803917793535,0.559512934658411],\"Gillenormand\":[0.3659947740473636,0.4277359916115601],\"Grantaire\":[0.6604961362242774,0.18888724622358793],\"Gribier\":[0.42808701016587225,0.9561239994487178],\"Gueulemer\":[0.5167673487835295,0.4105176986736346],\"Isabeau\":[0.7351126736327838,0.5133153442538475],\"Javert\":[0.47139347139800974,0.5250943763182667],\"Joly\":[0.5805565879477783,0.23100474831826373],\"Jondrette\":[0.8982909067497422,0.0945745804249179],\"Judge\":[0.6088507439708724,0.6991770310993832],\"Labarre\":[0.6848554733110792,0.5154685955173359],\"Listolier\":[0.2145526711506749,0.7220635606602963],\"LtGillenormand\":[0.2669367288196576,0.33475833992360493],\"Mabeuf\":[0.4264373100040457,0.19584784838200858],\"Magnon\":[0.15917592610268672,0.429758734414522],\"Marguerite\":[0.39313465228734734,0.7193580820926455],\"Marius\":[0.4347582522425478,0.3653567004215973],\"MlleBaptistine\":[0.7156648324511177,0.6142074089007283],\"MlleGillenormand\":[0.32173662993225727,0.469582911504409],\"MlleVaubois\":[0.09387353597454584,0.46946971970944196],\"MmeBurgon\":[0.7714354902398749,0.2199256134054119],\"MmeDeR\":[0.7092081401821345,0.4734559915452772],\"MmeHucheloup\":[0.7012032373156603,0.24194215252456153],\"MmeMagloire\":[0.6547436483498965,0.6782058332421009],\"MmePontmercy\":[0.13582488215053745,0.3178159988929994],\"MmeThenardier\":[0.36407215708277174,0.4907216889303236],\"Montparnasse\":[0.5929719685080452,0.4283598555384953],\"MotherInnocent\":[0.5442766386713076,0.7535080475550677],\"MotherPlutarch\":[0.403452848128229,0.0],\"Myriel\":[0.7231225640118338,0.7048695583139735],\"Napoleon\":[0.9278486345083584,0.6173206943532425],\"OldMan\":[0.6739900855141292,0.9231898945279806],\"Perpetue\":[0.26114024921875867,0.8309999359030681],\"Pontmercy\":[0.290401001069591,0.2545441499837414],\"Prouvaire\":[0.6245861148808926,0.14936789514554888],\"Scaufflaire\":[0.6658419006145032,0.6131138135529056],\"Simplice\":[0.3753142192088072,0.6850462555518427],\"Thenardier\":[0.41426965618261086,0.4295915187502531],\"Tholomyes\":[0.23002062666803003,0.5114133250404825],\"Toussaint\":[0.46930083232598474,0.6344340857084078],\"Valjean\":[0.5275458334791585,0.5530879377294862],\"Woman1\":[0.6320428542468937,0.5605567114223127],\"Woman2\":[0.4049570742479953,0.6320100072171054],\"Zephine\":[0.13315541566219236,0.5621097876986525]}},\"id\":\"3922\",\"type\":\"StaticLayoutProvider\"},{\"attributes\":{\"data_source\":{\"id\":\"3919\"},\"glyph\":{\"id\":\"3958\"},\"hover_glyph\":{\"id\":\"3968\"},\"muted_glyph\":null,\"selection_glyph\":{\"id\":\"3963\"},\"view\":{\"id\":\"3921\"}},\"id\":\"3920\",\"type\":\"GlyphRenderer\"},{\"attributes\":{\"source\":{\"id\":\"3919\"}},\"id\":\"3921\",\"type\":\"CDSView\"},{\"attributes\":{\"end\":1.1,\"start\":-0.1},\"id\":\"3795\",\"type\":\"Range1d\"},{\"attributes\":{\"end\":1.1,\"start\":-0.1},\"id\":\"3924\",\"type\":\"Range1d\"},{\"attributes\":{\"callback\":null,\"tooltips\":[[\"id\",\"@id\"]]},\"id\":\"3930\",\"type\":\"HoverTool\"},{\"attributes\":{\"data_source\":{\"id\":\"3787\"},\"glyph\":{\"id\":\"3815\"},\"hover_glyph\":{\"id\":\"3825\"},\"muted_glyph\":null,\"selection_glyph\":{\"id\":\"3820\"},\"view\":{\"id\":\"3789\"}},\"id\":\"3788\",\"type\":\"GlyphRenderer\"},{\"attributes\":{},\"id\":\"4008\",\"type\":\"UnionRenderers\"},{\"attributes\":{},\"id\":\"4009\",\"type\":\"Selection\"},{\"attributes\":{\"height\":300,\"renderers\":[{\"id\":\"3913\"}],\"title\":{\"id\":\"3928\"},\"toolbar\":{\"id\":\"3934\"},\"toolbar_location\":null,\"width\":300,\"x_range\":{\"id\":\"3923\"},\"x_scale\":{\"id\":\"4014\"},\"y_range\":{\"id\":\"3924\"},\"y_scale\":{\"id\":\"4013\"}},\"id\":\"3925\",\"type\":\"Plot\"},{\"attributes\":{\"text\":\"Betweenness centrality\"},\"id\":\"3928\",\"type\":\"Title\"},{\"attributes\":{\"end\":1.1,\"start\":-0.1},\"id\":\"3859\",\"type\":\"Range1d\"},{\"attributes\":{},\"id\":\"3929\",\"type\":\"PanTool\"}],\"root_ids\":[\"4031\"]},\"title\":\"Bokeh Application\",\"version\":\"2.3.1\"}};\n",
       "  var render_items = [{\"docid\":\"2a151fff-3b92-4143-bb71-1536af3a69d4\",\"root_ids\":[\"4031\"],\"roots\":{\"4031\":\"64f3a240-e651-4701-90ab-2a811c0900e4\"}}];\n",
       "  root.Bokeh.embed.embed_items_notebook(docs_json, render_items);\n",
       "\n",
       "  }\n",
       "  if (root.Bokeh !== undefined) {\n",
       "    embed_document(root);\n",
       "  } else {\n",
       "    var attempts = 0;\n",
       "    var timer = setInterval(function(root) {\n",
       "      if (root.Bokeh !== undefined) {\n",
       "        clearInterval(timer);\n",
       "        embed_document(root);\n",
       "      } else {\n",
       "        attempts++;\n",
       "        if (attempts > 100) {\n",
       "          clearInterval(timer);\n",
       "          console.log(\"Bokeh: ERROR: Unable to run BokehJS code because BokehJS library is missing\");\n",
       "        }\n",
       "      }\n",
       "    }, 10, root)\n",
       "  }\n",
       "})(window);"
      ],
      "application/vnd.bokehjs_exec.v0+json": ""
     },
     "metadata": {
      "application/vnd.bokehjs_exec.v0+json": {
       "id": "4031"
      }
     },
     "output_type": "display_data"
    }
   ],
   "source": [
    "# Get the Les Misérables network\n",
    "G = Network.from_networkx(nx.generators.social.les_miserables_graph())\n",
    "\n",
    "# Calculate centrality and get a set of colors\n",
    "degree_colors = color_from_degree_centrality(G, colormap='YlOrRd')\n",
    "betweenness_colors = color_from_betweenness_centrality(G, colormap='YlOrRd')\n",
    "closeness_colors = color_from_closeness_centrality(G, colormap='YlOrRd')\n",
    "\n",
    "# Arrange plots\n",
    "g1 = G.plot(nx.kamada_kawai_layout, \n",
    "       fill_color=degree_colors,\n",
    "       title='Degree centrality')\n",
    "\n",
    "g2 = G.plot(nx.kamada_kawai_layout, \n",
    "       fill_color=closeness_colors,\n",
    "       title='Closeness centrality')\n",
    "\n",
    "g3 = G.plot(nx.kamada_kawai_layout, \n",
    "       title='Betweenness centrality',\n",
    "       fill_color=betweenness_colors)\n",
    "\n",
    "grid = gridplot([[g1, g2, g3]], plot_width=300, plot_height=300)\n",
    "show(grid)"
   ]
  },
  {
   "cell_type": "markdown",
   "metadata": {},
   "source": [
    "En *brygga* är formellt en kant som sammankopplar två **undernätverk**, och utan denna kant skulle nätverken vara frikopplade varandra. I en mindre formell betydelse är en brygga en eller fler individer som sammankopplar nätverken. Detta begrepp är djupt sammankopplat med betweenness som ju är andelen kortaste vägar genom en viss nod. Ofta används betweenness just för att identifiera bryggor i större nätverk."
   ]
  },
  {
   "cell_type": "code",
   "execution_count": 23,
   "metadata": {},
   "outputs": [
    {
     "data": {
      "text/html": [
       "\n",
       "\n",
       "\n",
       "\n",
       "\n",
       "\n",
       "  <div class=\"bk-root\" id=\"379c9d3a-a41a-4dda-b84a-041627a989e5\" data-root-id=\"4568\"></div>\n"
      ]
     },
     "metadata": {},
     "output_type": "display_data"
    },
    {
     "data": {
      "application/javascript": [
       "(function(root) {\n",
       "  function embed_document(root) {\n",
       "    \n",
       "  var docs_json = {\"c189802d-024b-4db8-a461-f5265d0153a4\":{\"defs\":[],\"roots\":{\"references\":[{\"attributes\":{\"height\":400,\"renderers\":[{\"id\":\"4556\"}],\"title\":{\"id\":\"4571\"},\"toolbar\":{\"id\":\"4577\"},\"width\":400,\"x_range\":{\"id\":\"4566\"},\"x_scale\":{\"id\":\"4847\"},\"y_range\":{\"id\":\"4567\"},\"y_scale\":{\"id\":\"4846\"}},\"id\":\"4568\",\"type\":\"Plot\"},{\"attributes\":{\"source\":{\"id\":\"4562\"}},\"id\":\"4564\",\"type\":\"CDSView\"},{\"attributes\":{},\"id\":\"4856\",\"type\":\"UnionRenderers\"},{\"attributes\":{\"data\":{\"end\":[4,5,2,3,4,3,6,5],\"start\":[7,7,1,1,1,2,4,6]},\"selected\":{\"id\":\"4859\"},\"selection_policy\":{\"id\":\"4858\"}},\"id\":\"4562\",\"type\":\"ColumnDataSource\"},{\"attributes\":{},\"id\":\"4846\",\"type\":\"LinearScale\"},{\"attributes\":{\"text\":\"Interactive graph\"},\"id\":\"4571\",\"type\":\"Title\"},{\"attributes\":{\"source\":{\"id\":\"4558\"}},\"id\":\"4560\",\"type\":\"CDSView\"},{\"attributes\":{\"line_color\":{\"value\":\"#fdae61\"},\"line_width\":{\"value\":2}},\"id\":\"4606\",\"type\":\"MultiLine\"},{\"attributes\":{\"callback\":null,\"tooltips\":[[\"id\",\"@id\"]]},\"id\":\"4573\",\"type\":\"HoverTool\"},{\"attributes\":{},\"id\":\"4857\",\"type\":\"Selection\"},{\"attributes\":{\"fill_alpha\":{\"value\":0.5},\"fill_color\":{\"field\":\"colors\"},\"size\":{\"value\":15}},\"id\":\"4586\",\"type\":\"Circle\"},{\"attributes\":{\"line_alpha\":{\"value\":0.5},\"line_color\":{\"value\":\"#CCCCCC\"},\"line_width\":{\"value\":2}},\"id\":\"4601\",\"type\":\"MultiLine\"},{\"attributes\":{\"line_color\":{\"value\":\"#abdda4\"},\"line_width\":{\"value\":2}},\"id\":\"4611\",\"type\":\"MultiLine\"},{\"attributes\":{\"fill_color\":{\"value\":\"#fdae61\"},\"size\":{\"value\":15}},\"id\":\"4591\",\"type\":\"Circle\"},{\"attributes\":{\"end\":1.1,\"start\":-0.1},\"id\":\"4566\",\"type\":\"Range1d\"},{\"attributes\":{\"end\":1.1,\"start\":-0.1},\"id\":\"4567\",\"type\":\"Range1d\"},{\"attributes\":{\"graph_layout\":{\"1\":[0.37996536744796294,0.7049232312576638],\"2\":[0.3702483144297066,1.0],\"3\":[0.1273394898852963,0.8577140268395611],\"4\":[0.5342450010900301,0.4415369846516667],\"5\":[0.7763660729864199,0.02818992306837531],\"6\":[0.4776594350450832,0.12940170691856767],\"7\":[0.8341763191155009,0.33823412726416535]}},\"id\":\"4565\",\"type\":\"StaticLayoutProvider\"},{\"attributes\":{},\"id\":\"4858\",\"type\":\"UnionRenderers\"},{\"attributes\":{\"fill_color\":{\"value\":\"#abdda4\"},\"size\":{\"value\":15}},\"id\":\"4596\",\"type\":\"Circle\"},{\"attributes\":{},\"id\":\"4616\",\"type\":\"NodesAndLinkedEdges\"},{\"attributes\":{\"data_source\":{\"id\":\"4558\"},\"glyph\":{\"id\":\"4586\"},\"hover_glyph\":{\"id\":\"4596\"},\"muted_glyph\":null,\"selection_glyph\":{\"id\":\"4591\"},\"view\":{\"id\":\"4560\"}},\"id\":\"4559\",\"type\":\"GlyphRenderer\"},{\"attributes\":{},\"id\":\"4572\",\"type\":\"PanTool\"},{\"attributes\":{},\"id\":\"4618\",\"type\":\"NodesOnly\"},{\"attributes\":{},\"id\":\"4859\",\"type\":\"Selection\"},{\"attributes\":{\"edge_renderer\":{\"id\":\"4563\"},\"inspection_policy\":{\"id\":\"4618\"},\"layout_provider\":{\"id\":\"4565\"},\"node_renderer\":{\"id\":\"4559\"},\"selection_policy\":{\"id\":\"4616\"}},\"id\":\"4556\",\"type\":\"GraphRenderer\"},{\"attributes\":{\"data_source\":{\"id\":\"4562\"},\"glyph\":{\"id\":\"4601\"},\"hover_glyph\":{\"id\":\"4611\"},\"muted_glyph\":null,\"selection_glyph\":{\"id\":\"4606\"},\"view\":{\"id\":\"4564\"}},\"id\":\"4563\",\"type\":\"GlyphRenderer\"},{\"attributes\":{},\"id\":\"4847\",\"type\":\"LinearScale\"},{\"attributes\":{},\"id\":\"4575\",\"type\":\"ZoomInTool\"},{\"attributes\":{\"callback\":null},\"id\":\"4574\",\"type\":\"TapTool\"},{\"attributes\":{\"data\":{\"colors\":[\"#fee084\",\"#c70723\",\"#ffffcc\",\"#ffffcc\",\"#800026\",\"#fee084\",\"#fff8ba\"],\"id\":[7,null,null,null,null,null,null],\"index\":[7,1,2,3,4,6,5]},\"selected\":{\"id\":\"4857\"},\"selection_policy\":{\"id\":\"4856\"}},\"id\":\"4558\",\"type\":\"ColumnDataSource\"},{\"attributes\":{\"active_multi\":null,\"tools\":[{\"id\":\"4572\"},{\"id\":\"4573\"},{\"id\":\"4574\"},{\"id\":\"4575\"},{\"id\":\"4576\"}]},\"id\":\"4577\",\"type\":\"Toolbar\"},{\"attributes\":{},\"id\":\"4576\",\"type\":\"ZoomOutTool\"}],\"root_ids\":[\"4568\"]},\"title\":\"Bokeh Application\",\"version\":\"2.3.1\"}};\n",
       "  var render_items = [{\"docid\":\"c189802d-024b-4db8-a461-f5265d0153a4\",\"root_ids\":[\"4568\"],\"roots\":{\"4568\":\"379c9d3a-a41a-4dda-b84a-041627a989e5\"}}];\n",
       "  root.Bokeh.embed.embed_items_notebook(docs_json, render_items);\n",
       "\n",
       "  }\n",
       "  if (root.Bokeh !== undefined) {\n",
       "    embed_document(root);\n",
       "  } else {\n",
       "    var attempts = 0;\n",
       "    var timer = setInterval(function(root) {\n",
       "      if (root.Bokeh !== undefined) {\n",
       "        clearInterval(timer);\n",
       "        embed_document(root);\n",
       "      } else {\n",
       "        attempts++;\n",
       "        if (attempts > 100) {\n",
       "          clearInterval(timer);\n",
       "          console.log(\"Bokeh: ERROR: Unable to run BokehJS code because BokehJS library is missing\");\n",
       "        }\n",
       "      }\n",
       "    }, 10, root)\n",
       "  }\n",
       "})(window);"
      ],
      "application/vnd.bokehjs_exec.v0+json": ""
     },
     "metadata": {
      "application/vnd.bokehjs_exec.v0+json": {
       "id": "4568"
      }
     },
     "output_type": "display_data"
    }
   ],
   "source": [
    "G = Network(BRIDGES_V, BRIDGES_E)\n",
    "\n",
    "betweenness_colors = color_from_betweenness_centrality(G, colormap='YlOrRd')\n",
    "show(\n",
    "    G.plot(nx.kamada_kawai_layout,\n",
    "            fill_color=betweenness_colors)\n",
    "    )"
   ]
  },
  {
   "cell_type": "code",
   "execution_count": null,
   "metadata": {},
   "outputs": [],
   "source": []
  }
 ],
 "metadata": {
  "kernelspec": {
   "display_name": "digitala-metoder",
   "language": "python",
   "name": "digitala-metoder"
  },
  "language_info": {
   "codemirror_mode": {
    "name": "ipython",
    "version": 3
   },
   "file_extension": ".py",
   "mimetype": "text/x-python",
   "name": "python",
   "nbconvert_exporter": "python",
   "pygments_lexer": "ipython3",
   "version": "3.8.8"
  },
  "metadata": {
   "interpreter": {
    "hash": "688874dd1d80680adcf6db544b664bcde147180847f534e46079a35e1362607b"
   }
  }
 },
 "nbformat": 4,
 "nbformat_minor": 2
}
